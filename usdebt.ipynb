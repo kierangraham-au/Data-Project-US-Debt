{
 "metadata": {
  "language_info": {
   "codemirror_mode": {
    "name": "ipython",
    "version": 3
   },
   "file_extension": ".py",
   "mimetype": "text/x-python",
   "name": "python",
   "nbconvert_exporter": "python",
   "pygments_lexer": "ipython3",
   "version": "3.8.8"
  },
  "orig_nbformat": 4,
  "kernelspec": {
   "name": "python3",
   "display_name": "Python 3.8.8 64-bit ('base': conda)"
  },
  "interpreter": {
   "hash": "dfa9a9b2480e35abc07bacabfdb453bd2a80584328a96563325b465c8ec2f4c9"
  }
 },
 "nbformat": 4,
 "nbformat_minor": 2,
 "cells": [
  {
   "source": [
    "# MSPD\n",
    "\n",
    "\n",
    "\n",
    "Monthly Statement of the Public Debt [MSPD] (https://fiscaldata.treasury.gov/static-data/MSPD_SumSecty_5_years.csv.zip) (USD)"
   ],
   "cell_type": "markdown",
   "metadata": {}
  },
  {
   "cell_type": "code",
   "execution_count": 72,
   "metadata": {},
   "outputs": [],
   "source": [
    "import matplotlib\n",
    "import matplotlib.pyplot as plt\n",
    "import numpy as np\n",
    "import pandas as pd\n",
    "import os\n",
    "import datetime"
   ]
  },
  {
   "cell_type": "code",
   "execution_count": 73,
   "metadata": {},
   "outputs": [],
   "source": [
    "%matplotlib inline"
   ]
  },
  {
   "cell_type": "code",
   "execution_count": 74,
   "metadata": {},
   "outputs": [],
   "source": [
    "plt.rcParams['figure.figsize'] = (10, 5)"
   ]
  },
  {
   "cell_type": "code",
   "execution_count": 75,
   "metadata": {},
   "outputs": [],
   "source": [
    "saved_style_state = matplotlib.rcParams.copy() #give us a style state to go back to"
   ]
  },
  {
   "cell_type": "code",
   "execution_count": 76,
   "metadata": {},
   "outputs": [
    {
     "output_type": "stream",
     "name": "stdout",
     "text": [
      "loading from file\ndone\n"
     ]
    }
   ],
   "source": [
    "if os.path.isfile(\"MSPD_SumSecty_all_years.csv\"):\n",
    "    filepath = \"MSPD_SumSecty_all_years.csv\"\n",
    "    print(\"loading from file\")\n",
    "else:\n",
    "    filepath = \"https://fiscaldata.treasury.gov/static-data/MSPD_SumSecty_5_years.csv.zip\"\n",
    "    print(\"loading from the internet\")\n",
    "\n",
    "df = pd.read_csv(filepath)\n",
    "print(\"done\")"
   ]
  },
  {
   "cell_type": "code",
   "execution_count": 77,
   "metadata": {},
   "outputs": [
    {
     "output_type": "execute_result",
     "data": {
      "text/plain": [
       "   Record_Date      Security_Type_Description  \\\n",
       "0   31/05/2021                     Marketable   \n",
       "1   31/05/2021                     Marketable   \n",
       "2   31/05/2021                     Marketable   \n",
       "3   31/05/2021                     Marketable   \n",
       "4   31/05/2021                     Marketable   \n",
       "5   31/05/2021                     Marketable   \n",
       "6   31/05/2021               Total Marketable   \n",
       "7   31/05/2021                  Nonmarketable   \n",
       "8   31/05/2021                  Nonmarketable   \n",
       "9   31/05/2021                  Nonmarketable   \n",
       "10  31/05/2021                  Nonmarketable   \n",
       "11  31/05/2021                  Nonmarketable   \n",
       "12  31/05/2021                  Nonmarketable   \n",
       "13  31/05/2021            Total Nonmarketable   \n",
       "14  31/05/2021  Total Public Debt Outstanding   \n",
       "\n",
       "                 Security_Class_Description  Debt_Held_by_the_PublicM  \\\n",
       "0                                     Bills              4.375781e+06   \n",
       "1                                     Notes              1.182116e+07   \n",
       "2                                     Bonds              3.087149e+06   \n",
       "3   Treasury Inflation-Protected Securities              1.584621e+06   \n",
       "4                       Floating Rate Notes              5.273868e+05   \n",
       "5                    Federal Financing Bank              0.000000e+00   \n",
       "6                                         _              2.139610e+07   \n",
       "7                           Domestic Series              5.307535e+04   \n",
       "8                            Foreign Series              2.643420e+02   \n",
       "9         State and Local Government Series              1.253390e+05   \n",
       "10         United States Savings Securities              1.449151e+05   \n",
       "11                Government Account Series              2.982951e+05   \n",
       "12                                    Other              2.954593e+03   \n",
       "13                                        _              6.248435e+05   \n",
       "14                                        _              2.202094e+07   \n",
       "\n",
       "    Intragovernmental_HoldingsM  Total_Public_Debt_OutstandingM  \\\n",
       "0                  1.296420e+03                    4.377078e+06   \n",
       "1                  9.198022e+03                    1.183035e+07   \n",
       "2                  6.689686e+03                    3.093839e+06   \n",
       "3                  7.029200e+02                    1.585324e+06   \n",
       "4                  8.244500e+01                    5.274693e+05   \n",
       "5                  7.261857e+03                    7.261857e+03   \n",
       "6                  2.523135e+04                    2.142133e+07   \n",
       "7                  0.000000e+00                    5.307535e+04   \n",
       "8                  0.000000e+00                    2.643420e+02   \n",
       "9                  0.000000e+00                    1.253390e+05   \n",
       "10                 0.000000e+00                    1.449151e+05   \n",
       "11                 6.152838e+06                    6.451133e+06   \n",
       "12                 0.000000e+00                    2.954593e+03   \n",
       "13                 6.152838e+06                    6.777681e+06   \n",
       "14                 6.178069e+06                    2.819901e+07   \n",
       "\n",
       "    Source_Line_Number  Fiscal_Year  Fiscal_Quarter_Number  Calendar_Year  \\\n",
       "0                    1         2021                      3           2021   \n",
       "1                    2         2021                      3           2021   \n",
       "2                    3         2021                      3           2021   \n",
       "3                    4         2021                      3           2021   \n",
       "4                    5         2021                      3           2021   \n",
       "5                    6         2021                      3           2021   \n",
       "6                    7         2021                      3           2021   \n",
       "7                    8         2021                      3           2021   \n",
       "8                    9         2021                      3           2021   \n",
       "9                   10         2021                      3           2021   \n",
       "10                  11         2021                      3           2021   \n",
       "11                  12         2021                      3           2021   \n",
       "12                  13         2021                      3           2021   \n",
       "13                  14         2021                      3           2021   \n",
       "14                  15         2021                      3           2021   \n",
       "\n",
       "    Calendar_Quarter_Number  Calendar_Month_Number  Calendar_Day_Number  \n",
       "0                         2                      5                   31  \n",
       "1                         2                      5                   31  \n",
       "2                         2                      5                   31  \n",
       "3                         2                      5                   31  \n",
       "4                         2                      5                   31  \n",
       "5                         2                      5                   31  \n",
       "6                         2                      5                   31  \n",
       "7                         2                      5                   31  \n",
       "8                         2                      5                   31  \n",
       "9                         2                      5                   31  \n",
       "10                        2                      5                   31  \n",
       "11                        2                      5                   31  \n",
       "12                        2                      5                   31  \n",
       "13                        2                      5                   31  \n",
       "14                        2                      5                   31  "
      ],
      "text/html": "<div>\n<style scoped>\n    .dataframe tbody tr th:only-of-type {\n        vertical-align: middle;\n    }\n\n    .dataframe tbody tr th {\n        vertical-align: top;\n    }\n\n    .dataframe thead th {\n        text-align: right;\n    }\n</style>\n<table border=\"1\" class=\"dataframe\">\n  <thead>\n    <tr style=\"text-align: right;\">\n      <th></th>\n      <th>Record_Date</th>\n      <th>Security_Type_Description</th>\n      <th>Security_Class_Description</th>\n      <th>Debt_Held_by_the_PublicM</th>\n      <th>Intragovernmental_HoldingsM</th>\n      <th>Total_Public_Debt_OutstandingM</th>\n      <th>Source_Line_Number</th>\n      <th>Fiscal_Year</th>\n      <th>Fiscal_Quarter_Number</th>\n      <th>Calendar_Year</th>\n      <th>Calendar_Quarter_Number</th>\n      <th>Calendar_Month_Number</th>\n      <th>Calendar_Day_Number</th>\n    </tr>\n  </thead>\n  <tbody>\n    <tr>\n      <th>0</th>\n      <td>31/05/2021</td>\n      <td>Marketable</td>\n      <td>Bills</td>\n      <td>4.375781e+06</td>\n      <td>1.296420e+03</td>\n      <td>4.377078e+06</td>\n      <td>1</td>\n      <td>2021</td>\n      <td>3</td>\n      <td>2021</td>\n      <td>2</td>\n      <td>5</td>\n      <td>31</td>\n    </tr>\n    <tr>\n      <th>1</th>\n      <td>31/05/2021</td>\n      <td>Marketable</td>\n      <td>Notes</td>\n      <td>1.182116e+07</td>\n      <td>9.198022e+03</td>\n      <td>1.183035e+07</td>\n      <td>2</td>\n      <td>2021</td>\n      <td>3</td>\n      <td>2021</td>\n      <td>2</td>\n      <td>5</td>\n      <td>31</td>\n    </tr>\n    <tr>\n      <th>2</th>\n      <td>31/05/2021</td>\n      <td>Marketable</td>\n      <td>Bonds</td>\n      <td>3.087149e+06</td>\n      <td>6.689686e+03</td>\n      <td>3.093839e+06</td>\n      <td>3</td>\n      <td>2021</td>\n      <td>3</td>\n      <td>2021</td>\n      <td>2</td>\n      <td>5</td>\n      <td>31</td>\n    </tr>\n    <tr>\n      <th>3</th>\n      <td>31/05/2021</td>\n      <td>Marketable</td>\n      <td>Treasury Inflation-Protected Securities</td>\n      <td>1.584621e+06</td>\n      <td>7.029200e+02</td>\n      <td>1.585324e+06</td>\n      <td>4</td>\n      <td>2021</td>\n      <td>3</td>\n      <td>2021</td>\n      <td>2</td>\n      <td>5</td>\n      <td>31</td>\n    </tr>\n    <tr>\n      <th>4</th>\n      <td>31/05/2021</td>\n      <td>Marketable</td>\n      <td>Floating Rate Notes</td>\n      <td>5.273868e+05</td>\n      <td>8.244500e+01</td>\n      <td>5.274693e+05</td>\n      <td>5</td>\n      <td>2021</td>\n      <td>3</td>\n      <td>2021</td>\n      <td>2</td>\n      <td>5</td>\n      <td>31</td>\n    </tr>\n    <tr>\n      <th>5</th>\n      <td>31/05/2021</td>\n      <td>Marketable</td>\n      <td>Federal Financing Bank</td>\n      <td>0.000000e+00</td>\n      <td>7.261857e+03</td>\n      <td>7.261857e+03</td>\n      <td>6</td>\n      <td>2021</td>\n      <td>3</td>\n      <td>2021</td>\n      <td>2</td>\n      <td>5</td>\n      <td>31</td>\n    </tr>\n    <tr>\n      <th>6</th>\n      <td>31/05/2021</td>\n      <td>Total Marketable</td>\n      <td>_</td>\n      <td>2.139610e+07</td>\n      <td>2.523135e+04</td>\n      <td>2.142133e+07</td>\n      <td>7</td>\n      <td>2021</td>\n      <td>3</td>\n      <td>2021</td>\n      <td>2</td>\n      <td>5</td>\n      <td>31</td>\n    </tr>\n    <tr>\n      <th>7</th>\n      <td>31/05/2021</td>\n      <td>Nonmarketable</td>\n      <td>Domestic Series</td>\n      <td>5.307535e+04</td>\n      <td>0.000000e+00</td>\n      <td>5.307535e+04</td>\n      <td>8</td>\n      <td>2021</td>\n      <td>3</td>\n      <td>2021</td>\n      <td>2</td>\n      <td>5</td>\n      <td>31</td>\n    </tr>\n    <tr>\n      <th>8</th>\n      <td>31/05/2021</td>\n      <td>Nonmarketable</td>\n      <td>Foreign Series</td>\n      <td>2.643420e+02</td>\n      <td>0.000000e+00</td>\n      <td>2.643420e+02</td>\n      <td>9</td>\n      <td>2021</td>\n      <td>3</td>\n      <td>2021</td>\n      <td>2</td>\n      <td>5</td>\n      <td>31</td>\n    </tr>\n    <tr>\n      <th>9</th>\n      <td>31/05/2021</td>\n      <td>Nonmarketable</td>\n      <td>State and Local Government Series</td>\n      <td>1.253390e+05</td>\n      <td>0.000000e+00</td>\n      <td>1.253390e+05</td>\n      <td>10</td>\n      <td>2021</td>\n      <td>3</td>\n      <td>2021</td>\n      <td>2</td>\n      <td>5</td>\n      <td>31</td>\n    </tr>\n    <tr>\n      <th>10</th>\n      <td>31/05/2021</td>\n      <td>Nonmarketable</td>\n      <td>United States Savings Securities</td>\n      <td>1.449151e+05</td>\n      <td>0.000000e+00</td>\n      <td>1.449151e+05</td>\n      <td>11</td>\n      <td>2021</td>\n      <td>3</td>\n      <td>2021</td>\n      <td>2</td>\n      <td>5</td>\n      <td>31</td>\n    </tr>\n    <tr>\n      <th>11</th>\n      <td>31/05/2021</td>\n      <td>Nonmarketable</td>\n      <td>Government Account Series</td>\n      <td>2.982951e+05</td>\n      <td>6.152838e+06</td>\n      <td>6.451133e+06</td>\n      <td>12</td>\n      <td>2021</td>\n      <td>3</td>\n      <td>2021</td>\n      <td>2</td>\n      <td>5</td>\n      <td>31</td>\n    </tr>\n    <tr>\n      <th>12</th>\n      <td>31/05/2021</td>\n      <td>Nonmarketable</td>\n      <td>Other</td>\n      <td>2.954593e+03</td>\n      <td>0.000000e+00</td>\n      <td>2.954593e+03</td>\n      <td>13</td>\n      <td>2021</td>\n      <td>3</td>\n      <td>2021</td>\n      <td>2</td>\n      <td>5</td>\n      <td>31</td>\n    </tr>\n    <tr>\n      <th>13</th>\n      <td>31/05/2021</td>\n      <td>Total Nonmarketable</td>\n      <td>_</td>\n      <td>6.248435e+05</td>\n      <td>6.152838e+06</td>\n      <td>6.777681e+06</td>\n      <td>14</td>\n      <td>2021</td>\n      <td>3</td>\n      <td>2021</td>\n      <td>2</td>\n      <td>5</td>\n      <td>31</td>\n    </tr>\n    <tr>\n      <th>14</th>\n      <td>31/05/2021</td>\n      <td>Total Public Debt Outstanding</td>\n      <td>_</td>\n      <td>2.202094e+07</td>\n      <td>6.178069e+06</td>\n      <td>2.819901e+07</td>\n      <td>15</td>\n      <td>2021</td>\n      <td>3</td>\n      <td>2021</td>\n      <td>2</td>\n      <td>5</td>\n      <td>31</td>\n    </tr>\n  </tbody>\n</table>\n</div>"
     },
     "metadata": {},
     "execution_count": 77
    }
   ],
   "source": [
    "df.head(15)"
   ]
  },
  {
   "cell_type": "code",
   "execution_count": 78,
   "metadata": {},
   "outputs": [
    {
     "output_type": "execute_result",
     "data": {
      "text/plain": [
       "Index(['Record_Date', 'Security_Type_Description',\n",
       "       'Security_Class_Description', 'Debt_Held_by_the_PublicM',\n",
       "       'Intragovernmental_HoldingsM', 'Total_Public_Debt_OutstandingM',\n",
       "       'Source_Line_Number', 'Fiscal_Year', 'Fiscal_Quarter_Number',\n",
       "       'Calendar_Year', 'Calendar_Quarter_Number', 'Calendar_Month_Number',\n",
       "       'Calendar_Day_Number'],\n",
       "      dtype='object')"
      ]
     },
     "metadata": {},
     "execution_count": 78
    }
   ],
   "source": [
    "df.columns"
   ]
  },
  {
   "cell_type": "code",
   "execution_count": 79,
   "metadata": {},
   "outputs": [
    {
     "output_type": "execute_result",
     "data": {
      "text/plain": [
       "Record_Date                        31/05/2021\n",
       "Security_Type_Description          Marketable\n",
       "Security_Class_Description              Notes\n",
       "Debt_Held_by_the_PublicM          11821156.92\n",
       "Intragovernmental_HoldingsM         9198.0221\n",
       "Total_Public_Debt_OutstandingM    11830354.94\n",
       "Source_Line_Number                          2\n",
       "Fiscal_Year                              2021\n",
       "Fiscal_Quarter_Number                       3\n",
       "Calendar_Year                            2021\n",
       "Calendar_Quarter_Number                     2\n",
       "Calendar_Month_Number                       5\n",
       "Calendar_Day_Number                        31\n",
       "Name: 1, dtype: object"
      ]
     },
     "metadata": {},
     "execution_count": 79
    }
   ],
   "source": [
    "row_one = df.iloc[1]\n",
    "row_one\n",
    "#row_two = marketbills_data.iloc[2]\n",
    "#row_two\n",
    "#row_three = marketnotes_data.iloc[3]\n",
    "#row_four = marketbonds_data.iloc[4]\n",
    "#row_five = markettreasury_data.iloc[5]\n",
    "#row_six = marketfloating_data.iloc[6]\n",
    "#row_seven = marketfed_data.iloc[7]\n",
    "#row_eight = markettotal_data.iloc[8]\n",
    "#row_nine = nonmarkdomestic_data[9]\n",
    "#row_ten = nonmarkforeign_data.iloc[10]\n",
    "#row_eleven = nonmarkstatelocal_data[11]\n",
    "#row_twelve = nonmarkussavings_data[12]\n",
    "#row_thirteen = nonmarkgov_data.iloc[13]\n",
    "#row_fourteen = nonmarkother_data.iloc[14]\n",
    "#row_fifteen = totalnonmark_data.iloc[15]\n",
    "#row_sixteen = totalpublic_data.iloc[16]"
   ]
  },
  {
   "cell_type": "code",
   "execution_count": 80,
   "metadata": {},
   "outputs": [
    {
     "output_type": "execute_result",
     "data": {
      "text/plain": [
       "0       31/05/2021\n",
       "1       31/05/2021\n",
       "2       31/05/2021\n",
       "3       31/05/2021\n",
       "4       31/05/2021\n",
       "           ...    \n",
       "3750    31/01/2001\n",
       "3751    31/01/2001\n",
       "3752    31/01/2001\n",
       "3753    31/01/2001\n",
       "3754    31/01/2001\n",
       "Name: Record_Date, Length: 3755, dtype: object"
      ]
     },
     "metadata": {},
     "execution_count": 80
    }
   ],
   "source": [
    "df['Record_Date']"
   ]
  },
  {
   "cell_type": "code",
   "execution_count": 81,
   "metadata": {},
   "outputs": [
    {
     "output_type": "execute_result",
     "data": {
      "text/plain": [
       "(3755, 13)"
      ]
     },
     "metadata": {},
     "execution_count": 81
    }
   ],
   "source": [
    "df.shape #rows and Columns"
   ]
  },
  {
   "cell_type": "code",
   "execution_count": 82,
   "metadata": {},
   "outputs": [
    {
     "output_type": "stream",
     "name": "stdout",
     "text": [
      "<class 'pandas.core.frame.DataFrame'>\nRangeIndex: 3755 entries, 0 to 3754\nData columns (total 13 columns):\n #   Column                          Non-Null Count  Dtype  \n---  ------                          --------------  -----  \n 0   Record_Date                     3755 non-null   object \n 1   Security_Type_Description       3755 non-null   object \n 2   Security_Class_Description      3755 non-null   object \n 3   Debt_Held_by_the_PublicM        3755 non-null   float64\n 4   Intragovernmental_HoldingsM     3755 non-null   float64\n 5   Total_Public_Debt_OutstandingM  3755 non-null   float64\n 6   Source_Line_Number              3755 non-null   int64  \n 7   Fiscal_Year                     3755 non-null   int64  \n 8   Fiscal_Quarter_Number           3755 non-null   int64  \n 9   Calendar_Year                   3755 non-null   int64  \n 10  Calendar_Quarter_Number         3755 non-null   int64  \n 11  Calendar_Month_Number           3755 non-null   int64  \n 12  Calendar_Day_Number             3755 non-null   int64  \ndtypes: float64(3), int64(7), object(3)\nmemory usage: 381.5+ KB\n"
     ]
    }
   ],
   "source": [
    "df.info() #index, datatype and memory information"
   ]
  },
  {
   "cell_type": "code",
   "execution_count": 83,
   "metadata": {},
   "outputs": [
    {
     "output_type": "execute_result",
     "data": {
      "text/plain": [
       "       Debt_Held_by_the_PublicM  Intragovernmental_HoldingsM  \\\n",
       "count              3.755000e+03                 3.755000e+03   \n",
       "mean               1.910304e+06                 8.668278e+05   \n",
       "std                3.851522e+06                 1.817929e+06   \n",
       "min                0.000000e+00                 0.000000e+00   \n",
       "25%                2.547311e+04                 0.000000e+00   \n",
       "50%                2.044653e+05                 3.095710e+02   \n",
       "75%                1.505202e+06                 1.550016e+04   \n",
       "max                2.205606e+07                 6.178069e+06   \n",
       "\n",
       "       Total_Public_Debt_OutstandingM  Source_Line_Number  Fiscal_Year  \\\n",
       "count                    3.755000e+03         3755.000000  3755.000000   \n",
       "mean                     2.777132e+06            8.171771  2010.911052   \n",
       "std                      4.646693e+06            4.430371     5.903691   \n",
       "min                      0.000000e+00            1.000000  2001.000000   \n",
       "25%                      2.999518e+04            4.000000  2006.000000   \n",
       "50%                      4.942945e+05            8.000000  2011.000000   \n",
       "75%                      4.030926e+06           12.000000  2016.000000   \n",
       "max                      2.819901e+07           16.000000  2021.000000   \n",
       "\n",
       "       Fiscal_Quarter_Number  Calendar_Year  Calendar_Quarter_Number  \\\n",
       "count            3755.000000    3755.000000              3755.000000   \n",
       "mean                2.498535    2010.666844                 2.475366   \n",
       "std                 1.108492       5.896420                 1.119935   \n",
       "min                 1.000000    2001.000000                 1.000000   \n",
       "25%                 2.000000    2006.000000                 1.000000   \n",
       "50%                 2.000000    2011.000000                 2.000000   \n",
       "75%                 3.000000    2016.000000                 3.000000   \n",
       "max                 4.000000    2021.000000                 4.000000   \n",
       "\n",
       "       Calendar_Month_Number  Calendar_Day_Number  \n",
       "count            3755.000000          3755.000000  \n",
       "mean                6.422104            30.432224  \n",
       "std                 3.459714             0.824424  \n",
       "min                 1.000000            28.000000  \n",
       "25%                 3.000000            30.000000  \n",
       "50%                 6.000000            31.000000  \n",
       "75%                 9.000000            31.000000  \n",
       "max                12.000000            31.000000  "
      ],
      "text/html": "<div>\n<style scoped>\n    .dataframe tbody tr th:only-of-type {\n        vertical-align: middle;\n    }\n\n    .dataframe tbody tr th {\n        vertical-align: top;\n    }\n\n    .dataframe thead th {\n        text-align: right;\n    }\n</style>\n<table border=\"1\" class=\"dataframe\">\n  <thead>\n    <tr style=\"text-align: right;\">\n      <th></th>\n      <th>Debt_Held_by_the_PublicM</th>\n      <th>Intragovernmental_HoldingsM</th>\n      <th>Total_Public_Debt_OutstandingM</th>\n      <th>Source_Line_Number</th>\n      <th>Fiscal_Year</th>\n      <th>Fiscal_Quarter_Number</th>\n      <th>Calendar_Year</th>\n      <th>Calendar_Quarter_Number</th>\n      <th>Calendar_Month_Number</th>\n      <th>Calendar_Day_Number</th>\n    </tr>\n  </thead>\n  <tbody>\n    <tr>\n      <th>count</th>\n      <td>3.755000e+03</td>\n      <td>3.755000e+03</td>\n      <td>3.755000e+03</td>\n      <td>3755.000000</td>\n      <td>3755.000000</td>\n      <td>3755.000000</td>\n      <td>3755.000000</td>\n      <td>3755.000000</td>\n      <td>3755.000000</td>\n      <td>3755.000000</td>\n    </tr>\n    <tr>\n      <th>mean</th>\n      <td>1.910304e+06</td>\n      <td>8.668278e+05</td>\n      <td>2.777132e+06</td>\n      <td>8.171771</td>\n      <td>2010.911052</td>\n      <td>2.498535</td>\n      <td>2010.666844</td>\n      <td>2.475366</td>\n      <td>6.422104</td>\n      <td>30.432224</td>\n    </tr>\n    <tr>\n      <th>std</th>\n      <td>3.851522e+06</td>\n      <td>1.817929e+06</td>\n      <td>4.646693e+06</td>\n      <td>4.430371</td>\n      <td>5.903691</td>\n      <td>1.108492</td>\n      <td>5.896420</td>\n      <td>1.119935</td>\n      <td>3.459714</td>\n      <td>0.824424</td>\n    </tr>\n    <tr>\n      <th>min</th>\n      <td>0.000000e+00</td>\n      <td>0.000000e+00</td>\n      <td>0.000000e+00</td>\n      <td>1.000000</td>\n      <td>2001.000000</td>\n      <td>1.000000</td>\n      <td>2001.000000</td>\n      <td>1.000000</td>\n      <td>1.000000</td>\n      <td>28.000000</td>\n    </tr>\n    <tr>\n      <th>25%</th>\n      <td>2.547311e+04</td>\n      <td>0.000000e+00</td>\n      <td>2.999518e+04</td>\n      <td>4.000000</td>\n      <td>2006.000000</td>\n      <td>2.000000</td>\n      <td>2006.000000</td>\n      <td>1.000000</td>\n      <td>3.000000</td>\n      <td>30.000000</td>\n    </tr>\n    <tr>\n      <th>50%</th>\n      <td>2.044653e+05</td>\n      <td>3.095710e+02</td>\n      <td>4.942945e+05</td>\n      <td>8.000000</td>\n      <td>2011.000000</td>\n      <td>2.000000</td>\n      <td>2011.000000</td>\n      <td>2.000000</td>\n      <td>6.000000</td>\n      <td>31.000000</td>\n    </tr>\n    <tr>\n      <th>75%</th>\n      <td>1.505202e+06</td>\n      <td>1.550016e+04</td>\n      <td>4.030926e+06</td>\n      <td>12.000000</td>\n      <td>2016.000000</td>\n      <td>3.000000</td>\n      <td>2016.000000</td>\n      <td>3.000000</td>\n      <td>9.000000</td>\n      <td>31.000000</td>\n    </tr>\n    <tr>\n      <th>max</th>\n      <td>2.205606e+07</td>\n      <td>6.178069e+06</td>\n      <td>2.819901e+07</td>\n      <td>16.000000</td>\n      <td>2021.000000</td>\n      <td>4.000000</td>\n      <td>2021.000000</td>\n      <td>4.000000</td>\n      <td>12.000000</td>\n      <td>31.000000</td>\n    </tr>\n  </tbody>\n</table>\n</div>"
     },
     "metadata": {},
     "execution_count": 83
    }
   ],
   "source": [
    "df.describe()"
   ]
  },
  {
   "cell_type": "code",
   "execution_count": 84,
   "metadata": {},
   "outputs": [
    {
     "output_type": "execute_result",
     "data": {
      "text/plain": [
       "'Bills'"
      ]
     },
     "metadata": {},
     "execution_count": 84
    }
   ],
   "source": [
    "df.iloc[0,2]"
   ]
  },
  {
   "cell_type": "code",
   "execution_count": 85,
   "metadata": {},
   "outputs": [
    {
     "output_type": "execute_result",
     "data": {
      "text/plain": [
       "     Record_Date      Security_Type_Description Security_Class_Description  \\\n",
       "88    31/12/2020            Total Nonmarketable                          _   \n",
       "82    31/12/2020                  Nonmarketable            Domestic Series   \n",
       "76    31/12/2020                     Marketable                      Notes   \n",
       "75    31/12/2020                     Marketable                      Bills   \n",
       "89    31/12/2020  Total Public Debt Outstanding                          _   \n",
       "...          ...                            ...                        ...   \n",
       "3726  28/02/2001                     Marketable    Inflation-Indexed Notes   \n",
       "3725  28/02/2001                     Marketable                      Bonds   \n",
       "3724  28/02/2001                     Marketable                      Notes   \n",
       "3723  28/02/2001                     Marketable                      Bills   \n",
       "3735  28/02/2001                  Nonmarketable  Government Account Series   \n",
       "\n",
       "      Debt_Held_by_the_PublicM  Intragovernmental_HoldingsM  \\\n",
       "88                6.738964e+05                 6.093510e+06   \n",
       "82                1.111121e+05                 0.000000e+00   \n",
       "76                1.108474e+07                 7.180354e+03   \n",
       "75                4.963056e+06                 1.083746e+03   \n",
       "89                2.163242e+07                 6.115379e+06   \n",
       "...                        ...                          ...   \n",
       "3726              8.826699e+04                 0.000000e+00   \n",
       "3725              6.310244e+05                 4.593210e+02   \n",
       "3724              1.534890e+06                 1.000000e+00   \n",
       "3723              6.806587e+05                 0.000000e+00   \n",
       "3735              3.633779e+04                 2.317661e+06   \n",
       "\n",
       "      Total_Public_Debt_OutstandingM  Source_Line_Number  Fiscal_Year  \\\n",
       "88                      6.767407e+06                  14         2021   \n",
       "82                      1.111121e+05                   8         2021   \n",
       "76                      1.109192e+07                   2         2021   \n",
       "75                      4.964140e+06                   1         2021   \n",
       "89                      2.774780e+07                  15         2021   \n",
       "...                              ...                 ...          ...   \n",
       "3726                    8.826699e+04                   4         2001   \n",
       "3725                    6.314827e+05                   3         2001   \n",
       "3724                    1.534891e+06                   2         2001   \n",
       "3723                    6.806587e+05                   1         2001   \n",
       "3735                    2.354000e+06                  13         2001   \n",
       "\n",
       "      Fiscal_Quarter_Number  Calendar_Year  Calendar_Quarter_Number  \\\n",
       "88                        1           2020                        4   \n",
       "82                        1           2020                        4   \n",
       "76                        1           2020                        4   \n",
       "75                        1           2020                        4   \n",
       "89                        1           2020                        4   \n",
       "...                     ...            ...                      ...   \n",
       "3726                      2           2001                        1   \n",
       "3725                      2           2001                        1   \n",
       "3724                      2           2001                        1   \n",
       "3723                      2           2001                        1   \n",
       "3735                      2           2001                        1   \n",
       "\n",
       "      Calendar_Month_Number  Calendar_Day_Number  \n",
       "88                       12                   31  \n",
       "82                       12                   31  \n",
       "76                       12                   31  \n",
       "75                       12                   31  \n",
       "89                       12                   31  \n",
       "...                     ...                  ...  \n",
       "3726                      2                   28  \n",
       "3725                      2                   28  \n",
       "3724                      2                   28  \n",
       "3723                      2                   28  \n",
       "3735                      2                   28  \n",
       "\n",
       "[3755 rows x 13 columns]"
      ],
      "text/html": "<div>\n<style scoped>\n    .dataframe tbody tr th:only-of-type {\n        vertical-align: middle;\n    }\n\n    .dataframe tbody tr th {\n        vertical-align: top;\n    }\n\n    .dataframe thead th {\n        text-align: right;\n    }\n</style>\n<table border=\"1\" class=\"dataframe\">\n  <thead>\n    <tr style=\"text-align: right;\">\n      <th></th>\n      <th>Record_Date</th>\n      <th>Security_Type_Description</th>\n      <th>Security_Class_Description</th>\n      <th>Debt_Held_by_the_PublicM</th>\n      <th>Intragovernmental_HoldingsM</th>\n      <th>Total_Public_Debt_OutstandingM</th>\n      <th>Source_Line_Number</th>\n      <th>Fiscal_Year</th>\n      <th>Fiscal_Quarter_Number</th>\n      <th>Calendar_Year</th>\n      <th>Calendar_Quarter_Number</th>\n      <th>Calendar_Month_Number</th>\n      <th>Calendar_Day_Number</th>\n    </tr>\n  </thead>\n  <tbody>\n    <tr>\n      <th>88</th>\n      <td>31/12/2020</td>\n      <td>Total Nonmarketable</td>\n      <td>_</td>\n      <td>6.738964e+05</td>\n      <td>6.093510e+06</td>\n      <td>6.767407e+06</td>\n      <td>14</td>\n      <td>2021</td>\n      <td>1</td>\n      <td>2020</td>\n      <td>4</td>\n      <td>12</td>\n      <td>31</td>\n    </tr>\n    <tr>\n      <th>82</th>\n      <td>31/12/2020</td>\n      <td>Nonmarketable</td>\n      <td>Domestic Series</td>\n      <td>1.111121e+05</td>\n      <td>0.000000e+00</td>\n      <td>1.111121e+05</td>\n      <td>8</td>\n      <td>2021</td>\n      <td>1</td>\n      <td>2020</td>\n      <td>4</td>\n      <td>12</td>\n      <td>31</td>\n    </tr>\n    <tr>\n      <th>76</th>\n      <td>31/12/2020</td>\n      <td>Marketable</td>\n      <td>Notes</td>\n      <td>1.108474e+07</td>\n      <td>7.180354e+03</td>\n      <td>1.109192e+07</td>\n      <td>2</td>\n      <td>2021</td>\n      <td>1</td>\n      <td>2020</td>\n      <td>4</td>\n      <td>12</td>\n      <td>31</td>\n    </tr>\n    <tr>\n      <th>75</th>\n      <td>31/12/2020</td>\n      <td>Marketable</td>\n      <td>Bills</td>\n      <td>4.963056e+06</td>\n      <td>1.083746e+03</td>\n      <td>4.964140e+06</td>\n      <td>1</td>\n      <td>2021</td>\n      <td>1</td>\n      <td>2020</td>\n      <td>4</td>\n      <td>12</td>\n      <td>31</td>\n    </tr>\n    <tr>\n      <th>89</th>\n      <td>31/12/2020</td>\n      <td>Total Public Debt Outstanding</td>\n      <td>_</td>\n      <td>2.163242e+07</td>\n      <td>6.115379e+06</td>\n      <td>2.774780e+07</td>\n      <td>15</td>\n      <td>2021</td>\n      <td>1</td>\n      <td>2020</td>\n      <td>4</td>\n      <td>12</td>\n      <td>31</td>\n    </tr>\n    <tr>\n      <th>...</th>\n      <td>...</td>\n      <td>...</td>\n      <td>...</td>\n      <td>...</td>\n      <td>...</td>\n      <td>...</td>\n      <td>...</td>\n      <td>...</td>\n      <td>...</td>\n      <td>...</td>\n      <td>...</td>\n      <td>...</td>\n      <td>...</td>\n    </tr>\n    <tr>\n      <th>3726</th>\n      <td>28/02/2001</td>\n      <td>Marketable</td>\n      <td>Inflation-Indexed Notes</td>\n      <td>8.826699e+04</td>\n      <td>0.000000e+00</td>\n      <td>8.826699e+04</td>\n      <td>4</td>\n      <td>2001</td>\n      <td>2</td>\n      <td>2001</td>\n      <td>1</td>\n      <td>2</td>\n      <td>28</td>\n    </tr>\n    <tr>\n      <th>3725</th>\n      <td>28/02/2001</td>\n      <td>Marketable</td>\n      <td>Bonds</td>\n      <td>6.310244e+05</td>\n      <td>4.593210e+02</td>\n      <td>6.314827e+05</td>\n      <td>3</td>\n      <td>2001</td>\n      <td>2</td>\n      <td>2001</td>\n      <td>1</td>\n      <td>2</td>\n      <td>28</td>\n    </tr>\n    <tr>\n      <th>3724</th>\n      <td>28/02/2001</td>\n      <td>Marketable</td>\n      <td>Notes</td>\n      <td>1.534890e+06</td>\n      <td>1.000000e+00</td>\n      <td>1.534891e+06</td>\n      <td>2</td>\n      <td>2001</td>\n      <td>2</td>\n      <td>2001</td>\n      <td>1</td>\n      <td>2</td>\n      <td>28</td>\n    </tr>\n    <tr>\n      <th>3723</th>\n      <td>28/02/2001</td>\n      <td>Marketable</td>\n      <td>Bills</td>\n      <td>6.806587e+05</td>\n      <td>0.000000e+00</td>\n      <td>6.806587e+05</td>\n      <td>1</td>\n      <td>2001</td>\n      <td>2</td>\n      <td>2001</td>\n      <td>1</td>\n      <td>2</td>\n      <td>28</td>\n    </tr>\n    <tr>\n      <th>3735</th>\n      <td>28/02/2001</td>\n      <td>Nonmarketable</td>\n      <td>Government Account Series</td>\n      <td>3.633779e+04</td>\n      <td>2.317661e+06</td>\n      <td>2.354000e+06</td>\n      <td>13</td>\n      <td>2001</td>\n      <td>2</td>\n      <td>2001</td>\n      <td>1</td>\n      <td>2</td>\n      <td>28</td>\n    </tr>\n  </tbody>\n</table>\n<p>3755 rows × 13 columns</p>\n</div>"
     },
     "metadata": {},
     "execution_count": 85
    }
   ],
   "source": [
    "df.sort_values(['Record_Date'], ascending=False)"
   ]
  },
  {
   "cell_type": "code",
   "execution_count": 86,
   "metadata": {},
   "outputs": [
    {
     "output_type": "execute_result",
     "data": {
      "text/plain": [
       "<pandas.core.groupby.generic.DataFrameGroupBy object at 0x0000015FB00041F0>"
      ]
     },
     "metadata": {},
     "execution_count": 86
    }
   ],
   "source": [
    "df.groupby(['Source_Line_Number'])"
   ]
  },
  {
   "cell_type": "code",
   "execution_count": 87,
   "metadata": {},
   "outputs": [
    {
     "output_type": "stream",
     "name": "stdout",
     "text": [
      "<class 'pandas.core.frame.DataFrame'>\nRangeIndex: 3755 entries, 0 to 3754\nData columns (total 13 columns):\n #   Column                          Non-Null Count  Dtype         \n---  ------                          --------------  -----         \n 0   Record_Date                     3755 non-null   datetime64[ns]\n 1   Security_Type_Description       3755 non-null   object        \n 2   Security_Class_Description      3755 non-null   object        \n 3   Debt_Held_by_the_PublicM        3755 non-null   float64       \n 4   Intragovernmental_HoldingsM     3755 non-null   float64       \n 5   Total_Public_Debt_OutstandingM  3755 non-null   float64       \n 6   Source_Line_Number              3755 non-null   int64         \n 7   Fiscal_Year                     3755 non-null   int64         \n 8   Fiscal_Quarter_Number           3755 non-null   int64         \n 9   Calendar_Year                   3755 non-null   int64         \n 10  Calendar_Quarter_Number         3755 non-null   int64         \n 11  Calendar_Month_Number           3755 non-null   int64         \n 12  Calendar_Day_Number             3755 non-null   int64         \ndtypes: datetime64[ns](1), float64(3), int64(7), object(2)\nmemory usage: 381.5+ KB\n"
     ]
    }
   ],
   "source": [
    "df = pd.read_csv(\"MSPD_SumSecty_all_years.csv\", parse_dates=['Record_Date'], dayfirst=True)\n",
    " #convert the date column to a time scale, in the DD/MM/YYYY format\n",
    "df.info()"
   ]
  },
  {
   "cell_type": "code",
   "execution_count": 102,
   "metadata": {},
   "outputs": [
    {
     "output_type": "execute_result",
     "data": {
      "text/plain": [
       "(Timestamp('2001-01-31 00:00:00'), Timestamp('2021-05-31 00:00:00'))"
      ]
     },
     "metadata": {},
     "execution_count": 102
    }
   ],
   "source": [
    "df[\"Record_Date\"].min(), df[\"Record_Date\"].max()\n"
   ]
  },
  {
   "cell_type": "code",
   "execution_count": 103,
   "metadata": {},
   "outputs": [
    {
     "output_type": "execute_result",
     "data": {
      "text/plain": [
       "Timedelta('7425 days 00:00:00')"
      ]
     },
     "metadata": {},
     "execution_count": 103
    }
   ],
   "source": [
    "df[\"Record_Date\"].max() - df[\"Record_Date\"].min()"
   ]
  },
  {
   "cell_type": "code",
   "execution_count": 104,
   "metadata": {},
   "outputs": [],
   "source": [
    "dti = pd.to_datetime([\"31/01/2001\", np.datetime64('2001-01-31'), datetime.datetime(2001, 1, 31)])\n",
    "dti\n",
    "start = df[\"Record_Date\"].min()\n",
    "end = df[\"Record_Date\"].max()"
   ]
  },
  {
   "cell_type": "code",
   "execution_count": 89,
   "metadata": {},
   "outputs": [
    {
     "output_type": "display_data",
     "data": {
      "text/plain": "<Figure size 720x360 with 1 Axes>",
      "image/svg+xml": "<?xml version=\"1.0\" encoding=\"utf-8\" standalone=\"no\"?>\r\n<!DOCTYPE svg PUBLIC \"-//W3C//DTD SVG 1.1//EN\"\r\n  \"http://www.w3.org/Graphics/SVG/1.1/DTD/svg11.dtd\">\r\n<!-- Created with matplotlib (https://matplotlib.org/) -->\r\n<svg height=\"317.99625pt\" version=\"1.1\" viewBox=\"0 0 601.95 317.99625\" width=\"601.95pt\" xmlns=\"http://www.w3.org/2000/svg\" xmlns:xlink=\"http://www.w3.org/1999/xlink\">\r\n <metadata>\r\n  <rdf:RDF xmlns:cc=\"http://creativecommons.org/ns#\" xmlns:dc=\"http://purl.org/dc/elements/1.1/\" xmlns:rdf=\"http://www.w3.org/1999/02/22-rdf-syntax-ns#\">\r\n   <cc:Work>\r\n    <dc:type rdf:resource=\"http://purl.org/dc/dcmitype/StillImage\"/>\r\n    <dc:date>2021-07-06T16:44:25.827462</dc:date>\r\n    <dc:format>image/svg+xml</dc:format>\r\n    <dc:creator>\r\n     <cc:Agent>\r\n      <dc:title>Matplotlib v3.3.4, https://matplotlib.org/</dc:title>\r\n     </cc:Agent>\r\n    </dc:creator>\r\n   </cc:Work>\r\n  </rdf:RDF>\r\n </metadata>\r\n <defs>\r\n  <style type=\"text/css\">*{stroke-linecap:butt;stroke-linejoin:round;}</style>\r\n </defs>\r\n <g id=\"figure_1\">\r\n  <g id=\"patch_1\">\r\n   <path d=\"M 0 317.99625 \r\nL 601.95 317.99625 \r\nL 601.95 0 \r\nL 0 0 \r\nz\r\n\" style=\"fill:none;\"/>\r\n  </g>\r\n  <g id=\"axes_1\">\r\n   <g id=\"patch_2\">\r\n    <path d=\"M 36.75 294.118125 \r\nL 594.75 294.118125 \r\nL 594.75 22.318125 \r\nL 36.75 22.318125 \r\nz\r\n\" style=\"fill:#ffffff;\"/>\r\n   </g>\r\n   <g id=\"matplotlib.axis_1\">\r\n    <g id=\"xtick_1\">\r\n     <g id=\"line2d_1\">\r\n      <defs>\r\n       <path d=\"M 0 0 \r\nL 0 3.5 \r\n\" id=\"m0361f3f960\" style=\"stroke:#000000;stroke-width:0.8;\"/>\r\n      </defs>\r\n      <g>\r\n       <use style=\"stroke:#000000;stroke-width:0.8;\" x=\"62.113636\" xlink:href=\"#m0361f3f960\" y=\"294.118125\"/>\r\n      </g>\r\n     </g>\r\n     <g id=\"text_1\">\r\n      <!-- 1970 -->\r\n      <g transform=\"translate(49.388636 308.716563)scale(0.1 -0.1)\">\r\n       <defs>\r\n        <path d=\"M 12.40625 8.296875 \r\nL 28.515625 8.296875 \r\nL 28.515625 63.921875 \r\nL 10.984375 60.40625 \r\nL 10.984375 69.390625 \r\nL 28.421875 72.90625 \r\nL 38.28125 72.90625 \r\nL 38.28125 8.296875 \r\nL 54.390625 8.296875 \r\nL 54.390625 0 \r\nL 12.40625 0 \r\nz\r\n\" id=\"DejaVuSans-49\"/>\r\n        <path d=\"M 10.984375 1.515625 \r\nL 10.984375 10.5 \r\nQ 14.703125 8.734375 18.5 7.8125 \r\nQ 22.3125 6.890625 25.984375 6.890625 \r\nQ 35.75 6.890625 40.890625 13.453125 \r\nQ 46.046875 20.015625 46.78125 33.40625 \r\nQ 43.953125 29.203125 39.59375 26.953125 \r\nQ 35.25 24.703125 29.984375 24.703125 \r\nQ 19.046875 24.703125 12.671875 31.3125 \r\nQ 6.296875 37.9375 6.296875 49.421875 \r\nQ 6.296875 60.640625 12.9375 67.421875 \r\nQ 19.578125 74.21875 30.609375 74.21875 \r\nQ 43.265625 74.21875 49.921875 64.515625 \r\nQ 56.59375 54.828125 56.59375 36.375 \r\nQ 56.59375 19.140625 48.40625 8.859375 \r\nQ 40.234375 -1.421875 26.421875 -1.421875 \r\nQ 22.703125 -1.421875 18.890625 -0.6875 \r\nQ 15.09375 0.046875 10.984375 1.515625 \r\nz\r\nM 30.609375 32.421875 \r\nQ 37.25 32.421875 41.125 36.953125 \r\nQ 45.015625 41.5 45.015625 49.421875 \r\nQ 45.015625 57.28125 41.125 61.84375 \r\nQ 37.25 66.40625 30.609375 66.40625 \r\nQ 23.96875 66.40625 20.09375 61.84375 \r\nQ 16.21875 57.28125 16.21875 49.421875 \r\nQ 16.21875 41.5 20.09375 36.953125 \r\nQ 23.96875 32.421875 30.609375 32.421875 \r\nz\r\n\" id=\"DejaVuSans-57\"/>\r\n        <path d=\"M 8.203125 72.90625 \r\nL 55.078125 72.90625 \r\nL 55.078125 68.703125 \r\nL 28.609375 0 \r\nL 18.3125 0 \r\nL 43.21875 64.59375 \r\nL 8.203125 64.59375 \r\nz\r\n\" id=\"DejaVuSans-55\"/>\r\n        <path d=\"M 31.78125 66.40625 \r\nQ 24.171875 66.40625 20.328125 58.90625 \r\nQ 16.5 51.421875 16.5 36.375 \r\nQ 16.5 21.390625 20.328125 13.890625 \r\nQ 24.171875 6.390625 31.78125 6.390625 \r\nQ 39.453125 6.390625 43.28125 13.890625 \r\nQ 47.125 21.390625 47.125 36.375 \r\nQ 47.125 51.421875 43.28125 58.90625 \r\nQ 39.453125 66.40625 31.78125 66.40625 \r\nz\r\nM 31.78125 74.21875 \r\nQ 44.046875 74.21875 50.515625 64.515625 \r\nQ 56.984375 54.828125 56.984375 36.375 \r\nQ 56.984375 17.96875 50.515625 8.265625 \r\nQ 44.046875 -1.421875 31.78125 -1.421875 \r\nQ 19.53125 -1.421875 13.0625 8.265625 \r\nQ 6.59375 17.96875 6.59375 36.375 \r\nQ 6.59375 54.828125 13.0625 64.515625 \r\nQ 19.53125 74.21875 31.78125 74.21875 \r\nz\r\n\" id=\"DejaVuSans-48\"/>\r\n       </defs>\r\n       <use xlink:href=\"#DejaVuSans-49\"/>\r\n       <use x=\"63.623047\" xlink:href=\"#DejaVuSans-57\"/>\r\n       <use x=\"127.246094\" xlink:href=\"#DejaVuSans-55\"/>\r\n       <use x=\"190.869141\" xlink:href=\"#DejaVuSans-48\"/>\r\n      </g>\r\n     </g>\r\n    </g>\r\n    <g id=\"xtick_2\">\r\n     <g id=\"line2d_2\">\r\n      <g>\r\n       <use style=\"stroke:#000000;stroke-width:0.8;\" x=\"160.76951\" xlink:href=\"#m0361f3f960\" y=\"294.118125\"/>\r\n      </g>\r\n     </g>\r\n     <g id=\"text_2\">\r\n      <!-- 1980 -->\r\n      <g transform=\"translate(148.04451 308.716563)scale(0.1 -0.1)\">\r\n       <defs>\r\n        <path d=\"M 31.78125 34.625 \r\nQ 24.75 34.625 20.71875 30.859375 \r\nQ 16.703125 27.09375 16.703125 20.515625 \r\nQ 16.703125 13.921875 20.71875 10.15625 \r\nQ 24.75 6.390625 31.78125 6.390625 \r\nQ 38.8125 6.390625 42.859375 10.171875 \r\nQ 46.921875 13.96875 46.921875 20.515625 \r\nQ 46.921875 27.09375 42.890625 30.859375 \r\nQ 38.875 34.625 31.78125 34.625 \r\nz\r\nM 21.921875 38.8125 \r\nQ 15.578125 40.375 12.03125 44.71875 \r\nQ 8.5 49.078125 8.5 55.328125 \r\nQ 8.5 64.0625 14.71875 69.140625 \r\nQ 20.953125 74.21875 31.78125 74.21875 \r\nQ 42.671875 74.21875 48.875 69.140625 \r\nQ 55.078125 64.0625 55.078125 55.328125 \r\nQ 55.078125 49.078125 51.53125 44.71875 \r\nQ 48 40.375 41.703125 38.8125 \r\nQ 48.828125 37.15625 52.796875 32.3125 \r\nQ 56.78125 27.484375 56.78125 20.515625 \r\nQ 56.78125 9.90625 50.3125 4.234375 \r\nQ 43.84375 -1.421875 31.78125 -1.421875 \r\nQ 19.734375 -1.421875 13.25 4.234375 \r\nQ 6.78125 9.90625 6.78125 20.515625 \r\nQ 6.78125 27.484375 10.78125 32.3125 \r\nQ 14.796875 37.15625 21.921875 38.8125 \r\nz\r\nM 18.3125 54.390625 \r\nQ 18.3125 48.734375 21.84375 45.5625 \r\nQ 25.390625 42.390625 31.78125 42.390625 \r\nQ 38.140625 42.390625 41.71875 45.5625 \r\nQ 45.3125 48.734375 45.3125 54.390625 \r\nQ 45.3125 60.0625 41.71875 63.234375 \r\nQ 38.140625 66.40625 31.78125 66.40625 \r\nQ 25.390625 66.40625 21.84375 63.234375 \r\nQ 18.3125 60.0625 18.3125 54.390625 \r\nz\r\n\" id=\"DejaVuSans-56\"/>\r\n       </defs>\r\n       <use xlink:href=\"#DejaVuSans-49\"/>\r\n       <use x=\"63.623047\" xlink:href=\"#DejaVuSans-57\"/>\r\n       <use x=\"127.246094\" xlink:href=\"#DejaVuSans-56\"/>\r\n       <use x=\"190.869141\" xlink:href=\"#DejaVuSans-48\"/>\r\n      </g>\r\n     </g>\r\n    </g>\r\n    <g id=\"xtick_3\">\r\n     <g id=\"line2d_3\">\r\n      <g>\r\n       <use style=\"stroke:#000000;stroke-width:0.8;\" x=\"259.452398\" xlink:href=\"#m0361f3f960\" y=\"294.118125\"/>\r\n      </g>\r\n     </g>\r\n     <g id=\"text_3\">\r\n      <!-- 1990 -->\r\n      <g transform=\"translate(246.727398 308.716563)scale(0.1 -0.1)\">\r\n       <use xlink:href=\"#DejaVuSans-49\"/>\r\n       <use x=\"63.623047\" xlink:href=\"#DejaVuSans-57\"/>\r\n       <use x=\"127.246094\" xlink:href=\"#DejaVuSans-57\"/>\r\n       <use x=\"190.869141\" xlink:href=\"#DejaVuSans-48\"/>\r\n      </g>\r\n     </g>\r\n    </g>\r\n    <g id=\"xtick_4\">\r\n     <g id=\"line2d_4\">\r\n      <g>\r\n       <use style=\"stroke:#000000;stroke-width:0.8;\" x=\"358.108272\" xlink:href=\"#m0361f3f960\" y=\"294.118125\"/>\r\n      </g>\r\n     </g>\r\n     <g id=\"text_4\">\r\n      <!-- 2000 -->\r\n      <g transform=\"translate(345.383272 308.716563)scale(0.1 -0.1)\">\r\n       <defs>\r\n        <path d=\"M 19.1875 8.296875 \r\nL 53.609375 8.296875 \r\nL 53.609375 0 \r\nL 7.328125 0 \r\nL 7.328125 8.296875 \r\nQ 12.9375 14.109375 22.625 23.890625 \r\nQ 32.328125 33.6875 34.8125 36.53125 \r\nQ 39.546875 41.84375 41.421875 45.53125 \r\nQ 43.3125 49.21875 43.3125 52.78125 \r\nQ 43.3125 58.59375 39.234375 62.25 \r\nQ 35.15625 65.921875 28.609375 65.921875 \r\nQ 23.96875 65.921875 18.8125 64.3125 \r\nQ 13.671875 62.703125 7.8125 59.421875 \r\nL 7.8125 69.390625 \r\nQ 13.765625 71.78125 18.9375 73 \r\nQ 24.125 74.21875 28.421875 74.21875 \r\nQ 39.75 74.21875 46.484375 68.546875 \r\nQ 53.21875 62.890625 53.21875 53.421875 \r\nQ 53.21875 48.921875 51.53125 44.890625 \r\nQ 49.859375 40.875 45.40625 35.40625 \r\nQ 44.1875 33.984375 37.640625 27.21875 \r\nQ 31.109375 20.453125 19.1875 8.296875 \r\nz\r\n\" id=\"DejaVuSans-50\"/>\r\n       </defs>\r\n       <use xlink:href=\"#DejaVuSans-50\"/>\r\n       <use x=\"63.623047\" xlink:href=\"#DejaVuSans-48\"/>\r\n       <use x=\"127.246094\" xlink:href=\"#DejaVuSans-48\"/>\r\n       <use x=\"190.869141\" xlink:href=\"#DejaVuSans-48\"/>\r\n      </g>\r\n     </g>\r\n    </g>\r\n    <g id=\"xtick_5\">\r\n     <g id=\"line2d_5\">\r\n      <g>\r\n       <use style=\"stroke:#000000;stroke-width:0.8;\" x=\"456.79116\" xlink:href=\"#m0361f3f960\" y=\"294.118125\"/>\r\n      </g>\r\n     </g>\r\n     <g id=\"text_5\">\r\n      <!-- 2010 -->\r\n      <g transform=\"translate(444.06616 308.716563)scale(0.1 -0.1)\">\r\n       <use xlink:href=\"#DejaVuSans-50\"/>\r\n       <use x=\"63.623047\" xlink:href=\"#DejaVuSans-48\"/>\r\n       <use x=\"127.246094\" xlink:href=\"#DejaVuSans-49\"/>\r\n       <use x=\"190.869141\" xlink:href=\"#DejaVuSans-48\"/>\r\n      </g>\r\n     </g>\r\n    </g>\r\n    <g id=\"xtick_6\">\r\n     <g id=\"line2d_6\">\r\n      <g>\r\n       <use style=\"stroke:#000000;stroke-width:0.8;\" x=\"555.447034\" xlink:href=\"#m0361f3f960\" y=\"294.118125\"/>\r\n      </g>\r\n     </g>\r\n     <g id=\"text_6\">\r\n      <!-- 2020 -->\r\n      <g transform=\"translate(542.722034 308.716563)scale(0.1 -0.1)\">\r\n       <use xlink:href=\"#DejaVuSans-50\"/>\r\n       <use x=\"63.623047\" xlink:href=\"#DejaVuSans-48\"/>\r\n       <use x=\"127.246094\" xlink:href=\"#DejaVuSans-50\"/>\r\n       <use x=\"190.869141\" xlink:href=\"#DejaVuSans-48\"/>\r\n      </g>\r\n     </g>\r\n    </g>\r\n   </g>\r\n   <g id=\"matplotlib.axis_2\">\r\n    <g id=\"ytick_1\">\r\n     <g id=\"line2d_7\">\r\n      <defs>\r\n       <path d=\"M 0 0 \r\nL -3.5 0 \r\n\" id=\"m40f0b3b68f\" style=\"stroke:#000000;stroke-width:0.8;\"/>\r\n      </defs>\r\n      <g>\r\n       <use style=\"stroke:#000000;stroke-width:0.8;\" x=\"36.75\" xlink:href=\"#m40f0b3b68f\" y=\"281.76358\"/>\r\n      </g>\r\n     </g>\r\n     <g id=\"text_7\">\r\n      <!-- date -->\r\n      <g transform=\"translate(7.2 285.562798)scale(0.1 -0.1)\">\r\n       <defs>\r\n        <path d=\"M 45.40625 46.390625 \r\nL 45.40625 75.984375 \r\nL 54.390625 75.984375 \r\nL 54.390625 0 \r\nL 45.40625 0 \r\nL 45.40625 8.203125 \r\nQ 42.578125 3.328125 38.25 0.953125 \r\nQ 33.9375 -1.421875 27.875 -1.421875 \r\nQ 17.96875 -1.421875 11.734375 6.484375 \r\nQ 5.515625 14.40625 5.515625 27.296875 \r\nQ 5.515625 40.1875 11.734375 48.09375 \r\nQ 17.96875 56 27.875 56 \r\nQ 33.9375 56 38.25 53.625 \r\nQ 42.578125 51.265625 45.40625 46.390625 \r\nz\r\nM 14.796875 27.296875 \r\nQ 14.796875 17.390625 18.875 11.75 \r\nQ 22.953125 6.109375 30.078125 6.109375 \r\nQ 37.203125 6.109375 41.296875 11.75 \r\nQ 45.40625 17.390625 45.40625 27.296875 \r\nQ 45.40625 37.203125 41.296875 42.84375 \r\nQ 37.203125 48.484375 30.078125 48.484375 \r\nQ 22.953125 48.484375 18.875 42.84375 \r\nQ 14.796875 37.203125 14.796875 27.296875 \r\nz\r\n\" id=\"DejaVuSans-100\"/>\r\n        <path d=\"M 34.28125 27.484375 \r\nQ 23.390625 27.484375 19.1875 25 \r\nQ 14.984375 22.515625 14.984375 16.5 \r\nQ 14.984375 11.71875 18.140625 8.90625 \r\nQ 21.296875 6.109375 26.703125 6.109375 \r\nQ 34.1875 6.109375 38.703125 11.40625 \r\nQ 43.21875 16.703125 43.21875 25.484375 \r\nL 43.21875 27.484375 \r\nz\r\nM 52.203125 31.203125 \r\nL 52.203125 0 \r\nL 43.21875 0 \r\nL 43.21875 8.296875 \r\nQ 40.140625 3.328125 35.546875 0.953125 \r\nQ 30.953125 -1.421875 24.3125 -1.421875 \r\nQ 15.921875 -1.421875 10.953125 3.296875 \r\nQ 6 8.015625 6 15.921875 \r\nQ 6 25.140625 12.171875 29.828125 \r\nQ 18.359375 34.515625 30.609375 34.515625 \r\nL 43.21875 34.515625 \r\nL 43.21875 35.40625 \r\nQ 43.21875 41.609375 39.140625 45 \r\nQ 35.0625 48.390625 27.6875 48.390625 \r\nQ 23 48.390625 18.546875 47.265625 \r\nQ 14.109375 46.140625 10.015625 43.890625 \r\nL 10.015625 52.203125 \r\nQ 14.9375 54.109375 19.578125 55.046875 \r\nQ 24.21875 56 28.609375 56 \r\nQ 40.484375 56 46.34375 49.84375 \r\nQ 52.203125 43.703125 52.203125 31.203125 \r\nz\r\n\" id=\"DejaVuSans-97\"/>\r\n        <path d=\"M 18.3125 70.21875 \r\nL 18.3125 54.6875 \r\nL 36.8125 54.6875 \r\nL 36.8125 47.703125 \r\nL 18.3125 47.703125 \r\nL 18.3125 18.015625 \r\nQ 18.3125 11.328125 20.140625 9.421875 \r\nQ 21.96875 7.515625 27.59375 7.515625 \r\nL 36.8125 7.515625 \r\nL 36.8125 0 \r\nL 27.59375 0 \r\nQ 17.1875 0 13.234375 3.875 \r\nQ 9.28125 7.765625 9.28125 18.015625 \r\nL 9.28125 47.703125 \r\nL 2.6875 47.703125 \r\nL 2.6875 54.6875 \r\nL 9.28125 54.6875 \r\nL 9.28125 70.21875 \r\nz\r\n\" id=\"DejaVuSans-116\"/>\r\n        <path d=\"M 56.203125 29.59375 \r\nL 56.203125 25.203125 \r\nL 14.890625 25.203125 \r\nQ 15.484375 15.921875 20.484375 11.0625 \r\nQ 25.484375 6.203125 34.421875 6.203125 \r\nQ 39.59375 6.203125 44.453125 7.46875 \r\nQ 49.3125 8.734375 54.109375 11.28125 \r\nL 54.109375 2.78125 \r\nQ 49.265625 0.734375 44.1875 -0.34375 \r\nQ 39.109375 -1.421875 33.890625 -1.421875 \r\nQ 20.796875 -1.421875 13.15625 6.1875 \r\nQ 5.515625 13.8125 5.515625 26.8125 \r\nQ 5.515625 40.234375 12.765625 48.109375 \r\nQ 20.015625 56 32.328125 56 \r\nQ 43.359375 56 49.78125 48.890625 \r\nQ 56.203125 41.796875 56.203125 29.59375 \r\nz\r\nM 47.21875 32.234375 \r\nQ 47.125 39.59375 43.09375 43.984375 \r\nQ 39.0625 48.390625 32.421875 48.390625 \r\nQ 24.90625 48.390625 20.390625 44.140625 \r\nQ 15.875 39.890625 15.1875 32.171875 \r\nz\r\n\" id=\"DejaVuSans-101\"/>\r\n       </defs>\r\n       <use xlink:href=\"#DejaVuSans-100\"/>\r\n       <use x=\"63.476562\" xlink:href=\"#DejaVuSans-97\"/>\r\n       <use x=\"124.755859\" xlink:href=\"#DejaVuSans-116\"/>\r\n       <use x=\"163.964844\" xlink:href=\"#DejaVuSans-101\"/>\r\n      </g>\r\n     </g>\r\n    </g>\r\n   </g>\r\n   <g id=\"line2d_8\">\r\n    <path clip-path=\"url(#p0684f82376)\" d=\"M 62.113636 281.76358 \r\n\" style=\"fill:none;stroke:#1f77b4;stroke-linecap:square;stroke-width:1.5;\"/>\r\n   </g>\r\n   <g id=\"line2d_9\">\r\n    <path clip-path=\"url(#p0684f82376)\" d=\"M 569.386364 243.409886 \r\nL 569.386364 281.761263 \r\nL 569.386364 34.67267 \r\nL 568.548923 241.981854 \r\nL 568.548923 281.761263 \r\nL 568.548923 34.885539 \r\nL 567.738497 240.851609 \r\nL 567.738497 281.761263 \r\nL 567.738497 35.254823 \r\nL 566.901057 239.186803 \r\nL 566.901057 281.761263 \r\nL 566.901057 37.27198 \r\nL 566.144659 238.346338 \r\nL 566.144659 281.761263 \r\nL 566.144659 38.304291 \r\nL 565.307219 238.265814 \r\nL 565.307219 281.761263 \r\nL 565.307219 38.626353 \r\nL 564.469778 238.445236 \r\nL 564.469778 281.761263 \r\nL 564.469778 41.268297 \r\nL 563.659352 238.080054 \r\nL 563.659352 281.761263 \r\nL 563.659352 43.991752 \r\nL 562.821912 237.698293 \r\nL 562.821912 281.761263 \r\nL 562.821912 45.657356 \r\nL 562.011486 237.279329 \r\nL 562.011486 281.761263 \r\nL 562.011486 47.5549 \r\nL 561.174046 237.259881 \r\nL 561.174046 281.761263 \r\nL 561.174046 49.341403 \r\nL 560.336605 237.253878 \r\nL 560.336605 281.761263 \r\nL 560.336605 49.759477 \r\nL 559.526179 241.194393 \r\nL 559.526179 281.761263 \r\nL 559.526179 56.164617 \r\nL 558.688739 246.698453 \r\nL 558.688739 281.761263 \r\nL 558.688739 62.929963 \r\nL 557.878313 258.47804 \r\nL 557.878313 281.761263 \r\nL 557.878313 74.209805 \r\nL 557.040872 259.291683 \r\nL 557.040872 281.761263 \r\nL 557.040872 76.636217 \r\nL 556.25746 260.696229 \r\nL 556.25746 281.761263 \r\nL 556.25746 78.267304 \r\nL 555.42002 260.586055 \r\nL 555.42002 281.761263 \r\nL 555.42002 78.463868 \r\nL 554.58258 259.725028 \r\nL 554.58258 281.761263 \r\nL 554.58258 79.560752 \r\nL 553.772154 260.242471 \r\nL 553.772154 281.761263 \r\nL 553.772154 80.154747 \r\nL 552.934713 260.93573 \r\nL 552.934713 281.761263 \r\nL 552.934713 82.68715 \r\nL 552.124287 261.330413 \r\nL 552.124287 281.761263 \r\nL 552.124287 84.956047 \r\nL 551.286847 262.434635 \r\nL 551.286847 281.761263 \r\nL 551.286847 88.79483 \r\nL 550.449406 262.040003 \r\nL 550.449406 281.761263 \r\nL 550.449406 88.786827 \r\nL 549.63898 261.137367 \r\nL 549.63898 281.761263 \r\nL 549.63898 88.759297 \r\nL 548.80154 260.874085 \r\nL 548.80154 281.761263 \r\nL 548.80154 88.748403 \r\nL 547.991114 260.032526 \r\nL 547.991114 281.761263 \r\nL 547.991114 88.746546 \r\nL 547.153674 260.768508 \r\nL 547.153674 281.761263 \r\nL 547.153674 87.97855 \r\nL 546.397276 261.61826 \r\nL 546.397276 281.761263 \r\nL 546.397276 89.144855 \r\nL 545.559835 261.259635 \r\nL 545.559835 281.761263 \r\nL 545.559835 89.217822 \r\nL 544.722395 260.829335 \r\nL 544.722395 281.761263 \r\nL 544.722395 90.304376 \r\nL 543.911969 261.978074 \r\nL 543.911969 281.761263 \r\nL 543.911969 91.598793 \r\nL 543.074529 262.136368 \r\nL 543.074529 281.761263 \r\nL 543.074529 93.231334 \r\nL 542.264103 261.251482 \r\nL 542.264103 281.761263 \r\nL 542.264103 93.732613 \r\nL 541.426662 262.434642 \r\nL 541.426662 281.761263 \r\nL 541.426662 95.010071 \r\nL 540.589222 262.854495 \r\nL 540.589222 281.761263 \r\nL 540.589222 96.043957 \r\nL 539.778796 262.62666 \r\nL 539.778796 281.761263 \r\nL 539.778796 96.480803 \r\nL 538.941355 262.758054 \r\nL 538.941355 281.761263 \r\nL 538.941355 97.155636 \r\nL 538.130929 261.706724 \r\nL 538.130929 281.761263 \r\nL 538.130929 96.96775 \r\nL 537.293489 263.555613 \r\nL 537.293489 281.761263 \r\nL 537.293489 99.017892 \r\nL 536.537091 264.528475 \r\nL 536.537091 281.761263 \r\nL 536.537091 102.189377 \r\nL 535.699651 264.624921 \r\nL 535.699651 281.761263 \r\nL 535.699651 102.197985 \r\nL 534.862211 264.493684 \r\nL 534.862211 281.761263 \r\nL 534.862211 101.342386 \r\nL 534.051784 265.501195 \r\nL 534.051784 281.761263 \r\nL 534.051784 102.638504 \r\nL 533.214344 265.974298 \r\nL 533.214344 281.761263 \r\nL 533.214344 104.369723 \r\nL 532.403918 266.447589 \r\nL 532.403918 281.761263 \r\nL 532.403918 107.877893 \r\nL 531.566478 266.359666 \r\nL 531.566478 281.761263 \r\nL 531.566478 107.874602 \r\nL 530.729037 266.710148 \r\nL 530.729037 281.761263 \r\nL 530.729037 107.877711 \r\nL 529.918611 266.447271 \r\nL 529.918611 281.761263 \r\nL 529.918611 107.865551 \r\nL 529.081171 266.499564 \r\nL 529.081171 281.761263 \r\nL 529.081171 107.86391 \r\nL 528.270745 266.368394 \r\nL 528.270745 281.761263 \r\nL 528.270745 107.861362 \r\nL 527.433304 266.403422 \r\nL 527.433304 281.761263 \r\nL 527.433304 106.86969 \r\nL 526.676907 266.324421 \r\nL 526.676907 281.761263 \r\nL 526.676907 107.065375 \r\nL 525.839466 265.833863 \r\nL 525.839466 281.761263 \r\nL 525.839466 106.718687 \r\nL 525.002026 265.352008 \r\nL 525.002026 281.761263 \r\nL 525.002026 106.970711 \r\nL 524.1916 266.403546 \r\nL 524.1916 281.761263 \r\nL 524.1916 108.218034 \r\nL 523.35416 267.332226 \r\nL 523.35416 281.761263 \r\nL 523.35416 110.253281 \r\nL 522.543733 267.455033 \r\nL 522.543733 281.761263 \r\nL 522.543733 110.806616 \r\nL 521.706293 268.182457 \r\nL 521.706293 281.761263 \r\nL 521.706293 111.530394 \r\nL 520.868853 268.550348 \r\nL 520.868853 281.761263 \r\nL 520.868853 111.934377 \r\nL 520.058427 268.410064 \r\nL 520.058427 281.761263 \r\nL 520.058427 112.952038 \r\nL 519.220986 268.383785 \r\nL 519.220986 281.761263 \r\nL 519.220986 113.636076 \r\nL 518.41056 267.586375 \r\nL 518.41056 281.763235 \r\nL 518.41056 112.956533 \r\nL 517.57312 268.164802 \r\nL 517.57312 281.763235 \r\nL 517.57312 114.178742 \r\nL 516.789708 268.813337 \r\nL 516.789708 281.763235 \r\nL 516.789708 115.165629 \r\nL 515.952268 268.497685 \r\nL 515.952268 281.763235 \r\nL 515.952268 115.959929 \r\nL 515.114827 268.56763 \r\nL 515.114827 281.763235 \r\nL 515.114827 116.791095 \r\nL 514.304401 270.609066 \r\nL 514.304401 281.763235 \r\nL 514.304401 122.699942 \r\nL 513.466961 269.86427 \r\nL 513.466961 281.761263 \r\nL 513.466961 122.720651 \r\nL 512.656535 269.286144 \r\nL 512.656535 281.761263 \r\nL 512.656535 122.715996 \r\nL 511.819094 269.145826 \r\nL 511.819094 281.761263 \r\nL 511.819094 122.71448 \r\nL 510.981654 269.54011 \r\nL 510.981654 281.761263 \r\nL 510.981654 122.708559 \r\nL 510.171228 269.084756 \r\nL 510.171228 281.761263 \r\nL 510.171228 122.701079 \r\nL 509.333788 269.207637 \r\nL 509.333788 281.761263 \r\nL 509.333788 122.703637 \r\nL 508.523361 268.813636 \r\nL 508.523361 281.761263 \r\nL 508.523361 122.708054 \r\nL 507.685921 268.857552 \r\nL 507.685921 281.761263 \r\nL 507.685921 122.674773 \r\nL 506.929523 269.383303 \r\nL 506.929523 281.761263 \r\nL 506.929523 123.319334 \r\nL 506.092083 268.989011 \r\nL 506.092083 281.761263 \r\nL 506.092083 122.80104 \r\nL 505.254643 269.14641 \r\nL 505.254643 281.761263 \r\nL 505.254643 123.991802 \r\nL 504.444217 269.37403 \r\nL 504.444217 281.761263 \r\nL 504.444217 124.591053 \r\nL 503.606776 269.400012 \r\nL 503.606776 281.75925 \r\nL 503.606776 125.581991 \r\nL 502.79635 269.040599 \r\nL 502.79635 281.75925 \r\nL 502.79635 126.238279 \r\nL 501.95891 269.408717 \r\nL 501.95891 281.75925 \r\nL 501.95891 126.781855 \r\nL 501.12147 269.60149 \r\nL 501.12147 281.75925 \r\nL 501.12147 127.259682 \r\nL 500.311043 269.067005 \r\nL 500.311043 281.75925 \r\nL 500.311043 128.27303 \r\nL 499.473603 268.979499 \r\nL 499.473603 281.75925 \r\nL 499.473603 128.347697 \r\nL 498.663177 267.288375 \r\nL 498.663177 281.759251 \r\nL 498.663177 127.534633 \r\nL 497.825737 267.621314 \r\nL 497.825737 281.759251 \r\nL 497.825737 128.743833 \r\nL 497.069339 268.742862 \r\nL 497.069339 281.759251 \r\nL 497.069339 130.235271 \r\nL 496.231899 267.814267 \r\nL 496.231899 281.759251 \r\nL 496.231899 129.718715 \r\nL 495.394458 267.560122 \r\nL 495.394458 281.759251 \r\nL 495.394458 130.900053 \r\nL 494.584032 268.226012 \r\nL 494.584032 281.759251 \r\nL 494.584032 131.434867 \r\nL 493.746592 268.357359 \r\nL 493.746592 281.759252 \r\nL 493.746592 135.096965 \r\nL 492.936166 267.411087 \r\nL 492.936166 281.759252 \r\nL 492.936166 135.09288 \r\nL 492.098725 268.129659 \r\nL 492.098725 281.759252 \r\nL 492.098725 135.093323 \r\nL 491.261285 268.007056 \r\nL 491.261285 281.759253 \r\nL 491.261285 135.095769 \r\nL 490.450859 267.682934 \r\nL 490.450859 281.759253 \r\nL 490.450859 135.091369 \r\nL 489.613419 266.91176 \r\nL 489.613419 281.759253 \r\nL 489.613419 134.302557 \r\nL 488.802992 266.070544 \r\nL 488.802992 281.759253 \r\nL 488.802992 134.806093 \r\nL 487.965552 266.499921 \r\nL 487.965552 281.759253 \r\nL 487.965552 135.542927 \r\nL 487.209154 267.674101 \r\nL 487.209154 281.759253 \r\nL 487.209154 137.764166 \r\nL 486.371714 267.489892 \r\nL 486.371714 281.759255 \r\nL 486.371714 137.77347 \r\nL 485.534274 266.91141 \r\nL 485.534274 281.759255 \r\nL 485.534274 138.327086 \r\nL 484.723848 267.55093 \r\nL 484.723848 281.759255 \r\nL 484.723848 139.274112 \r\nL 483.886407 267.603468 \r\nL 483.886407 281.759256 \r\nL 483.886407 140.984793 \r\nL 483.075981 267.191665 \r\nL 483.075981 281.759256 \r\nL 483.075981 141.427041 \r\nL 482.238541 267.910297 \r\nL 482.238541 281.759256 \r\nL 482.238541 142.150244 \r\nL 481.4011 267.775272 \r\nL 481.4011 281.759257 \r\nL 481.4011 142.835446 \r\nL 480.590674 267.696243 \r\nL 480.590674 281.759257 \r\nL 480.590674 143.574567 \r\nL 479.753234 267.626104 \r\nL 479.753234 281.759257 \r\nL 479.753234 144.260817 \r\nL 478.942808 267.091512 \r\nL 478.942808 281.759257 \r\nL 478.942808 145.227214 \r\nL 478.105367 267.652474 \r\nL 478.105367 281.759257 \r\nL 478.105367 146.04376 \r\nL 477.321956 268.397018 \r\nL 477.321956 281.759257 \r\nL 477.321956 147.206975 \r\nL 476.484515 268.440203 \r\nL 476.484515 281.759257 \r\nL 476.484515 148.374129 \r\nL 475.647075 268.510647 \r\nL 475.647075 281.759257 \r\nL 475.647075 149.359388 \r\nL 474.836649 268.773301 \r\nL 474.836649 281.759257 \r\nL 474.836649 150.382744 \r\nL 473.999208 268.817091 \r\nL 473.999208 281.759257 \r\nL 473.999208 152.16474 \r\nL 473.188782 268.676852 \r\nL 473.188782 281.759257 \r\nL 473.188782 153.093973 \r\nL 472.351342 268.68573 \r\nL 472.351342 281.759257 \r\nL 472.351342 156.090041 \r\nL 471.513902 268.344013 \r\nL 471.513902 281.759258 \r\nL 471.513902 156.083743 \r\nL 470.703476 267.932093 \r\nL 470.703476 281.759258 \r\nL 470.703476 156.069902 \r\nL 469.866035 267.406457 \r\nL 469.866035 281.759258 \r\nL 469.866035 156.569688 \r\nL 469.055609 266.88064 \r\nL 469.055609 281.75926 \r\nL 469.055609 156.723163 \r\nL 468.218169 266.530019 \r\nL 468.218169 281.75926 \r\nL 468.218169 157.383416 \r\nL 467.461771 266.336992 \r\nL 467.461771 281.75926 \r\nL 467.461771 157.941693 \r\nL 466.624331 266.231986 \r\nL 466.624331 281.759261 \r\nL 466.624331 158.869071 \r\nL 465.78689 266.206328 \r\nL 465.78689 281.759261 \r\nL 465.78689 160.309973 \r\nL 464.976464 266.267628 \r\nL 464.976464 281.759261 \r\nL 464.976464 161.991908 \r\nL 464.139024 266.092445 \r\nL 464.139024 281.76358 \r\nL 464.139024 162.931254 \r\nL 463.328598 265.767663 \r\nL 463.328598 281.76357 \r\nL 463.328598 163.912379 \r\nL 462.491157 266.074478 \r\nL 462.491157 281.76357 \r\nL 462.491157 165.769356 \r\nL 461.653717 266.144382 \r\nL 461.653717 281.76357 \r\nL 461.653717 166.084237 \r\nL 460.843291 265.504795 \r\nL 460.843291 281.76357 \r\nL 460.843291 167.91779 \r\nL 460.005851 265.574788 \r\nL 460.005851 281.76357 \r\nL 460.005851 168.301585 \r\nL 459.195425 265.610291 \r\nL 459.195425 281.76357 \r\nL 459.195425 169.8404 \r\nL 458.357984 266.548068 \r\nL 458.357984 281.76357 \r\nL 458.357984 172.758764 \r\nL 457.601586 266.959924 \r\nL 457.601586 281.76357 \r\nL 457.601586 174.173294 \r\nL 456.764146 266.048391 \r\nL 456.764146 281.76357 \r\nL 456.764146 173.886642 \r\nL 455.926706 265.548768 \r\nL 455.926706 281.76357 \r\nL 455.926706 175.624242 \r\nL 455.11628 265.478605 \r\nL 455.11628 281.76357 \r\nL 455.11628 177.551594 \r\nL 454.278839 264.304434 \r\nL 454.278839 281.76357 \r\nL 454.278839 177.40493 \r\nL 453.468413 263.638609 \r\nL 453.468413 281.76357 \r\nL 453.468413 178.25452 \r\nL 452.630973 264.059297 \r\nL 452.630973 281.76357 \r\nL 452.630973 179.51274 \r\nL 451.793533 264.182155 \r\nL 451.793533 281.76357 \r\nL 451.793533 180.599294 \r\nL 450.983106 263.665712 \r\nL 450.983106 253.624868 \r\nL 450.983106 281.76357 \r\nL 450.983106 182.559222 \r\nL 450.145666 264.286686 \r\nL 450.145666 253.684902 \r\nL 450.145666 281.76357 \r\nL 450.145666 183.286573 \r\nL 449.33524 263.944671 \r\nL 449.33524 254.732572 \r\nL 449.33524 281.76357 \r\nL 449.33524 184.2649 \r\nL 448.4978 264.365252 \r\nL 448.4978 256.423067 \r\nL 448.4978 281.76357 \r\nL 448.4978 186.453712 \r\nL 447.741402 277.236021 \r\nL 447.741402 281.76357 \r\nL 447.741402 188.601071 \r\nL 446.903962 265.407108 \r\nL 446.903962 257.297158 \r\nL 446.903962 281.76357 \r\nL 446.903962 188.007638 \r\nL 446.066521 264.206312 \r\nL 446.066521 258.325215 \r\nL 446.066521 281.76357 \r\nL 446.066521 188.346126 \r\nL 445.256095 265.029717 \r\nL 445.256095 258.222485 \r\nL 445.256095 281.76357 \r\nL 445.256095 189.109163 \r\nL 444.418655 277.167375 \r\nL 444.418655 281.76357 \r\nL 444.418655 193.922954 \r\nL 443.608229 271.010433 \r\nL 443.608229 281.76357 \r\nL 443.608229 197.243639 \r\nL 442.770788 271.811372 \r\nL 442.770788 281.76357 \r\nL 442.770788 197.771792 \r\nL 441.933348 272.471436 \r\nL 441.933348 281.76357 \r\nL 441.933348 198.590855 \r\nL 441.122922 271.956306 \r\nL 441.122922 281.76357 \r\nL 441.122922 199.495193 \r\nL 440.285482 272.775846 \r\nL 440.285482 281.76357 \r\nL 440.285482 199.593701 \r\nL 439.475055 271.613323 \r\nL 439.475055 281.76357 \r\nL 439.475055 199.067634 \r\nL 438.637615 271.902441 \r\nL 438.637615 281.76357 \r\nL 438.637615 199.764619 \r\nL 437.854203 273.137985 \r\nL 437.854203 281.76357 \r\nL 437.854203 200.816486 \r\nL 437.016763 272.967231 \r\nL 437.016763 281.76357 \r\nL 437.016763 200.893901 \r\nL 436.179323 272.694066 \r\nL 436.179323 281.76357 \r\nL 436.179323 201.59342 \r\nL 435.368896 273.543814 \r\nL 435.368896 281.76357 \r\nL 435.368896 202.209018 \r\nL 434.531456 273.368491 \r\nL 434.531456 281.76357 \r\nL 434.531456 202.834941 \r\nL 433.72103 272.877923 \r\nL 433.72103 281.76357 \r\nL 433.72103 202.852508 \r\nL 432.88359 273.946923 \r\nL 432.88359 281.76357 \r\nL 432.88359 203.494007 \r\nL 432.046149 274.148604 \r\nL 432.046149 281.76357 \r\nL 432.046149 204.061486 \r\nL 431.235723 273.710245 \r\nL 431.235723 281.76357 \r\nL 431.235723 204.400448 \r\nL 430.398283 273.491115 \r\nL 430.398283 281.76357 \r\nL 430.398283 204.302517 \r\nL 429.587857 272.711182 \r\nL 429.587857 281.76357 \r\nL 429.587857 204.219297 \r\nL 428.750416 273.158127 \r\nL 428.750416 281.76357 \r\nL 428.750416 204.846284 \r\nL 427.994019 273.596365 \r\nL 427.994019 281.76357 \r\nL 427.994019 205.464469 \r\nL 427.156578 273.489918 \r\nL 427.156578 281.76357 \r\nL 427.156578 205.704009 \r\nL 426.319138 273.097251 \r\nL 426.319138 281.76357 \r\nL 426.319138 206.115644 \r\nL 425.508712 273.618786 \r\nL 425.508712 281.76357 \r\nL 425.508712 206.544274 \r\nL 424.671272 273.776387 \r\nL 424.671272 281.76357 \r\nL 424.671272 207.222092 \r\nL 423.860845 273.331411 \r\nL 423.860845 281.76357 \r\nL 423.860845 207.151471 \r\nL 423.023405 273.590946 \r\nL 423.023405 281.76357 \r\nL 423.023405 207.770858 \r\nL 422.185965 273.731033 \r\nL 422.185965 281.76357 \r\nL 422.185965 207.98383 \r\nL 421.375539 273.400387 \r\nL 421.375539 281.76357 \r\nL 421.375539 208.538179 \r\nL 420.538098 273.306926 \r\nL 420.538098 281.76357 \r\nL 420.538098 208.54746 \r\nL 419.727672 272.632724 \r\nL 419.727672 281.76357 \r\nL 419.727672 208.412188 \r\nL 418.890232 273.005028 \r\nL 418.890232 281.76357 \r\nL 418.890232 209.29955 \r\nL 418.133834 273.384539 \r\nL 418.133834 281.76357 \r\nL 418.133834 209.94636 \r\nL 417.296394 273.317796 \r\nL 417.296394 281.76357 \r\nL 417.296394 210.171163 \r\nL 416.458953 273.115671 \r\nL 416.458953 281.76357 \r\nL 416.458953 210.855443 \r\nL 415.648527 273.556754 \r\nL 415.648527 281.76357 \r\nL 415.648527 211.426739 \r\nL 414.811087 273.75243 \r\nL 414.811087 281.76357 \r\nL 414.811087 212.254025 \r\nL 414.000661 273.410809 \r\nL 414.000661 281.76357 \r\nL 414.000661 212.304647 \r\nL 413.16322 273.507271 \r\nL 413.16322 281.76357 \r\nL 413.16322 212.649136 \r\nL 412.32578 273.672355 \r\nL 412.32578 281.76357 \r\nL 412.32578 213.097085 \r\nL 411.515354 273.340318 \r\nL 411.515354 281.76357 \r\nL 411.515354 213.610702 \r\nL 410.677914 273.077272 \r\nL 410.677914 281.76357 \r\nL 410.677914 213.727622 \r\nL 409.867488 272.483316 \r\nL 409.867488 281.76357 \r\nL 409.867488 213.618951 \r\nL 409.030047 272.730784 \r\nL 409.030047 281.76357 \r\nL 409.030047 214.177998 \r\nL 408.27365 273.116507 \r\nL 408.27365 281.76357 \r\nL 408.27365 214.926264 \r\nL 407.436209 272.973386 \r\nL 407.436209 281.76357 \r\nL 407.436209 215.203152 \r\nL 406.598769 272.731651 \r\nL 406.598769 281.76357 \r\nL 406.598769 215.824698 \r\nL 405.788343 273.159361 \r\nL 405.788343 281.76357 \r\nL 405.788343 216.661798 \r\nL 404.950902 273.338713 \r\nL 404.950902 281.76357 \r\nL 404.950902 217.105388 \r\nL 404.140476 273.204797 \r\nL 404.140476 281.76357 \r\nL 404.140476 217.351636 \r\nL 403.303036 273.329382 \r\nL 403.303036 281.76357 \r\nL 403.303036 217.6529 \r\nL 402.465596 273.467435 \r\nL 402.465596 281.76357 \r\nL 402.465596 218.022964 \r\nL 401.655169 273.368488 \r\nL 401.655169 281.76357 \r\nL 401.655169 218.706011 \r\nL 400.817729 273.584528 \r\nL 400.817729 281.76357 \r\nL 400.817729 219.254483 \r\nL 400.007303 273.132876 \r\nL 400.007303 281.76357 \r\nL 400.007303 219.278327 \r\nL 399.169863 273.367498 \r\nL 399.169863 281.76357 \r\nL 399.169863 219.621159 \r\nL 398.386451 273.80845 \r\nL 398.386451 281.76357 \r\nL 398.386451 220.34588 \r\nL 397.54901 273.625075 \r\nL 397.54901 281.76357 \r\nL 397.54901 220.444637 \r\nL 396.71157 273.39765 \r\nL 396.71157 281.76357 \r\nL 396.71157 221.083408 \r\nL 395.901144 273.492571 \r\nL 395.901144 281.76357 \r\nL 395.901144 221.542459 \r\nL 395.063704 273.717709 \r\nL 395.063704 281.76357 \r\nL 395.063704 222.326214 \r\nL 394.253278 276.708461 \r\nL 394.253278 281.76357 \r\nL 394.253278 222.266539 \r\nL 393.415837 273.552832 \r\nL 393.415837 281.76357 \r\nL 393.415837 222.606927 \r\nL 392.578397 273.633931 \r\nL 392.578397 281.76357 \r\nL 392.578397 223.317332 \r\nL 391.767971 276.659391 \r\nL 391.767971 281.76357 \r\nL 391.767971 224.298486 \r\nL 390.93053 276.631037 \r\nL 390.93053 281.76357 \r\nL 390.93053 225.155152 \r\nL 390.120104 276.631003 \r\nL 390.120104 281.76357 \r\nL 390.120104 225.151694 \r\nL 389.282664 276.630956 \r\nL 389.282664 281.76357 \r\nL 389.282664 225.283003 \r\nL 388.526266 280.821818 \r\nL 388.526266 281.76357 \r\nL 388.526266 225.672168 \r\nL 387.688826 276.604628 \r\nL 387.688826 281.76357 \r\nL 387.688826 225.634233 \r\nL 386.851386 276.6045 \r\nL 386.851386 281.76357 \r\nL 386.851386 226.17966 \r\nL 386.040959 276.567487 \r\nL 386.040959 281.76357 \r\nL 386.040959 226.713575 \r\nL 385.203519 276.567436 \r\nL 385.203519 281.76357 \r\nL 385.203519 227.189303 \r\nL 384.393093 276.567402 \r\nL 384.393093 281.76357 \r\nL 384.393093 227.344867 \r\nL 383.555653 276.567375 \r\nL 383.555653 281.76357 \r\nL 383.555653 227.789484 \r\nL 382.718212 276.567353 \r\nL 382.718212 281.76357 \r\nL 382.718212 228.081025 \r\nL 381.907786 280.871018 \r\nL 381.907786 281.76357 \r\nL 381.907786 229.019798 \r\nL 381.070346 280.875967 \r\nL 381.070346 281.76357 \r\nL 381.070346 229.323462 \r\nL 380.25992 276.534317 \r\nL 380.25992 281.76357 \r\nL 380.25992 229.136345 \r\nL 379.422479 276.533971 \r\nL 379.422479 281.76357 \r\nL 379.422479 229.15894 \r\nL 378.666082 281.371613 \r\nL 378.666082 281.76357 \r\nL 378.666082 229.739218 \r\nL 377.828641 276.482209 \r\nL 377.828641 281.76357 \r\nL 377.828641 229.684803 \r\nL 376.991201 276.444644 \r\nL 376.991201 281.76357 \r\nL 376.991201 230.162723 \r\nL 376.180775 281.371435 \r\nL 376.180775 281.76357 \r\nL 376.180775 230.801627 \r\nL 375.343335 275.324198 \r\nL 375.343335 281.76357 \r\nL 375.343335 230.876282 \r\nL 374.532908 275.344085 \r\nL 374.532908 281.76357 \r\nL 374.532908 231.205635 \r\nL 373.695468 276.041022 \r\nL 373.695468 281.76357 \r\nL 373.695468 231.657539 \r\nL 372.858028 276.330187 \r\nL 372.858028 281.76357 \r\nL 372.858028 231.582952 \r\nL 372.047602 276.34406 \r\nL 372.047602 281.76357 \r\nL 372.047602 232.201863 \r\nL 371.210161 276.338678 \r\nL 371.210161 281.76357 \r\nL 371.210161 232.156595 \r\nL 370.399735 275.524471 \r\nL 370.399735 281.76357 \r\nL 370.399735 231.171777 \r\nL 369.562295 275.799378 \r\nL 369.562295 281.76357 \r\nL 369.562295 231.503701 \r\nL 368.805897 276.014146 \r\nL 368.805897 231.677093 \r\nL 368.805897 281.76357 \r\nL 368.805897 231.677093 \r\n\" style=\"fill:none;stroke:#ff7f0e;stroke-linecap:square;stroke-width:1.5;\"/>\r\n   </g>\r\n   <g id=\"patch_3\">\r\n    <path d=\"M 36.75 294.118125 \r\nL 36.75 22.318125 \r\n\" style=\"fill:none;stroke:#000000;stroke-linecap:square;stroke-linejoin:miter;stroke-width:0.8;\"/>\r\n   </g>\r\n   <g id=\"patch_4\">\r\n    <path d=\"M 594.75 294.118125 \r\nL 594.75 22.318125 \r\n\" style=\"fill:none;stroke:#000000;stroke-linecap:square;stroke-linejoin:miter;stroke-width:0.8;\"/>\r\n   </g>\r\n   <g id=\"patch_5\">\r\n    <path d=\"M 36.75 294.118125 \r\nL 594.75 294.118125 \r\n\" style=\"fill:none;stroke:#000000;stroke-linecap:square;stroke-linejoin:miter;stroke-width:0.8;\"/>\r\n   </g>\r\n   <g id=\"patch_6\">\r\n    <path d=\"M 36.75 22.318125 \r\nL 594.75 22.318125 \r\n\" style=\"fill:none;stroke:#000000;stroke-linecap:square;stroke-linejoin:miter;stroke-width:0.8;\"/>\r\n   </g>\r\n   <g id=\"text_8\">\r\n    <!-- Total Public Debt Outstanding in Millions per Quarter -->\r\n    <g transform=\"translate(158.176875 16.318125)scale(0.12 -0.12)\">\r\n     <defs>\r\n      <path d=\"M -0.296875 72.90625 \r\nL 61.375 72.90625 \r\nL 61.375 64.59375 \r\nL 35.5 64.59375 \r\nL 35.5 0 \r\nL 25.59375 0 \r\nL 25.59375 64.59375 \r\nL -0.296875 64.59375 \r\nz\r\n\" id=\"DejaVuSans-84\"/>\r\n      <path d=\"M 30.609375 48.390625 \r\nQ 23.390625 48.390625 19.1875 42.75 \r\nQ 14.984375 37.109375 14.984375 27.296875 \r\nQ 14.984375 17.484375 19.15625 11.84375 \r\nQ 23.34375 6.203125 30.609375 6.203125 \r\nQ 37.796875 6.203125 41.984375 11.859375 \r\nQ 46.1875 17.53125 46.1875 27.296875 \r\nQ 46.1875 37.015625 41.984375 42.703125 \r\nQ 37.796875 48.390625 30.609375 48.390625 \r\nz\r\nM 30.609375 56 \r\nQ 42.328125 56 49.015625 48.375 \r\nQ 55.71875 40.765625 55.71875 27.296875 \r\nQ 55.71875 13.875 49.015625 6.21875 \r\nQ 42.328125 -1.421875 30.609375 -1.421875 \r\nQ 18.84375 -1.421875 12.171875 6.21875 \r\nQ 5.515625 13.875 5.515625 27.296875 \r\nQ 5.515625 40.765625 12.171875 48.375 \r\nQ 18.84375 56 30.609375 56 \r\nz\r\n\" id=\"DejaVuSans-111\"/>\r\n      <path d=\"M 9.421875 75.984375 \r\nL 18.40625 75.984375 \r\nL 18.40625 0 \r\nL 9.421875 0 \r\nz\r\n\" id=\"DejaVuSans-108\"/>\r\n      <path id=\"DejaVuSans-32\"/>\r\n      <path d=\"M 19.671875 64.796875 \r\nL 19.671875 37.40625 \r\nL 32.078125 37.40625 \r\nQ 38.96875 37.40625 42.71875 40.96875 \r\nQ 46.484375 44.53125 46.484375 51.125 \r\nQ 46.484375 57.671875 42.71875 61.234375 \r\nQ 38.96875 64.796875 32.078125 64.796875 \r\nz\r\nM 9.8125 72.90625 \r\nL 32.078125 72.90625 \r\nQ 44.34375 72.90625 50.609375 67.359375 \r\nQ 56.890625 61.8125 56.890625 51.125 \r\nQ 56.890625 40.328125 50.609375 34.8125 \r\nQ 44.34375 29.296875 32.078125 29.296875 \r\nL 19.671875 29.296875 \r\nL 19.671875 0 \r\nL 9.8125 0 \r\nz\r\n\" id=\"DejaVuSans-80\"/>\r\n      <path d=\"M 8.5 21.578125 \r\nL 8.5 54.6875 \r\nL 17.484375 54.6875 \r\nL 17.484375 21.921875 \r\nQ 17.484375 14.15625 20.5 10.265625 \r\nQ 23.53125 6.390625 29.59375 6.390625 \r\nQ 36.859375 6.390625 41.078125 11.03125 \r\nQ 45.3125 15.671875 45.3125 23.6875 \r\nL 45.3125 54.6875 \r\nL 54.296875 54.6875 \r\nL 54.296875 0 \r\nL 45.3125 0 \r\nL 45.3125 8.40625 \r\nQ 42.046875 3.421875 37.71875 1 \r\nQ 33.40625 -1.421875 27.6875 -1.421875 \r\nQ 18.265625 -1.421875 13.375 4.4375 \r\nQ 8.5 10.296875 8.5 21.578125 \r\nz\r\nM 31.109375 56 \r\nz\r\n\" id=\"DejaVuSans-117\"/>\r\n      <path d=\"M 48.6875 27.296875 \r\nQ 48.6875 37.203125 44.609375 42.84375 \r\nQ 40.53125 48.484375 33.40625 48.484375 \r\nQ 26.265625 48.484375 22.1875 42.84375 \r\nQ 18.109375 37.203125 18.109375 27.296875 \r\nQ 18.109375 17.390625 22.1875 11.75 \r\nQ 26.265625 6.109375 33.40625 6.109375 \r\nQ 40.53125 6.109375 44.609375 11.75 \r\nQ 48.6875 17.390625 48.6875 27.296875 \r\nz\r\nM 18.109375 46.390625 \r\nQ 20.953125 51.265625 25.265625 53.625 \r\nQ 29.59375 56 35.59375 56 \r\nQ 45.5625 56 51.78125 48.09375 \r\nQ 58.015625 40.1875 58.015625 27.296875 \r\nQ 58.015625 14.40625 51.78125 6.484375 \r\nQ 45.5625 -1.421875 35.59375 -1.421875 \r\nQ 29.59375 -1.421875 25.265625 0.953125 \r\nQ 20.953125 3.328125 18.109375 8.203125 \r\nL 18.109375 0 \r\nL 9.078125 0 \r\nL 9.078125 75.984375 \r\nL 18.109375 75.984375 \r\nz\r\n\" id=\"DejaVuSans-98\"/>\r\n      <path d=\"M 9.421875 54.6875 \r\nL 18.40625 54.6875 \r\nL 18.40625 0 \r\nL 9.421875 0 \r\nz\r\nM 9.421875 75.984375 \r\nL 18.40625 75.984375 \r\nL 18.40625 64.59375 \r\nL 9.421875 64.59375 \r\nz\r\n\" id=\"DejaVuSans-105\"/>\r\n      <path d=\"M 48.78125 52.59375 \r\nL 48.78125 44.1875 \r\nQ 44.96875 46.296875 41.140625 47.34375 \r\nQ 37.3125 48.390625 33.40625 48.390625 \r\nQ 24.65625 48.390625 19.8125 42.84375 \r\nQ 14.984375 37.3125 14.984375 27.296875 \r\nQ 14.984375 17.28125 19.8125 11.734375 \r\nQ 24.65625 6.203125 33.40625 6.203125 \r\nQ 37.3125 6.203125 41.140625 7.25 \r\nQ 44.96875 8.296875 48.78125 10.40625 \r\nL 48.78125 2.09375 \r\nQ 45.015625 0.34375 40.984375 -0.53125 \r\nQ 36.96875 -1.421875 32.421875 -1.421875 \r\nQ 20.0625 -1.421875 12.78125 6.34375 \r\nQ 5.515625 14.109375 5.515625 27.296875 \r\nQ 5.515625 40.671875 12.859375 48.328125 \r\nQ 20.21875 56 33.015625 56 \r\nQ 37.15625 56 41.109375 55.140625 \r\nQ 45.0625 54.296875 48.78125 52.59375 \r\nz\r\n\" id=\"DejaVuSans-99\"/>\r\n      <path d=\"M 19.671875 64.796875 \r\nL 19.671875 8.109375 \r\nL 31.59375 8.109375 \r\nQ 46.6875 8.109375 53.6875 14.9375 \r\nQ 60.6875 21.78125 60.6875 36.53125 \r\nQ 60.6875 51.171875 53.6875 57.984375 \r\nQ 46.6875 64.796875 31.59375 64.796875 \r\nz\r\nM 9.8125 72.90625 \r\nL 30.078125 72.90625 \r\nQ 51.265625 72.90625 61.171875 64.09375 \r\nQ 71.09375 55.28125 71.09375 36.53125 \r\nQ 71.09375 17.671875 61.125 8.828125 \r\nQ 51.171875 0 30.078125 0 \r\nL 9.8125 0 \r\nz\r\n\" id=\"DejaVuSans-68\"/>\r\n      <path d=\"M 39.40625 66.21875 \r\nQ 28.65625 66.21875 22.328125 58.203125 \r\nQ 16.015625 50.203125 16.015625 36.375 \r\nQ 16.015625 22.609375 22.328125 14.59375 \r\nQ 28.65625 6.59375 39.40625 6.59375 \r\nQ 50.140625 6.59375 56.421875 14.59375 \r\nQ 62.703125 22.609375 62.703125 36.375 \r\nQ 62.703125 50.203125 56.421875 58.203125 \r\nQ 50.140625 66.21875 39.40625 66.21875 \r\nz\r\nM 39.40625 74.21875 \r\nQ 54.734375 74.21875 63.90625 63.9375 \r\nQ 73.09375 53.65625 73.09375 36.375 \r\nQ 73.09375 19.140625 63.90625 8.859375 \r\nQ 54.734375 -1.421875 39.40625 -1.421875 \r\nQ 24.03125 -1.421875 14.8125 8.828125 \r\nQ 5.609375 19.09375 5.609375 36.375 \r\nQ 5.609375 53.65625 14.8125 63.9375 \r\nQ 24.03125 74.21875 39.40625 74.21875 \r\nz\r\n\" id=\"DejaVuSans-79\"/>\r\n      <path d=\"M 44.28125 53.078125 \r\nL 44.28125 44.578125 \r\nQ 40.484375 46.53125 36.375 47.5 \r\nQ 32.28125 48.484375 27.875 48.484375 \r\nQ 21.1875 48.484375 17.84375 46.4375 \r\nQ 14.5 44.390625 14.5 40.28125 \r\nQ 14.5 37.15625 16.890625 35.375 \r\nQ 19.28125 33.59375 26.515625 31.984375 \r\nL 29.59375 31.296875 \r\nQ 39.15625 29.25 43.1875 25.515625 \r\nQ 47.21875 21.78125 47.21875 15.09375 \r\nQ 47.21875 7.46875 41.1875 3.015625 \r\nQ 35.15625 -1.421875 24.609375 -1.421875 \r\nQ 20.21875 -1.421875 15.453125 -0.5625 \r\nQ 10.6875 0.296875 5.421875 2 \r\nL 5.421875 11.28125 \r\nQ 10.40625 8.6875 15.234375 7.390625 \r\nQ 20.0625 6.109375 24.8125 6.109375 \r\nQ 31.15625 6.109375 34.5625 8.28125 \r\nQ 37.984375 10.453125 37.984375 14.40625 \r\nQ 37.984375 18.0625 35.515625 20.015625 \r\nQ 33.0625 21.96875 24.703125 23.78125 \r\nL 21.578125 24.515625 \r\nQ 13.234375 26.265625 9.515625 29.90625 \r\nQ 5.8125 33.546875 5.8125 39.890625 \r\nQ 5.8125 47.609375 11.28125 51.796875 \r\nQ 16.75 56 26.8125 56 \r\nQ 31.78125 56 36.171875 55.265625 \r\nQ 40.578125 54.546875 44.28125 53.078125 \r\nz\r\n\" id=\"DejaVuSans-115\"/>\r\n      <path d=\"M 54.890625 33.015625 \r\nL 54.890625 0 \r\nL 45.90625 0 \r\nL 45.90625 32.71875 \r\nQ 45.90625 40.484375 42.875 44.328125 \r\nQ 39.84375 48.1875 33.796875 48.1875 \r\nQ 26.515625 48.1875 22.3125 43.546875 \r\nQ 18.109375 38.921875 18.109375 30.90625 \r\nL 18.109375 0 \r\nL 9.078125 0 \r\nL 9.078125 54.6875 \r\nL 18.109375 54.6875 \r\nL 18.109375 46.1875 \r\nQ 21.34375 51.125 25.703125 53.5625 \r\nQ 30.078125 56 35.796875 56 \r\nQ 45.21875 56 50.046875 50.171875 \r\nQ 54.890625 44.34375 54.890625 33.015625 \r\nz\r\n\" id=\"DejaVuSans-110\"/>\r\n      <path d=\"M 45.40625 27.984375 \r\nQ 45.40625 37.75 41.375 43.109375 \r\nQ 37.359375 48.484375 30.078125 48.484375 \r\nQ 22.859375 48.484375 18.828125 43.109375 \r\nQ 14.796875 37.75 14.796875 27.984375 \r\nQ 14.796875 18.265625 18.828125 12.890625 \r\nQ 22.859375 7.515625 30.078125 7.515625 \r\nQ 37.359375 7.515625 41.375 12.890625 \r\nQ 45.40625 18.265625 45.40625 27.984375 \r\nz\r\nM 54.390625 6.78125 \r\nQ 54.390625 -7.171875 48.1875 -13.984375 \r\nQ 42 -20.796875 29.203125 -20.796875 \r\nQ 24.46875 -20.796875 20.265625 -20.09375 \r\nQ 16.0625 -19.390625 12.109375 -17.921875 \r\nL 12.109375 -9.1875 \r\nQ 16.0625 -11.328125 19.921875 -12.34375 \r\nQ 23.78125 -13.375 27.78125 -13.375 \r\nQ 36.625 -13.375 41.015625 -8.765625 \r\nQ 45.40625 -4.15625 45.40625 5.171875 \r\nL 45.40625 9.625 \r\nQ 42.625 4.78125 38.28125 2.390625 \r\nQ 33.9375 0 27.875 0 \r\nQ 17.828125 0 11.671875 7.65625 \r\nQ 5.515625 15.328125 5.515625 27.984375 \r\nQ 5.515625 40.671875 11.671875 48.328125 \r\nQ 17.828125 56 27.875 56 \r\nQ 33.9375 56 38.28125 53.609375 \r\nQ 42.625 51.21875 45.40625 46.390625 \r\nL 45.40625 54.6875 \r\nL 54.390625 54.6875 \r\nz\r\n\" id=\"DejaVuSans-103\"/>\r\n      <path d=\"M 9.8125 72.90625 \r\nL 24.515625 72.90625 \r\nL 43.109375 23.296875 \r\nL 61.8125 72.90625 \r\nL 76.515625 72.90625 \r\nL 76.515625 0 \r\nL 66.890625 0 \r\nL 66.890625 64.015625 \r\nL 48.09375 14.015625 \r\nL 38.1875 14.015625 \r\nL 19.390625 64.015625 \r\nL 19.390625 0 \r\nL 9.8125 0 \r\nz\r\n\" id=\"DejaVuSans-77\"/>\r\n      <path d=\"M 18.109375 8.203125 \r\nL 18.109375 -20.796875 \r\nL 9.078125 -20.796875 \r\nL 9.078125 54.6875 \r\nL 18.109375 54.6875 \r\nL 18.109375 46.390625 \r\nQ 20.953125 51.265625 25.265625 53.625 \r\nQ 29.59375 56 35.59375 56 \r\nQ 45.5625 56 51.78125 48.09375 \r\nQ 58.015625 40.1875 58.015625 27.296875 \r\nQ 58.015625 14.40625 51.78125 6.484375 \r\nQ 45.5625 -1.421875 35.59375 -1.421875 \r\nQ 29.59375 -1.421875 25.265625 0.953125 \r\nQ 20.953125 3.328125 18.109375 8.203125 \r\nz\r\nM 48.6875 27.296875 \r\nQ 48.6875 37.203125 44.609375 42.84375 \r\nQ 40.53125 48.484375 33.40625 48.484375 \r\nQ 26.265625 48.484375 22.1875 42.84375 \r\nQ 18.109375 37.203125 18.109375 27.296875 \r\nQ 18.109375 17.390625 22.1875 11.75 \r\nQ 26.265625 6.109375 33.40625 6.109375 \r\nQ 40.53125 6.109375 44.609375 11.75 \r\nQ 48.6875 17.390625 48.6875 27.296875 \r\nz\r\n\" id=\"DejaVuSans-112\"/>\r\n      <path d=\"M 41.109375 46.296875 \r\nQ 39.59375 47.171875 37.8125 47.578125 \r\nQ 36.03125 48 33.890625 48 \r\nQ 26.265625 48 22.1875 43.046875 \r\nQ 18.109375 38.09375 18.109375 28.8125 \r\nL 18.109375 0 \r\nL 9.078125 0 \r\nL 9.078125 54.6875 \r\nL 18.109375 54.6875 \r\nL 18.109375 46.1875 \r\nQ 20.953125 51.171875 25.484375 53.578125 \r\nQ 30.03125 56 36.53125 56 \r\nQ 37.453125 56 38.578125 55.875 \r\nQ 39.703125 55.765625 41.0625 55.515625 \r\nz\r\n\" id=\"DejaVuSans-114\"/>\r\n      <path d=\"M 39.40625 66.21875 \r\nQ 28.65625 66.21875 22.328125 58.203125 \r\nQ 16.015625 50.203125 16.015625 36.375 \r\nQ 16.015625 22.609375 22.328125 14.59375 \r\nQ 28.65625 6.59375 39.40625 6.59375 \r\nQ 50.140625 6.59375 56.421875 14.59375 \r\nQ 62.703125 22.609375 62.703125 36.375 \r\nQ 62.703125 50.203125 56.421875 58.203125 \r\nQ 50.140625 66.21875 39.40625 66.21875 \r\nz\r\nM 53.21875 1.3125 \r\nL 66.21875 -12.890625 \r\nL 54.296875 -12.890625 \r\nL 43.5 -1.21875 \r\nQ 41.890625 -1.3125 41.03125 -1.359375 \r\nQ 40.1875 -1.421875 39.40625 -1.421875 \r\nQ 24.03125 -1.421875 14.8125 8.859375 \r\nQ 5.609375 19.140625 5.609375 36.375 \r\nQ 5.609375 53.65625 14.8125 63.9375 \r\nQ 24.03125 74.21875 39.40625 74.21875 \r\nQ 54.734375 74.21875 63.90625 63.9375 \r\nQ 73.09375 53.65625 73.09375 36.375 \r\nQ 73.09375 23.6875 67.984375 14.640625 \r\nQ 62.890625 5.609375 53.21875 1.3125 \r\nz\r\n\" id=\"DejaVuSans-81\"/>\r\n     </defs>\r\n     <use xlink:href=\"#DejaVuSans-84\"/>\r\n     <use x=\"44.083984\" xlink:href=\"#DejaVuSans-111\"/>\r\n     <use x=\"105.265625\" xlink:href=\"#DejaVuSans-116\"/>\r\n     <use x=\"144.474609\" xlink:href=\"#DejaVuSans-97\"/>\r\n     <use x=\"205.753906\" xlink:href=\"#DejaVuSans-108\"/>\r\n     <use x=\"233.537109\" xlink:href=\"#DejaVuSans-32\"/>\r\n     <use x=\"265.324219\" xlink:href=\"#DejaVuSans-80\"/>\r\n     <use x=\"323.876953\" xlink:href=\"#DejaVuSans-117\"/>\r\n     <use x=\"387.255859\" xlink:href=\"#DejaVuSans-98\"/>\r\n     <use x=\"450.732422\" xlink:href=\"#DejaVuSans-108\"/>\r\n     <use x=\"478.515625\" xlink:href=\"#DejaVuSans-105\"/>\r\n     <use x=\"506.298828\" xlink:href=\"#DejaVuSans-99\"/>\r\n     <use x=\"561.279297\" xlink:href=\"#DejaVuSans-32\"/>\r\n     <use x=\"593.066406\" xlink:href=\"#DejaVuSans-68\"/>\r\n     <use x=\"670.068359\" xlink:href=\"#DejaVuSans-101\"/>\r\n     <use x=\"731.591797\" xlink:href=\"#DejaVuSans-98\"/>\r\n     <use x=\"795.068359\" xlink:href=\"#DejaVuSans-116\"/>\r\n     <use x=\"834.277344\" xlink:href=\"#DejaVuSans-32\"/>\r\n     <use x=\"866.064453\" xlink:href=\"#DejaVuSans-79\"/>\r\n     <use x=\"944.775391\" xlink:href=\"#DejaVuSans-117\"/>\r\n     <use x=\"1008.154297\" xlink:href=\"#DejaVuSans-116\"/>\r\n     <use x=\"1047.363281\" xlink:href=\"#DejaVuSans-115\"/>\r\n     <use x=\"1099.462891\" xlink:href=\"#DejaVuSans-116\"/>\r\n     <use x=\"1138.671875\" xlink:href=\"#DejaVuSans-97\"/>\r\n     <use x=\"1199.951172\" xlink:href=\"#DejaVuSans-110\"/>\r\n     <use x=\"1263.330078\" xlink:href=\"#DejaVuSans-100\"/>\r\n     <use x=\"1326.806641\" xlink:href=\"#DejaVuSans-105\"/>\r\n     <use x=\"1354.589844\" xlink:href=\"#DejaVuSans-110\"/>\r\n     <use x=\"1417.96875\" xlink:href=\"#DejaVuSans-103\"/>\r\n     <use x=\"1481.445312\" xlink:href=\"#DejaVuSans-32\"/>\r\n     <use x=\"1513.232422\" xlink:href=\"#DejaVuSans-105\"/>\r\n     <use x=\"1541.015625\" xlink:href=\"#DejaVuSans-110\"/>\r\n     <use x=\"1604.394531\" xlink:href=\"#DejaVuSans-32\"/>\r\n     <use x=\"1636.181641\" xlink:href=\"#DejaVuSans-77\"/>\r\n     <use x=\"1722.460938\" xlink:href=\"#DejaVuSans-105\"/>\r\n     <use x=\"1750.244141\" xlink:href=\"#DejaVuSans-108\"/>\r\n     <use x=\"1778.027344\" xlink:href=\"#DejaVuSans-108\"/>\r\n     <use x=\"1805.810547\" xlink:href=\"#DejaVuSans-105\"/>\r\n     <use x=\"1833.59375\" xlink:href=\"#DejaVuSans-111\"/>\r\n     <use x=\"1894.775391\" xlink:href=\"#DejaVuSans-110\"/>\r\n     <use x=\"1958.154297\" xlink:href=\"#DejaVuSans-115\"/>\r\n     <use x=\"2010.253906\" xlink:href=\"#DejaVuSans-32\"/>\r\n     <use x=\"2042.041016\" xlink:href=\"#DejaVuSans-112\"/>\r\n     <use x=\"2105.517578\" xlink:href=\"#DejaVuSans-101\"/>\r\n     <use x=\"2167.041016\" xlink:href=\"#DejaVuSans-114\"/>\r\n     <use x=\"2208.154297\" xlink:href=\"#DejaVuSans-32\"/>\r\n     <use x=\"2239.941406\" xlink:href=\"#DejaVuSans-81\"/>\r\n     <use x=\"2318.652344\" xlink:href=\"#DejaVuSans-117\"/>\r\n     <use x=\"2382.03125\" xlink:href=\"#DejaVuSans-97\"/>\r\n     <use x=\"2443.310547\" xlink:href=\"#DejaVuSans-114\"/>\r\n     <use x=\"2484.423828\" xlink:href=\"#DejaVuSans-116\"/>\r\n     <use x=\"2523.632812\" xlink:href=\"#DejaVuSans-101\"/>\r\n     <use x=\"2585.15625\" xlink:href=\"#DejaVuSans-114\"/>\r\n    </g>\r\n   </g>\r\n  </g>\r\n </g>\r\n <defs>\r\n  <clipPath id=\"p0684f82376\">\r\n   <rect height=\"271.8\" width=\"558\" x=\"36.75\" y=\"22.318125\"/>\r\n  </clipPath>\r\n </defs>\r\n</svg>\r\n",
      "image/png": "[encoded data removed]"
     },
     "metadata": {
      "needs_background": "light"
     }
    }
   ],
   "source": [
    "fig, ax = plt.subplots(figsize = (12, 4))\n",
    "ax.plot()\n",
    "\n",
    "plt.title('Total Public Debt Outstanding in Millions per Quarter')\n",
    "plt.plot(df.Record_Date, df.Total_Public_Debt_OutstandingM)\n",
    "\n",
    "\n",
    "\n",
    "df = df[::1]\n",
    "\n",
    "\n",
    "\n",
    "plt.show()"
   ]
  },
  {
   "cell_type": "code",
   "execution_count": null,
   "metadata": {},
   "outputs": [],
   "source": []
  }
 ]
}