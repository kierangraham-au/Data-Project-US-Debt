{
 "metadata": {
  "language_info": {
   "codemirror_mode": {
    "name": "ipython",
    "version": 3
   },
   "file_extension": ".py",
   "mimetype": "text/x-python",
   "name": "python",
   "nbconvert_exporter": "python",
   "pygments_lexer": "ipython3",
   "version": "3.8.8"
  },
  "orig_nbformat": 4,
  "kernelspec": {
   "name": "python3",
   "display_name": "Python 3.8.8 64-bit ('base': conda)"
  },
  "interpreter": {
   "hash": "dfa9a9b2480e35abc07bacabfdb453bd2a80584328a96563325b465c8ec2f4c9"
  }
 },
 "nbformat": 4,
 "nbformat_minor": 2,
 "cells": [
  {
   "source": [
    "# MSPD\n",
    "\n",
    "\n",
    "\n",
    "Monthly Statement of the Public Debt [MSPD] (https://fiscaldata.treasury.gov/static-data/MSPD_SumSecty_5_years.csv.zip) (USD)"
   ],
   "cell_type": "markdown",
   "metadata": {}
  },
  {
   "cell_type": "code",
   "execution_count": 1,
   "metadata": {},
   "outputs": [],
   "source": [
    "import matplotlib\n",
    "import matplotlib.pyplot as plt\n",
    "import numpy as np\n",
    "import pandas as pd\n",
    "import os\n",
    "import datetime"
   ]
  },
  {
   "cell_type": "code",
   "execution_count": 2,
   "metadata": {},
   "outputs": [],
   "source": [
    "%matplotlib inline"
   ]
  },
  {
   "cell_type": "code",
   "execution_count": 3,
   "metadata": {},
   "outputs": [],
   "source": [
    "plt.rcParams['figure.figsize'] = (10, 5)"
   ]
  },
  {
   "cell_type": "code",
   "execution_count": 4,
   "metadata": {},
   "outputs": [],
   "source": [
    "saved_style_state = matplotlib.rcParams.copy() #give us a style state to go back to"
   ]
  },
  {
   "cell_type": "code",
   "execution_count": 5,
   "metadata": {},
   "outputs": [
    {
     "output_type": "stream",
     "name": "stdout",
     "text": [
      "loading from file\ndone\n"
     ]
    }
   ],
   "source": [
    "if os.path.isfile(\"MSPD_SumSecty_all_years.csv\"):\n",
    "    filepath = \"MSPD_SumSecty_all_years.csv\"\n",
    "    print(\"loading from file\")\n",
    "else:\n",
    "    filepath = \"https://fiscaldata.treasury.gov/static-data/MSPD_SumSecty_5_years.csv.zip\"\n",
    "    print(\"loading from the internet\")\n",
    "\n",
    "df = pd.read_csv(filepath)\n",
    "print(\"done\")"
   ]
  },
  {
   "cell_type": "code",
   "execution_count": 6,
   "metadata": {},
   "outputs": [
    {
     "output_type": "execute_result",
     "data": {
      "text/plain": [
       "   Record_Date      Security_Type_Description  \\\n",
       "0   31/05/2021                     Marketable   \n",
       "1   31/05/2021                     Marketable   \n",
       "2   31/05/2021                     Marketable   \n",
       "3   31/05/2021                     Marketable   \n",
       "4   31/05/2021                     Marketable   \n",
       "5   31/05/2021                     Marketable   \n",
       "6   31/05/2021               Total Marketable   \n",
       "7   31/05/2021                  Nonmarketable   \n",
       "8   31/05/2021                  Nonmarketable   \n",
       "9   31/05/2021                  Nonmarketable   \n",
       "10  31/05/2021                  Nonmarketable   \n",
       "11  31/05/2021                  Nonmarketable   \n",
       "12  31/05/2021                  Nonmarketable   \n",
       "13  31/05/2021            Total Nonmarketable   \n",
       "14  31/05/2021  Total Public Debt Outstanding   \n",
       "\n",
       "                 Security_Class_Description  Debt_Held_by_the_PublicM  \\\n",
       "0                                     Bills              4.375781e+06   \n",
       "1                                     Notes              1.182116e+07   \n",
       "2                                     Bonds              3.087149e+06   \n",
       "3   Treasury Inflation-Protected Securities              1.584621e+06   \n",
       "4                       Floating Rate Notes              5.273868e+05   \n",
       "5                    Federal Financing Bank              0.000000e+00   \n",
       "6                                         _              2.139610e+07   \n",
       "7                           Domestic Series              5.307535e+04   \n",
       "8                            Foreign Series              2.643420e+02   \n",
       "9         State and Local Government Series              1.253390e+05   \n",
       "10         United States Savings Securities              1.449151e+05   \n",
       "11                Government Account Series              2.982951e+05   \n",
       "12                                    Other              2.954593e+03   \n",
       "13                                        _              6.248435e+05   \n",
       "14                                        _              2.202094e+07   \n",
       "\n",
       "    Intragovernmental_HoldingsM  Total_Public_Debt_OutstandingM  \\\n",
       "0                  1.296420e+03                    4.377078e+06   \n",
       "1                  9.198022e+03                    1.183035e+07   \n",
       "2                  6.689686e+03                    3.093839e+06   \n",
       "3                  7.029200e+02                    1.585324e+06   \n",
       "4                  8.244500e+01                    5.274693e+05   \n",
       "5                  7.261857e+03                    7.261857e+03   \n",
       "6                  2.523135e+04                    2.142133e+07   \n",
       "7                  0.000000e+00                    5.307535e+04   \n",
       "8                  0.000000e+00                    2.643420e+02   \n",
       "9                  0.000000e+00                    1.253390e+05   \n",
       "10                 0.000000e+00                    1.449151e+05   \n",
       "11                 6.152838e+06                    6.451133e+06   \n",
       "12                 0.000000e+00                    2.954593e+03   \n",
       "13                 6.152838e+06                    6.777681e+06   \n",
       "14                 6.178069e+06                    2.819901e+07   \n",
       "\n",
       "    Source_Line_Number  Fiscal_Year  Fiscal_Quarter_Number  Calendar_Year  \\\n",
       "0                    1         2021                      3           2021   \n",
       "1                    2         2021                      3           2021   \n",
       "2                    3         2021                      3           2021   \n",
       "3                    4         2021                      3           2021   \n",
       "4                    5         2021                      3           2021   \n",
       "5                    6         2021                      3           2021   \n",
       "6                    7         2021                      3           2021   \n",
       "7                    8         2021                      3           2021   \n",
       "8                    9         2021                      3           2021   \n",
       "9                   10         2021                      3           2021   \n",
       "10                  11         2021                      3           2021   \n",
       "11                  12         2021                      3           2021   \n",
       "12                  13         2021                      3           2021   \n",
       "13                  14         2021                      3           2021   \n",
       "14                  15         2021                      3           2021   \n",
       "\n",
       "    Calendar_Quarter_Number  Calendar_Month_Number  Calendar_Day_Number  \n",
       "0                         2                      5                   31  \n",
       "1                         2                      5                   31  \n",
       "2                         2                      5                   31  \n",
       "3                         2                      5                   31  \n",
       "4                         2                      5                   31  \n",
       "5                         2                      5                   31  \n",
       "6                         2                      5                   31  \n",
       "7                         2                      5                   31  \n",
       "8                         2                      5                   31  \n",
       "9                         2                      5                   31  \n",
       "10                        2                      5                   31  \n",
       "11                        2                      5                   31  \n",
       "12                        2                      5                   31  \n",
       "13                        2                      5                   31  \n",
       "14                        2                      5                   31  "
      ],
      "text/html": "<div>\n<style scoped>\n    .dataframe tbody tr th:only-of-type {\n        vertical-align: middle;\n    }\n\n    .dataframe tbody tr th {\n        vertical-align: top;\n    }\n\n    .dataframe thead th {\n        text-align: right;\n    }\n</style>\n<table border=\"1\" class=\"dataframe\">\n  <thead>\n    <tr style=\"text-align: right;\">\n      <th></th>\n      <th>Record_Date</th>\n      <th>Security_Type_Description</th>\n      <th>Security_Class_Description</th>\n      <th>Debt_Held_by_the_PublicM</th>\n      <th>Intragovernmental_HoldingsM</th>\n      <th>Total_Public_Debt_OutstandingM</th>\n      <th>Source_Line_Number</th>\n      <th>Fiscal_Year</th>\n      <th>Fiscal_Quarter_Number</th>\n      <th>Calendar_Year</th>\n      <th>Calendar_Quarter_Number</th>\n      <th>Calendar_Month_Number</th>\n      <th>Calendar_Day_Number</th>\n    </tr>\n  </thead>\n  <tbody>\n    <tr>\n      <th>0</th>\n      <td>31/05/2021</td>\n      <td>Marketable</td>\n      <td>Bills</td>\n      <td>4.375781e+06</td>\n      <td>1.296420e+03</td>\n      <td>4.377078e+06</td>\n      <td>1</td>\n      <td>2021</td>\n      <td>3</td>\n      <td>2021</td>\n      <td>2</td>\n      <td>5</td>\n      <td>31</td>\n    </tr>\n    <tr>\n      <th>1</th>\n      <td>31/05/2021</td>\n      <td>Marketable</td>\n      <td>Notes</td>\n      <td>1.182116e+07</td>\n      <td>9.198022e+03</td>\n      <td>1.183035e+07</td>\n      <td>2</td>\n      <td>2021</td>\n      <td>3</td>\n      <td>2021</td>\n      <td>2</td>\n      <td>5</td>\n      <td>31</td>\n    </tr>\n    <tr>\n      <th>2</th>\n      <td>31/05/2021</td>\n      <td>Marketable</td>\n      <td>Bonds</td>\n      <td>3.087149e+06</td>\n      <td>6.689686e+03</td>\n      <td>3.093839e+06</td>\n      <td>3</td>\n      <td>2021</td>\n      <td>3</td>\n      <td>2021</td>\n      <td>2</td>\n      <td>5</td>\n      <td>31</td>\n    </tr>\n    <tr>\n      <th>3</th>\n      <td>31/05/2021</td>\n      <td>Marketable</td>\n      <td>Treasury Inflation-Protected Securities</td>\n      <td>1.584621e+06</td>\n      <td>7.029200e+02</td>\n      <td>1.585324e+06</td>\n      <td>4</td>\n      <td>2021</td>\n      <td>3</td>\n      <td>2021</td>\n      <td>2</td>\n      <td>5</td>\n      <td>31</td>\n    </tr>\n    <tr>\n      <th>4</th>\n      <td>31/05/2021</td>\n      <td>Marketable</td>\n      <td>Floating Rate Notes</td>\n      <td>5.273868e+05</td>\n      <td>8.244500e+01</td>\n      <td>5.274693e+05</td>\n      <td>5</td>\n      <td>2021</td>\n      <td>3</td>\n      <td>2021</td>\n      <td>2</td>\n      <td>5</td>\n      <td>31</td>\n    </tr>\n    <tr>\n      <th>5</th>\n      <td>31/05/2021</td>\n      <td>Marketable</td>\n      <td>Federal Financing Bank</td>\n      <td>0.000000e+00</td>\n      <td>7.261857e+03</td>\n      <td>7.261857e+03</td>\n      <td>6</td>\n      <td>2021</td>\n      <td>3</td>\n      <td>2021</td>\n      <td>2</td>\n      <td>5</td>\n      <td>31</td>\n    </tr>\n    <tr>\n      <th>6</th>\n      <td>31/05/2021</td>\n      <td>Total Marketable</td>\n      <td>_</td>\n      <td>2.139610e+07</td>\n      <td>2.523135e+04</td>\n      <td>2.142133e+07</td>\n      <td>7</td>\n      <td>2021</td>\n      <td>3</td>\n      <td>2021</td>\n      <td>2</td>\n      <td>5</td>\n      <td>31</td>\n    </tr>\n    <tr>\n      <th>7</th>\n      <td>31/05/2021</td>\n      <td>Nonmarketable</td>\n      <td>Domestic Series</td>\n      <td>5.307535e+04</td>\n      <td>0.000000e+00</td>\n      <td>5.307535e+04</td>\n      <td>8</td>\n      <td>2021</td>\n      <td>3</td>\n      <td>2021</td>\n      <td>2</td>\n      <td>5</td>\n      <td>31</td>\n    </tr>\n    <tr>\n      <th>8</th>\n      <td>31/05/2021</td>\n      <td>Nonmarketable</td>\n      <td>Foreign Series</td>\n      <td>2.643420e+02</td>\n      <td>0.000000e+00</td>\n      <td>2.643420e+02</td>\n      <td>9</td>\n      <td>2021</td>\n      <td>3</td>\n      <td>2021</td>\n      <td>2</td>\n      <td>5</td>\n      <td>31</td>\n    </tr>\n    <tr>\n      <th>9</th>\n      <td>31/05/2021</td>\n      <td>Nonmarketable</td>\n      <td>State and Local Government Series</td>\n      <td>1.253390e+05</td>\n      <td>0.000000e+00</td>\n      <td>1.253390e+05</td>\n      <td>10</td>\n      <td>2021</td>\n      <td>3</td>\n      <td>2021</td>\n      <td>2</td>\n      <td>5</td>\n      <td>31</td>\n    </tr>\n    <tr>\n      <th>10</th>\n      <td>31/05/2021</td>\n      <td>Nonmarketable</td>\n      <td>United States Savings Securities</td>\n      <td>1.449151e+05</td>\n      <td>0.000000e+00</td>\n      <td>1.449151e+05</td>\n      <td>11</td>\n      <td>2021</td>\n      <td>3</td>\n      <td>2021</td>\n      <td>2</td>\n      <td>5</td>\n      <td>31</td>\n    </tr>\n    <tr>\n      <th>11</th>\n      <td>31/05/2021</td>\n      <td>Nonmarketable</td>\n      <td>Government Account Series</td>\n      <td>2.982951e+05</td>\n      <td>6.152838e+06</td>\n      <td>6.451133e+06</td>\n      <td>12</td>\n      <td>2021</td>\n      <td>3</td>\n      <td>2021</td>\n      <td>2</td>\n      <td>5</td>\n      <td>31</td>\n    </tr>\n    <tr>\n      <th>12</th>\n      <td>31/05/2021</td>\n      <td>Nonmarketable</td>\n      <td>Other</td>\n      <td>2.954593e+03</td>\n      <td>0.000000e+00</td>\n      <td>2.954593e+03</td>\n      <td>13</td>\n      <td>2021</td>\n      <td>3</td>\n      <td>2021</td>\n      <td>2</td>\n      <td>5</td>\n      <td>31</td>\n    </tr>\n    <tr>\n      <th>13</th>\n      <td>31/05/2021</td>\n      <td>Total Nonmarketable</td>\n      <td>_</td>\n      <td>6.248435e+05</td>\n      <td>6.152838e+06</td>\n      <td>6.777681e+06</td>\n      <td>14</td>\n      <td>2021</td>\n      <td>3</td>\n      <td>2021</td>\n      <td>2</td>\n      <td>5</td>\n      <td>31</td>\n    </tr>\n    <tr>\n      <th>14</th>\n      <td>31/05/2021</td>\n      <td>Total Public Debt Outstanding</td>\n      <td>_</td>\n      <td>2.202094e+07</td>\n      <td>6.178069e+06</td>\n      <td>2.819901e+07</td>\n      <td>15</td>\n      <td>2021</td>\n      <td>3</td>\n      <td>2021</td>\n      <td>2</td>\n      <td>5</td>\n      <td>31</td>\n    </tr>\n  </tbody>\n</table>\n</div>"
     },
     "metadata": {},
     "execution_count": 6
    }
   ],
   "source": [
    "df.head(15)"
   ]
  },
  {
   "cell_type": "code",
   "execution_count": 7,
   "metadata": {},
   "outputs": [
    {
     "output_type": "execute_result",
     "data": {
      "text/plain": [
       "Index(['Record_Date', 'Security_Type_Description',\n",
       "       'Security_Class_Description', 'Debt_Held_by_the_PublicM',\n",
       "       'Intragovernmental_HoldingsM', 'Total_Public_Debt_OutstandingM',\n",
       "       'Source_Line_Number', 'Fiscal_Year', 'Fiscal_Quarter_Number',\n",
       "       'Calendar_Year', 'Calendar_Quarter_Number', 'Calendar_Month_Number',\n",
       "       'Calendar_Day_Number'],\n",
       "      dtype='object')"
      ]
     },
     "metadata": {},
     "execution_count": 7
    }
   ],
   "source": [
    "df.columns"
   ]
  },
  {
   "cell_type": "code",
   "execution_count": 8,
   "metadata": {},
   "outputs": [
    {
     "output_type": "execute_result",
     "data": {
      "text/plain": [
       "Record_Date                        31/05/2021\n",
       "Security_Type_Description          Marketable\n",
       "Security_Class_Description              Notes\n",
       "Debt_Held_by_the_PublicM          11821156.92\n",
       "Intragovernmental_HoldingsM         9198.0221\n",
       "Total_Public_Debt_OutstandingM    11830354.94\n",
       "Source_Line_Number                          2\n",
       "Fiscal_Year                              2021\n",
       "Fiscal_Quarter_Number                       3\n",
       "Calendar_Year                            2021\n",
       "Calendar_Quarter_Number                     2\n",
       "Calendar_Month_Number                       5\n",
       "Calendar_Day_Number                        31\n",
       "Name: 1, dtype: object"
      ]
     },
     "metadata": {},
     "execution_count": 8
    }
   ],
   "source": [
    "row_one = df.iloc[1]\n",
    "row_one\n",
    "#row_two = marketbills_data.iloc[2]\n",
    "#row_two\n",
    "#row_three = marketnotes_data.iloc[3]\n",
    "#row_four = marketbonds_data.iloc[4]\n",
    "#row_five = markettreasury_data.iloc[5]\n",
    "#row_six = marketfloating_data.iloc[6]\n",
    "#row_seven = marketfed_data.iloc[7]\n",
    "#row_eight = markettotal_data.iloc[8]\n",
    "#row_nine = nonmarkdomestic_data[9]\n",
    "#row_ten = nonmarkforeign_data.iloc[10]\n",
    "#row_eleven = nonmarkstatelocal_data[11]\n",
    "#row_twelve = nonmarkussavings_data[12]\n",
    "#row_thirteen = nonmarkgov_data.iloc[13]\n",
    "#row_fourteen = nonmarkother_data.iloc[14]\n",
    "#row_fifteen = totalnonmark_data.iloc[15]\n",
    "#row_sixteen = totalpublic_data.iloc[16]"
   ]
  },
  {
   "cell_type": "code",
   "execution_count": 9,
   "metadata": {},
   "outputs": [
    {
     "output_type": "execute_result",
     "data": {
      "text/plain": [
       "0       31/05/2021\n",
       "1       31/05/2021\n",
       "2       31/05/2021\n",
       "3       31/05/2021\n",
       "4       31/05/2021\n",
       "           ...    \n",
       "3750    31/01/2001\n",
       "3751    31/01/2001\n",
       "3752    31/01/2001\n",
       "3753    31/01/2001\n",
       "3754    31/01/2001\n",
       "Name: Record_Date, Length: 3755, dtype: object"
      ]
     },
     "metadata": {},
     "execution_count": 9
    }
   ],
   "source": [
    "df['Record_Date']"
   ]
  },
  {
   "cell_type": "code",
   "execution_count": 10,
   "metadata": {},
   "outputs": [
    {
     "output_type": "execute_result",
     "data": {
      "text/plain": [
       "(3755, 13)"
      ]
     },
     "metadata": {},
     "execution_count": 10
    }
   ],
   "source": [
    "df.shape #rows and Columns"
   ]
  },
  {
   "cell_type": "code",
   "execution_count": 11,
   "metadata": {},
   "outputs": [
    {
     "output_type": "stream",
     "name": "stdout",
     "text": [
      "<class 'pandas.core.frame.DataFrame'>\nRangeIndex: 3755 entries, 0 to 3754\nData columns (total 13 columns):\n #   Column                          Non-Null Count  Dtype  \n---  ------                          --------------  -----  \n 0   Record_Date                     3755 non-null   object \n 1   Security_Type_Description       3755 non-null   object \n 2   Security_Class_Description      3755 non-null   object \n 3   Debt_Held_by_the_PublicM        3755 non-null   float64\n 4   Intragovernmental_HoldingsM     3755 non-null   float64\n 5   Total_Public_Debt_OutstandingM  3755 non-null   float64\n 6   Source_Line_Number              3755 non-null   int64  \n 7   Fiscal_Year                     3755 non-null   int64  \n 8   Fiscal_Quarter_Number           3755 non-null   int64  \n 9   Calendar_Year                   3755 non-null   int64  \n 10  Calendar_Quarter_Number         3755 non-null   int64  \n 11  Calendar_Month_Number           3755 non-null   int64  \n 12  Calendar_Day_Number             3755 non-null   int64  \ndtypes: float64(3), int64(7), object(3)\nmemory usage: 381.5+ KB\n"
     ]
    }
   ],
   "source": [
    "df.info() #index, datatype and memory information"
   ]
  },
  {
   "cell_type": "code",
   "execution_count": 12,
   "metadata": {},
   "outputs": [
    {
     "output_type": "execute_result",
     "data": {
      "text/plain": [
       "       Debt_Held_by_the_PublicM  Intragovernmental_HoldingsM  \\\n",
       "count              3.755000e+03                 3.755000e+03   \n",
       "mean               1.910304e+06                 8.668278e+05   \n",
       "std                3.851522e+06                 1.817929e+06   \n",
       "min                0.000000e+00                 0.000000e+00   \n",
       "25%                2.547311e+04                 0.000000e+00   \n",
       "50%                2.044653e+05                 3.095710e+02   \n",
       "75%                1.505202e+06                 1.550016e+04   \n",
       "max                2.205606e+07                 6.178069e+06   \n",
       "\n",
       "       Total_Public_Debt_OutstandingM  Source_Line_Number  Fiscal_Year  \\\n",
       "count                    3.755000e+03         3755.000000  3755.000000   \n",
       "mean                     2.777132e+06            8.171771  2010.911052   \n",
       "std                      4.646693e+06            4.430371     5.903691   \n",
       "min                      0.000000e+00            1.000000  2001.000000   \n",
       "25%                      2.999518e+04            4.000000  2006.000000   \n",
       "50%                      4.942945e+05            8.000000  2011.000000   \n",
       "75%                      4.030926e+06           12.000000  2016.000000   \n",
       "max                      2.819901e+07           16.000000  2021.000000   \n",
       "\n",
       "       Fiscal_Quarter_Number  Calendar_Year  Calendar_Quarter_Number  \\\n",
       "count            3755.000000    3755.000000              3755.000000   \n",
       "mean                2.498535    2010.666844                 2.475366   \n",
       "std                 1.108492       5.896420                 1.119935   \n",
       "min                 1.000000    2001.000000                 1.000000   \n",
       "25%                 2.000000    2006.000000                 1.000000   \n",
       "50%                 2.000000    2011.000000                 2.000000   \n",
       "75%                 3.000000    2016.000000                 3.000000   \n",
       "max                 4.000000    2021.000000                 4.000000   \n",
       "\n",
       "       Calendar_Month_Number  Calendar_Day_Number  \n",
       "count            3755.000000          3755.000000  \n",
       "mean                6.422104            30.432224  \n",
       "std                 3.459714             0.824424  \n",
       "min                 1.000000            28.000000  \n",
       "25%                 3.000000            30.000000  \n",
       "50%                 6.000000            31.000000  \n",
       "75%                 9.000000            31.000000  \n",
       "max                12.000000            31.000000  "
      ],
      "text/html": "<div>\n<style scoped>\n    .dataframe tbody tr th:only-of-type {\n        vertical-align: middle;\n    }\n\n    .dataframe tbody tr th {\n        vertical-align: top;\n    }\n\n    .dataframe thead th {\n        text-align: right;\n    }\n</style>\n<table border=\"1\" class=\"dataframe\">\n  <thead>\n    <tr style=\"text-align: right;\">\n      <th></th>\n      <th>Debt_Held_by_the_PublicM</th>\n      <th>Intragovernmental_HoldingsM</th>\n      <th>Total_Public_Debt_OutstandingM</th>\n      <th>Source_Line_Number</th>\n      <th>Fiscal_Year</th>\n      <th>Fiscal_Quarter_Number</th>\n      <th>Calendar_Year</th>\n      <th>Calendar_Quarter_Number</th>\n      <th>Calendar_Month_Number</th>\n      <th>Calendar_Day_Number</th>\n    </tr>\n  </thead>\n  <tbody>\n    <tr>\n      <th>count</th>\n      <td>3.755000e+03</td>\n      <td>3.755000e+03</td>\n      <td>3.755000e+03</td>\n      <td>3755.000000</td>\n      <td>3755.000000</td>\n      <td>3755.000000</td>\n      <td>3755.000000</td>\n      <td>3755.000000</td>\n      <td>3755.000000</td>\n      <td>3755.000000</td>\n    </tr>\n    <tr>\n      <th>mean</th>\n      <td>1.910304e+06</td>\n      <td>8.668278e+05</td>\n      <td>2.777132e+06</td>\n      <td>8.171771</td>\n      <td>2010.911052</td>\n      <td>2.498535</td>\n      <td>2010.666844</td>\n      <td>2.475366</td>\n      <td>6.422104</td>\n      <td>30.432224</td>\n    </tr>\n    <tr>\n      <th>std</th>\n      <td>3.851522e+06</td>\n      <td>1.817929e+06</td>\n      <td>4.646693e+06</td>\n      <td>4.430371</td>\n      <td>5.903691</td>\n      <td>1.108492</td>\n      <td>5.896420</td>\n      <td>1.119935</td>\n      <td>3.459714</td>\n      <td>0.824424</td>\n    </tr>\n    <tr>\n      <th>min</th>\n      <td>0.000000e+00</td>\n      <td>0.000000e+00</td>\n      <td>0.000000e+00</td>\n      <td>1.000000</td>\n      <td>2001.000000</td>\n      <td>1.000000</td>\n      <td>2001.000000</td>\n      <td>1.000000</td>\n      <td>1.000000</td>\n      <td>28.000000</td>\n    </tr>\n    <tr>\n      <th>25%</th>\n      <td>2.547311e+04</td>\n      <td>0.000000e+00</td>\n      <td>2.999518e+04</td>\n      <td>4.000000</td>\n      <td>2006.000000</td>\n      <td>2.000000</td>\n      <td>2006.000000</td>\n      <td>1.000000</td>\n      <td>3.000000</td>\n      <td>30.000000</td>\n    </tr>\n    <tr>\n      <th>50%</th>\n      <td>2.044653e+05</td>\n      <td>3.095710e+02</td>\n      <td>4.942945e+05</td>\n      <td>8.000000</td>\n      <td>2011.000000</td>\n      <td>2.000000</td>\n      <td>2011.000000</td>\n      <td>2.000000</td>\n      <td>6.000000</td>\n      <td>31.000000</td>\n    </tr>\n    <tr>\n      <th>75%</th>\n      <td>1.505202e+06</td>\n      <td>1.550016e+04</td>\n      <td>4.030926e+06</td>\n      <td>12.000000</td>\n      <td>2016.000000</td>\n      <td>3.000000</td>\n      <td>2016.000000</td>\n      <td>3.000000</td>\n      <td>9.000000</td>\n      <td>31.000000</td>\n    </tr>\n    <tr>\n      <th>max</th>\n      <td>2.205606e+07</td>\n      <td>6.178069e+06</td>\n      <td>2.819901e+07</td>\n      <td>16.000000</td>\n      <td>2021.000000</td>\n      <td>4.000000</td>\n      <td>2021.000000</td>\n      <td>4.000000</td>\n      <td>12.000000</td>\n      <td>31.000000</td>\n    </tr>\n  </tbody>\n</table>\n</div>"
     },
     "metadata": {},
     "execution_count": 12
    }
   ],
   "source": [
    "df.describe()"
   ]
  },
  {
   "cell_type": "code",
   "execution_count": 13,
   "metadata": {},
   "outputs": [
    {
     "output_type": "execute_result",
     "data": {
      "text/plain": [
       "'Bills'"
      ]
     },
     "metadata": {},
     "execution_count": 13
    }
   ],
   "source": [
    "df.iloc[0,2]"
   ]
  },
  {
   "cell_type": "code",
   "execution_count": 14,
   "metadata": {},
   "outputs": [
    {
     "output_type": "execute_result",
     "data": {
      "text/plain": [
       "     Record_Date      Security_Type_Description Security_Class_Description  \\\n",
       "88    31/12/2020            Total Nonmarketable                          _   \n",
       "82    31/12/2020                  Nonmarketable            Domestic Series   \n",
       "76    31/12/2020                     Marketable                      Notes   \n",
       "75    31/12/2020                     Marketable                      Bills   \n",
       "89    31/12/2020  Total Public Debt Outstanding                          _   \n",
       "...          ...                            ...                        ...   \n",
       "3726  28/02/2001                     Marketable    Inflation-Indexed Notes   \n",
       "3725  28/02/2001                     Marketable                      Bonds   \n",
       "3724  28/02/2001                     Marketable                      Notes   \n",
       "3723  28/02/2001                     Marketable                      Bills   \n",
       "3735  28/02/2001                  Nonmarketable  Government Account Series   \n",
       "\n",
       "      Debt_Held_by_the_PublicM  Intragovernmental_HoldingsM  \\\n",
       "88                6.738964e+05                 6.093510e+06   \n",
       "82                1.111121e+05                 0.000000e+00   \n",
       "76                1.108474e+07                 7.180354e+03   \n",
       "75                4.963056e+06                 1.083746e+03   \n",
       "89                2.163242e+07                 6.115379e+06   \n",
       "...                        ...                          ...   \n",
       "3726              8.826699e+04                 0.000000e+00   \n",
       "3725              6.310244e+05                 4.593210e+02   \n",
       "3724              1.534890e+06                 1.000000e+00   \n",
       "3723              6.806587e+05                 0.000000e+00   \n",
       "3735              3.633779e+04                 2.317661e+06   \n",
       "\n",
       "      Total_Public_Debt_OutstandingM  Source_Line_Number  Fiscal_Year  \\\n",
       "88                      6.767407e+06                  14         2021   \n",
       "82                      1.111121e+05                   8         2021   \n",
       "76                      1.109192e+07                   2         2021   \n",
       "75                      4.964140e+06                   1         2021   \n",
       "89                      2.774780e+07                  15         2021   \n",
       "...                              ...                 ...          ...   \n",
       "3726                    8.826699e+04                   4         2001   \n",
       "3725                    6.314827e+05                   3         2001   \n",
       "3724                    1.534891e+06                   2         2001   \n",
       "3723                    6.806587e+05                   1         2001   \n",
       "3735                    2.354000e+06                  13         2001   \n",
       "\n",
       "      Fiscal_Quarter_Number  Calendar_Year  Calendar_Quarter_Number  \\\n",
       "88                        1           2020                        4   \n",
       "82                        1           2020                        4   \n",
       "76                        1           2020                        4   \n",
       "75                        1           2020                        4   \n",
       "89                        1           2020                        4   \n",
       "...                     ...            ...                      ...   \n",
       "3726                      2           2001                        1   \n",
       "3725                      2           2001                        1   \n",
       "3724                      2           2001                        1   \n",
       "3723                      2           2001                        1   \n",
       "3735                      2           2001                        1   \n",
       "\n",
       "      Calendar_Month_Number  Calendar_Day_Number  \n",
       "88                       12                   31  \n",
       "82                       12                   31  \n",
       "76                       12                   31  \n",
       "75                       12                   31  \n",
       "89                       12                   31  \n",
       "...                     ...                  ...  \n",
       "3726                      2                   28  \n",
       "3725                      2                   28  \n",
       "3724                      2                   28  \n",
       "3723                      2                   28  \n",
       "3735                      2                   28  \n",
       "\n",
       "[3755 rows x 13 columns]"
      ],
      "text/html": "<div>\n<style scoped>\n    .dataframe tbody tr th:only-of-type {\n        vertical-align: middle;\n    }\n\n    .dataframe tbody tr th {\n        vertical-align: top;\n    }\n\n    .dataframe thead th {\n        text-align: right;\n    }\n</style>\n<table border=\"1\" class=\"dataframe\">\n  <thead>\n    <tr style=\"text-align: right;\">\n      <th></th>\n      <th>Record_Date</th>\n      <th>Security_Type_Description</th>\n      <th>Security_Class_Description</th>\n      <th>Debt_Held_by_the_PublicM</th>\n      <th>Intragovernmental_HoldingsM</th>\n      <th>Total_Public_Debt_OutstandingM</th>\n      <th>Source_Line_Number</th>\n      <th>Fiscal_Year</th>\n      <th>Fiscal_Quarter_Number</th>\n      <th>Calendar_Year</th>\n      <th>Calendar_Quarter_Number</th>\n      <th>Calendar_Month_Number</th>\n      <th>Calendar_Day_Number</th>\n    </tr>\n  </thead>\n  <tbody>\n    <tr>\n      <th>88</th>\n      <td>31/12/2020</td>\n      <td>Total Nonmarketable</td>\n      <td>_</td>\n      <td>6.738964e+05</td>\n      <td>6.093510e+06</td>\n      <td>6.767407e+06</td>\n      <td>14</td>\n      <td>2021</td>\n      <td>1</td>\n      <td>2020</td>\n      <td>4</td>\n      <td>12</td>\n      <td>31</td>\n    </tr>\n    <tr>\n      <th>82</th>\n      <td>31/12/2020</td>\n      <td>Nonmarketable</td>\n      <td>Domestic Series</td>\n      <td>1.111121e+05</td>\n      <td>0.000000e+00</td>\n      <td>1.111121e+05</td>\n      <td>8</td>\n      <td>2021</td>\n      <td>1</td>\n      <td>2020</td>\n      <td>4</td>\n      <td>12</td>\n      <td>31</td>\n    </tr>\n    <tr>\n      <th>76</th>\n      <td>31/12/2020</td>\n      <td>Marketable</td>\n      <td>Notes</td>\n      <td>1.108474e+07</td>\n      <td>7.180354e+03</td>\n      <td>1.109192e+07</td>\n      <td>2</td>\n      <td>2021</td>\n      <td>1</td>\n      <td>2020</td>\n      <td>4</td>\n      <td>12</td>\n      <td>31</td>\n    </tr>\n    <tr>\n      <th>75</th>\n      <td>31/12/2020</td>\n      <td>Marketable</td>\n      <td>Bills</td>\n      <td>4.963056e+06</td>\n      <td>1.083746e+03</td>\n      <td>4.964140e+06</td>\n      <td>1</td>\n      <td>2021</td>\n      <td>1</td>\n      <td>2020</td>\n      <td>4</td>\n      <td>12</td>\n      <td>31</td>\n    </tr>\n    <tr>\n      <th>89</th>\n      <td>31/12/2020</td>\n      <td>Total Public Debt Outstanding</td>\n      <td>_</td>\n      <td>2.163242e+07</td>\n      <td>6.115379e+06</td>\n      <td>2.774780e+07</td>\n      <td>15</td>\n      <td>2021</td>\n      <td>1</td>\n      <td>2020</td>\n      <td>4</td>\n      <td>12</td>\n      <td>31</td>\n    </tr>\n    <tr>\n      <th>...</th>\n      <td>...</td>\n      <td>...</td>\n      <td>...</td>\n      <td>...</td>\n      <td>...</td>\n      <td>...</td>\n      <td>...</td>\n      <td>...</td>\n      <td>...</td>\n      <td>...</td>\n      <td>...</td>\n      <td>...</td>\n      <td>...</td>\n    </tr>\n    <tr>\n      <th>3726</th>\n      <td>28/02/2001</td>\n      <td>Marketable</td>\n      <td>Inflation-Indexed Notes</td>\n      <td>8.826699e+04</td>\n      <td>0.000000e+00</td>\n      <td>8.826699e+04</td>\n      <td>4</td>\n      <td>2001</td>\n      <td>2</td>\n      <td>2001</td>\n      <td>1</td>\n      <td>2</td>\n      <td>28</td>\n    </tr>\n    <tr>\n      <th>3725</th>\n      <td>28/02/2001</td>\n      <td>Marketable</td>\n      <td>Bonds</td>\n      <td>6.310244e+05</td>\n      <td>4.593210e+02</td>\n      <td>6.314827e+05</td>\n      <td>3</td>\n      <td>2001</td>\n      <td>2</td>\n      <td>2001</td>\n      <td>1</td>\n      <td>2</td>\n      <td>28</td>\n    </tr>\n    <tr>\n      <th>3724</th>\n      <td>28/02/2001</td>\n      <td>Marketable</td>\n      <td>Notes</td>\n      <td>1.534890e+06</td>\n      <td>1.000000e+00</td>\n      <td>1.534891e+06</td>\n      <td>2</td>\n      <td>2001</td>\n      <td>2</td>\n      <td>2001</td>\n      <td>1</td>\n      <td>2</td>\n      <td>28</td>\n    </tr>\n    <tr>\n      <th>3723</th>\n      <td>28/02/2001</td>\n      <td>Marketable</td>\n      <td>Bills</td>\n      <td>6.806587e+05</td>\n      <td>0.000000e+00</td>\n      <td>6.806587e+05</td>\n      <td>1</td>\n      <td>2001</td>\n      <td>2</td>\n      <td>2001</td>\n      <td>1</td>\n      <td>2</td>\n      <td>28</td>\n    </tr>\n    <tr>\n      <th>3735</th>\n      <td>28/02/2001</td>\n      <td>Nonmarketable</td>\n      <td>Government Account Series</td>\n      <td>3.633779e+04</td>\n      <td>2.317661e+06</td>\n      <td>2.354000e+06</td>\n      <td>13</td>\n      <td>2001</td>\n      <td>2</td>\n      <td>2001</td>\n      <td>1</td>\n      <td>2</td>\n      <td>28</td>\n    </tr>\n  </tbody>\n</table>\n<p>3755 rows × 13 columns</p>\n</div>"
     },
     "metadata": {},
     "execution_count": 14
    }
   ],
   "source": [
    "df.sort_values(['Record_Date'], ascending=False)"
   ]
  },
  {
   "cell_type": "code",
   "execution_count": 15,
   "metadata": {},
   "outputs": [
    {
     "output_type": "execute_result",
     "data": {
      "text/plain": [
       "<pandas.core.groupby.generic.DataFrameGroupBy object at 0x0000027C74EB56D0>"
      ]
     },
     "metadata": {},
     "execution_count": 15
    }
   ],
   "source": [
    "df.groupby(['Source_Line_Number'])"
   ]
  },
  {
   "cell_type": "code",
   "execution_count": 28,
   "metadata": {},
   "outputs": [
    {
     "output_type": "stream",
     "name": "stdout",
     "text": [
      "<class 'pandas.core.frame.DataFrame'>\nRangeIndex: 3755 entries, 0 to 3754\nData columns (total 13 columns):\n #   Column                          Non-Null Count  Dtype         \n---  ------                          --------------  -----         \n 0   Record_Date                     3755 non-null   datetime64[ns]\n 1   Security_Type_Description       3755 non-null   object        \n 2   Security_Class_Description      3755 non-null   object        \n 3   Debt_Held_by_the_PublicM        3755 non-null   float64       \n 4   Intragovernmental_HoldingsM     3755 non-null   float64       \n 5   Total_Public_Debt_OutstandingM  3755 non-null   float64       \n 6   Source_Line_Number              3755 non-null   int64         \n 7   Fiscal_Year                     3755 non-null   int64         \n 8   Fiscal_Quarter_Number           3755 non-null   int64         \n 9   Calendar_Year                   3755 non-null   int64         \n 10  Calendar_Quarter_Number         3755 non-null   int64         \n 11  Calendar_Month_Number           3755 non-null   int64         \n 12  Calendar_Day_Number             3755 non-null   int64         \ndtypes: datetime64[ns](1), float64(3), int64(7), object(2)\nmemory usage: 381.5+ KB\n"
     ]
    }
   ],
   "source": [
    "df = pd.read_csv(\"MSPD_SumSecty_all_years.csv\", parse_dates=['Record_Date'], dayfirst=True)\n",
    " #convert the date column to a time scale, in the DD/MM/YYYY format\n",
    "df.info()"
   ]
  },
  {
   "cell_type": "code",
   "execution_count": 17,
   "metadata": {},
   "outputs": [
    {
     "output_type": "execute_result",
     "data": {
      "text/plain": [
       "(Timestamp('2001-01-31 00:00:00'), Timestamp('2021-05-31 00:00:00'))"
      ]
     },
     "metadata": {},
     "execution_count": 17
    }
   ],
   "source": [
    "df[\"Record_Date\"].min(), df[\"Record_Date\"].max() #checking dataframe\n"
   ]
  },
  {
   "cell_type": "code",
   "execution_count": 18,
   "metadata": {},
   "outputs": [
    {
     "output_type": "execute_result",
     "data": {
      "text/plain": [
       "Timedelta('7425 days 00:00:00')"
      ]
     },
     "metadata": {},
     "execution_count": 18
    }
   ],
   "source": [
    "df[\"Record_Date\"].max() - df[\"Record_Date\"].min() #checking timescale"
   ]
  },
  {
   "cell_type": "code",
   "execution_count": 19,
   "metadata": {},
   "outputs": [],
   "source": [
    "dti = pd.to_datetime([\"31/01/2001\", np.datetime64('2001-01-31'), datetime.datetime(2001, 1, 31)])\n",
    "dti\n",
    "start = df[\"Record_Date\"].min()\n",
    "end = df[\"Record_Date\"].max() # creating date time index"
   ]
  },
  {
   "cell_type": "code",
   "execution_count": 20,
   "metadata": {},
   "outputs": [],
   "source": [
    "rng = pd.date_range(start = df[\"Record_Date\"].min(), end = df[\"Record_Date\"].max(), freq='M') #date range in months\n",
    "\n",
    "TPDO = df.loc[df[\"Source_Line_Number\"] == 7, \"Total_Public_Debt_OutstandingM\"] #locate each \"Source Line 7\" cell which is \"Total Marketable Debt\" and the Number in the \"Total Public Debt Outstanding\" = Total Public Marketable Debt per quarter sourced\n",
    "\n",
    "ts = pd.Series((TPDO), index=rng) #Create an index timescale of each quarter, based on the range of dates available at the min and max\n",
    "\n",
    "pd.options.display.float_format = '{:.0f}'.format #reformat the display of numbers to get solid, non decimal displays"
   ]
  },
  {
   "cell_type": "code",
   "execution_count": 21,
   "metadata": {},
   "outputs": [
    {
     "output_type": "execute_result",
     "data": {
      "text/plain": [
       "6      21421327\n",
       "21     21456854\n",
       "36     21388100\n",
       "51     21158520\n",
       "66     21048965\n",
       "         ...   \n",
       "3681    2855417\n",
       "3697    2877872\n",
       "3713    3017869\n",
       "3729    2989258\n",
       "3745    2977328\n",
       "Name: Total_Public_Debt_OutstandingM, Length: 245, dtype: float64"
      ]
     },
     "metadata": {},
     "execution_count": 21
    }
   ],
   "source": [
    "TPDO #viewing TPDO in "
   ]
  },
  {
   "cell_type": "code",
   "execution_count": 22,
   "metadata": {},
   "outputs": [],
   "source": [
    "TPDO.min()\n",
    "TPDO.max()\n",
    "rngTPDO =  TPDO.max() - TPDO.min()"
   ]
  },
  {
   "cell_type": "code",
   "execution_count": 23,
   "metadata": {},
   "outputs": [
    {
     "output_type": "execute_result",
     "data": {
      "text/plain": [
       "2001-01-31   NaN\n",
       "2001-02-28   NaN\n",
       "2001-03-31   NaN\n",
       "2001-04-30   NaN\n",
       "2001-05-31   NaN\n",
       "              ..\n",
       "2021-01-31   NaN\n",
       "2021-02-28   NaN\n",
       "2021-03-31   NaN\n",
       "2021-04-30   NaN\n",
       "2021-05-31   NaN\n",
       "Freq: M, Name: Total_Public_Debt_OutstandingM, Length: 245, dtype: float64"
      ]
     },
     "metadata": {},
     "execution_count": 23
    }
   ],
   "source": [
    "ts"
   ]
  },
  {
   "cell_type": "code",
   "execution_count": 24,
   "metadata": {},
   "outputs": [
    {
     "output_type": "execute_result",
     "data": {
      "text/plain": [
       "DatetimeIndex(['2001-01-31', '2001-02-28', '2001-03-31', '2001-04-30',\n",
       "               '2001-05-31', '2001-06-30', '2001-07-31', '2001-08-31',\n",
       "               '2001-09-30', '2001-10-31',\n",
       "               ...\n",
       "               '2020-08-31', '2020-09-30', '2020-10-31', '2020-11-30',\n",
       "               '2020-12-31', '2021-01-31', '2021-02-28', '2021-03-31',\n",
       "               '2021-04-30', '2021-05-31'],\n",
       "              dtype='datetime64[ns]', length=245, freq='M')"
      ]
     },
     "metadata": {},
     "execution_count": 24
    }
   ],
   "source": [
    "rng"
   ]
  },
  {
   "cell_type": "code",
   "execution_count": 25,
   "metadata": {},
   "outputs": [
    {
     "output_type": "execute_result",
     "data": {
      "text/plain": [
       "DatetimeIndex(['2001-01-31', '2001-01-31', '2001-01-31'], dtype='datetime64[ns]', freq=None)"
      ]
     },
     "metadata": {},
     "execution_count": 25
    }
   ],
   "source": [
    "dti"
   ]
  },
  {
   "cell_type": "code",
   "execution_count": 30,
   "metadata": {},
   "outputs": [
    {
     "output_type": "execute_result",
     "data": {
      "text/plain": [
       "Text(0.5, 1.0, 'Total Public Debt Outstanding in Millions per Quarter')"
      ]
     },
     "metadata": {},
     "execution_count": 30
    },
    {
     "output_type": "display_data",
     "data": {
      "text/plain": "<Figure size 1440x576 with 1 Axes>",
      "image/svg+xml": "<?xml version=\"1.0\" encoding=\"utf-8\" standalone=\"no\"?>\r\n<!DOCTYPE svg PUBLIC \"-//W3C//DTD SVG 1.1//EN\"\r\n  \"http://www.w3.org/Graphics/SVG/1.1/DTD/svg11.dtd\">\r\n<!-- Created with matplotlib (https://matplotlib.org/) -->\r\n<svg height=\"481.07625pt\" version=\"1.1\" viewBox=\"0 0 1153.303125 481.07625\" width=\"1153.303125pt\" xmlns=\"http://www.w3.org/2000/svg\" xmlns:xlink=\"http://www.w3.org/1999/xlink\">\r\n <metadata>\r\n  <rdf:RDF xmlns:cc=\"http://creativecommons.org/ns#\" xmlns:dc=\"http://purl.org/dc/elements/1.1/\" xmlns:rdf=\"http://www.w3.org/1999/02/22-rdf-syntax-ns#\">\r\n   <cc:Work>\r\n    <dc:type rdf:resource=\"http://purl.org/dc/dcmitype/StillImage\"/>\r\n    <dc:date>2021-07-09T14:25:38.261964</dc:date>\r\n    <dc:format>image/svg+xml</dc:format>\r\n    <dc:creator>\r\n     <cc:Agent>\r\n      <dc:title>Matplotlib v3.3.4, https://matplotlib.org/</dc:title>\r\n     </cc:Agent>\r\n    </dc:creator>\r\n   </cc:Work>\r\n  </rdf:RDF>\r\n </metadata>\r\n <defs>\r\n  <style type=\"text/css\">*{stroke-linecap:butt;stroke-linejoin:round;}</style>\r\n </defs>\r\n <g id=\"figure_1\">\r\n  <g id=\"patch_1\">\r\n   <path d=\"M 0 481.07625 \r\nL 1153.303125 481.07625 \r\nL 1153.303125 0 \r\nL 0 0 \r\nz\r\n\" style=\"fill:none;\"/>\r\n  </g>\r\n  <g id=\"axes_1\">\r\n   <g id=\"patch_2\">\r\n    <path d=\"M 30.103125 457.198125 \r\nL 1146.103125 457.198125 \r\nL 1146.103125 22.318125 \r\nL 30.103125 22.318125 \r\nz\r\n\" style=\"fill:#ffffff;\"/>\r\n   </g>\r\n   <g id=\"matplotlib.axis_1\">\r\n    <g id=\"xtick_1\">\r\n     <g id=\"line2d_1\">\r\n      <defs>\r\n       <path d=\"M 0 0 \r\nL 0 3.5 \r\n\" id=\"m7fbf559cdf\" style=\"stroke:#000000;stroke-width:0.8;\"/>\r\n      </defs>\r\n      <g>\r\n       <use style=\"stroke:#000000;stroke-width:0.8;\" x=\"226.351059\" xlink:href=\"#m7fbf559cdf\" y=\"457.198125\"/>\r\n      </g>\r\n     </g>\r\n     <g id=\"text_1\">\r\n      <!-- 2004 -->\r\n      <g transform=\"translate(213.626059 471.796562)scale(0.1 -0.1)\">\r\n       <defs>\r\n        <path d=\"M 19.1875 8.296875 \r\nL 53.609375 8.296875 \r\nL 53.609375 0 \r\nL 7.328125 0 \r\nL 7.328125 8.296875 \r\nQ 12.9375 14.109375 22.625 23.890625 \r\nQ 32.328125 33.6875 34.8125 36.53125 \r\nQ 39.546875 41.84375 41.421875 45.53125 \r\nQ 43.3125 49.21875 43.3125 52.78125 \r\nQ 43.3125 58.59375 39.234375 62.25 \r\nQ 35.15625 65.921875 28.609375 65.921875 \r\nQ 23.96875 65.921875 18.8125 64.3125 \r\nQ 13.671875 62.703125 7.8125 59.421875 \r\nL 7.8125 69.390625 \r\nQ 13.765625 71.78125 18.9375 73 \r\nQ 24.125 74.21875 28.421875 74.21875 \r\nQ 39.75 74.21875 46.484375 68.546875 \r\nQ 53.21875 62.890625 53.21875 53.421875 \r\nQ 53.21875 48.921875 51.53125 44.890625 \r\nQ 49.859375 40.875 45.40625 35.40625 \r\nQ 44.1875 33.984375 37.640625 27.21875 \r\nQ 31.109375 20.453125 19.1875 8.296875 \r\nz\r\n\" id=\"DejaVuSans-50\"/>\r\n        <path d=\"M 31.78125 66.40625 \r\nQ 24.171875 66.40625 20.328125 58.90625 \r\nQ 16.5 51.421875 16.5 36.375 \r\nQ 16.5 21.390625 20.328125 13.890625 \r\nQ 24.171875 6.390625 31.78125 6.390625 \r\nQ 39.453125 6.390625 43.28125 13.890625 \r\nQ 47.125 21.390625 47.125 36.375 \r\nQ 47.125 51.421875 43.28125 58.90625 \r\nQ 39.453125 66.40625 31.78125 66.40625 \r\nz\r\nM 31.78125 74.21875 \r\nQ 44.046875 74.21875 50.515625 64.515625 \r\nQ 56.984375 54.828125 56.984375 36.375 \r\nQ 56.984375 17.96875 50.515625 8.265625 \r\nQ 44.046875 -1.421875 31.78125 -1.421875 \r\nQ 19.53125 -1.421875 13.0625 8.265625 \r\nQ 6.59375 17.96875 6.59375 36.375 \r\nQ 6.59375 54.828125 13.0625 64.515625 \r\nQ 19.53125 74.21875 31.78125 74.21875 \r\nz\r\n\" id=\"DejaVuSans-48\"/>\r\n        <path d=\"M 37.796875 64.3125 \r\nL 12.890625 25.390625 \r\nL 37.796875 25.390625 \r\nz\r\nM 35.203125 72.90625 \r\nL 47.609375 72.90625 \r\nL 47.609375 25.390625 \r\nL 58.015625 25.390625 \r\nL 58.015625 17.1875 \r\nL 47.609375 17.1875 \r\nL 47.609375 0 \r\nL 37.796875 0 \r\nL 37.796875 17.1875 \r\nL 4.890625 17.1875 \r\nL 4.890625 26.703125 \r\nz\r\n\" id=\"DejaVuSans-52\"/>\r\n       </defs>\r\n       <use xlink:href=\"#DejaVuSans-50\"/>\r\n       <use x=\"63.623047\" xlink:href=\"#DejaVuSans-48\"/>\r\n       <use x=\"127.246094\" xlink:href=\"#DejaVuSans-48\"/>\r\n       <use x=\"190.869141\" xlink:href=\"#DejaVuSans-52\"/>\r\n      </g>\r\n     </g>\r\n    </g>\r\n    <g id=\"xtick_2\">\r\n     <g id=\"line2d_2\">\r\n      <g>\r\n       <use style=\"stroke:#000000;stroke-width:0.8;\" x=\"425.980811\" xlink:href=\"#m7fbf559cdf\" y=\"457.198125\"/>\r\n      </g>\r\n     </g>\r\n     <g id=\"text_2\">\r\n      <!-- 2008 -->\r\n      <g transform=\"translate(413.255811 471.796562)scale(0.1 -0.1)\">\r\n       <defs>\r\n        <path d=\"M 31.78125 34.625 \r\nQ 24.75 34.625 20.71875 30.859375 \r\nQ 16.703125 27.09375 16.703125 20.515625 \r\nQ 16.703125 13.921875 20.71875 10.15625 \r\nQ 24.75 6.390625 31.78125 6.390625 \r\nQ 38.8125 6.390625 42.859375 10.171875 \r\nQ 46.921875 13.96875 46.921875 20.515625 \r\nQ 46.921875 27.09375 42.890625 30.859375 \r\nQ 38.875 34.625 31.78125 34.625 \r\nz\r\nM 21.921875 38.8125 \r\nQ 15.578125 40.375 12.03125 44.71875 \r\nQ 8.5 49.078125 8.5 55.328125 \r\nQ 8.5 64.0625 14.71875 69.140625 \r\nQ 20.953125 74.21875 31.78125 74.21875 \r\nQ 42.671875 74.21875 48.875 69.140625 \r\nQ 55.078125 64.0625 55.078125 55.328125 \r\nQ 55.078125 49.078125 51.53125 44.71875 \r\nQ 48 40.375 41.703125 38.8125 \r\nQ 48.828125 37.15625 52.796875 32.3125 \r\nQ 56.78125 27.484375 56.78125 20.515625 \r\nQ 56.78125 9.90625 50.3125 4.234375 \r\nQ 43.84375 -1.421875 31.78125 -1.421875 \r\nQ 19.734375 -1.421875 13.25 4.234375 \r\nQ 6.78125 9.90625 6.78125 20.515625 \r\nQ 6.78125 27.484375 10.78125 32.3125 \r\nQ 14.796875 37.15625 21.921875 38.8125 \r\nz\r\nM 18.3125 54.390625 \r\nQ 18.3125 48.734375 21.84375 45.5625 \r\nQ 25.390625 42.390625 31.78125 42.390625 \r\nQ 38.140625 42.390625 41.71875 45.5625 \r\nQ 45.3125 48.734375 45.3125 54.390625 \r\nQ 45.3125 60.0625 41.71875 63.234375 \r\nQ 38.140625 66.40625 31.78125 66.40625 \r\nQ 25.390625 66.40625 21.84375 63.234375 \r\nQ 18.3125 60.0625 18.3125 54.390625 \r\nz\r\n\" id=\"DejaVuSans-56\"/>\r\n       </defs>\r\n       <use xlink:href=\"#DejaVuSans-50\"/>\r\n       <use x=\"63.623047\" xlink:href=\"#DejaVuSans-48\"/>\r\n       <use x=\"127.246094\" xlink:href=\"#DejaVuSans-48\"/>\r\n       <use x=\"190.869141\" xlink:href=\"#DejaVuSans-56\"/>\r\n      </g>\r\n     </g>\r\n    </g>\r\n    <g id=\"xtick_3\">\r\n     <g id=\"line2d_3\">\r\n      <g>\r\n       <use style=\"stroke:#000000;stroke-width:0.8;\" x=\"625.610563\" xlink:href=\"#m7fbf559cdf\" y=\"457.198125\"/>\r\n      </g>\r\n     </g>\r\n     <g id=\"text_3\">\r\n      <!-- 2012 -->\r\n      <g transform=\"translate(612.885563 471.796562)scale(0.1 -0.1)\">\r\n       <defs>\r\n        <path d=\"M 12.40625 8.296875 \r\nL 28.515625 8.296875 \r\nL 28.515625 63.921875 \r\nL 10.984375 60.40625 \r\nL 10.984375 69.390625 \r\nL 28.421875 72.90625 \r\nL 38.28125 72.90625 \r\nL 38.28125 8.296875 \r\nL 54.390625 8.296875 \r\nL 54.390625 0 \r\nL 12.40625 0 \r\nz\r\n\" id=\"DejaVuSans-49\"/>\r\n       </defs>\r\n       <use xlink:href=\"#DejaVuSans-50\"/>\r\n       <use x=\"63.623047\" xlink:href=\"#DejaVuSans-48\"/>\r\n       <use x=\"127.246094\" xlink:href=\"#DejaVuSans-49\"/>\r\n       <use x=\"190.869141\" xlink:href=\"#DejaVuSans-50\"/>\r\n      </g>\r\n     </g>\r\n    </g>\r\n    <g id=\"xtick_4\">\r\n     <g id=\"line2d_4\">\r\n      <g>\r\n       <use style=\"stroke:#000000;stroke-width:0.8;\" x=\"825.240315\" xlink:href=\"#m7fbf559cdf\" y=\"457.198125\"/>\r\n      </g>\r\n     </g>\r\n     <g id=\"text_4\">\r\n      <!-- 2016 -->\r\n      <g transform=\"translate(812.515315 471.796562)scale(0.1 -0.1)\">\r\n       <defs>\r\n        <path d=\"M 33.015625 40.375 \r\nQ 26.375 40.375 22.484375 35.828125 \r\nQ 18.609375 31.296875 18.609375 23.390625 \r\nQ 18.609375 15.53125 22.484375 10.953125 \r\nQ 26.375 6.390625 33.015625 6.390625 \r\nQ 39.65625 6.390625 43.53125 10.953125 \r\nQ 47.40625 15.53125 47.40625 23.390625 \r\nQ 47.40625 31.296875 43.53125 35.828125 \r\nQ 39.65625 40.375 33.015625 40.375 \r\nz\r\nM 52.59375 71.296875 \r\nL 52.59375 62.3125 \r\nQ 48.875 64.0625 45.09375 64.984375 \r\nQ 41.3125 65.921875 37.59375 65.921875 \r\nQ 27.828125 65.921875 22.671875 59.328125 \r\nQ 17.53125 52.734375 16.796875 39.40625 \r\nQ 19.671875 43.65625 24.015625 45.921875 \r\nQ 28.375 48.1875 33.59375 48.1875 \r\nQ 44.578125 48.1875 50.953125 41.515625 \r\nQ 57.328125 34.859375 57.328125 23.390625 \r\nQ 57.328125 12.15625 50.6875 5.359375 \r\nQ 44.046875 -1.421875 33.015625 -1.421875 \r\nQ 20.359375 -1.421875 13.671875 8.265625 \r\nQ 6.984375 17.96875 6.984375 36.375 \r\nQ 6.984375 53.65625 15.1875 63.9375 \r\nQ 23.390625 74.21875 37.203125 74.21875 \r\nQ 40.921875 74.21875 44.703125 73.484375 \r\nQ 48.484375 72.75 52.59375 71.296875 \r\nz\r\n\" id=\"DejaVuSans-54\"/>\r\n       </defs>\r\n       <use xlink:href=\"#DejaVuSans-50\"/>\r\n       <use x=\"63.623047\" xlink:href=\"#DejaVuSans-48\"/>\r\n       <use x=\"127.246094\" xlink:href=\"#DejaVuSans-49\"/>\r\n       <use x=\"190.869141\" xlink:href=\"#DejaVuSans-54\"/>\r\n      </g>\r\n     </g>\r\n    </g>\r\n    <g id=\"xtick_5\">\r\n     <g id=\"line2d_5\">\r\n      <g>\r\n       <use style=\"stroke:#000000;stroke-width:0.8;\" x=\"1024.870067\" xlink:href=\"#m7fbf559cdf\" y=\"457.198125\"/>\r\n      </g>\r\n     </g>\r\n     <g id=\"text_5\">\r\n      <!-- 2020 -->\r\n      <g transform=\"translate(1012.145067 471.796562)scale(0.1 -0.1)\">\r\n       <use xlink:href=\"#DejaVuSans-50\"/>\r\n       <use x=\"63.623047\" xlink:href=\"#DejaVuSans-48\"/>\r\n       <use x=\"127.246094\" xlink:href=\"#DejaVuSans-50\"/>\r\n       <use x=\"190.869141\" xlink:href=\"#DejaVuSans-48\"/>\r\n      </g>\r\n     </g>\r\n    </g>\r\n   </g>\r\n   <g id=\"matplotlib.axis_2\">\r\n    <g id=\"ytick_1\">\r\n     <g id=\"line2d_6\">\r\n      <defs>\r\n       <path d=\"M 0 0 \r\nL -3.5 0 \r\n\" id=\"m67a4c6aa17\" style=\"stroke:#000000;stroke-width:0.8;\"/>\r\n      </defs>\r\n      <g>\r\n       <use style=\"stroke:#000000;stroke-width:0.8;\" x=\"30.103125\" xlink:href=\"#m67a4c6aa17\" y=\"437.539247\"/>\r\n      </g>\r\n     </g>\r\n     <g id=\"text_6\">\r\n      <!-- 0.0 -->\r\n      <g transform=\"translate(7.2 441.338466)scale(0.1 -0.1)\">\r\n       <defs>\r\n        <path d=\"M 10.6875 12.40625 \r\nL 21 12.40625 \r\nL 21 0 \r\nL 10.6875 0 \r\nz\r\n\" id=\"DejaVuSans-46\"/>\r\n       </defs>\r\n       <use xlink:href=\"#DejaVuSans-48\"/>\r\n       <use x=\"63.623047\" xlink:href=\"#DejaVuSans-46\"/>\r\n       <use x=\"95.410156\" xlink:href=\"#DejaVuSans-48\"/>\r\n      </g>\r\n     </g>\r\n    </g>\r\n    <g id=\"ytick_2\">\r\n     <g id=\"line2d_7\">\r\n      <g>\r\n       <use style=\"stroke:#000000;stroke-width:0.8;\" x=\"30.103125\" xlink:href=\"#m67a4c6aa17\" y=\"345.388308\"/>\r\n      </g>\r\n     </g>\r\n     <g id=\"text_7\">\r\n      <!-- 0.5 -->\r\n      <g transform=\"translate(7.2 349.187526)scale(0.1 -0.1)\">\r\n       <defs>\r\n        <path d=\"M 10.796875 72.90625 \r\nL 49.515625 72.90625 \r\nL 49.515625 64.59375 \r\nL 19.828125 64.59375 \r\nL 19.828125 46.734375 \r\nQ 21.96875 47.46875 24.109375 47.828125 \r\nQ 26.265625 48.1875 28.421875 48.1875 \r\nQ 40.625 48.1875 47.75 41.5 \r\nQ 54.890625 34.8125 54.890625 23.390625 \r\nQ 54.890625 11.625 47.5625 5.09375 \r\nQ 40.234375 -1.421875 26.90625 -1.421875 \r\nQ 22.3125 -1.421875 17.546875 -0.640625 \r\nQ 12.796875 0.140625 7.71875 1.703125 \r\nL 7.71875 11.625 \r\nQ 12.109375 9.234375 16.796875 8.0625 \r\nQ 21.484375 6.890625 26.703125 6.890625 \r\nQ 35.15625 6.890625 40.078125 11.328125 \r\nQ 45.015625 15.765625 45.015625 23.390625 \r\nQ 45.015625 31 40.078125 35.4375 \r\nQ 35.15625 39.890625 26.703125 39.890625 \r\nQ 22.75 39.890625 18.8125 39.015625 \r\nQ 14.890625 38.140625 10.796875 36.28125 \r\nz\r\n\" id=\"DejaVuSans-53\"/>\r\n       </defs>\r\n       <use xlink:href=\"#DejaVuSans-48\"/>\r\n       <use x=\"63.623047\" xlink:href=\"#DejaVuSans-46\"/>\r\n       <use x=\"95.410156\" xlink:href=\"#DejaVuSans-53\"/>\r\n      </g>\r\n     </g>\r\n    </g>\r\n    <g id=\"ytick_3\">\r\n     <g id=\"line2d_8\">\r\n      <g>\r\n       <use style=\"stroke:#000000;stroke-width:0.8;\" x=\"30.103125\" xlink:href=\"#m67a4c6aa17\" y=\"253.237368\"/>\r\n      </g>\r\n     </g>\r\n     <g id=\"text_8\">\r\n      <!-- 1.0 -->\r\n      <g transform=\"translate(7.2 257.036587)scale(0.1 -0.1)\">\r\n       <use xlink:href=\"#DejaVuSans-49\"/>\r\n       <use x=\"63.623047\" xlink:href=\"#DejaVuSans-46\"/>\r\n       <use x=\"95.410156\" xlink:href=\"#DejaVuSans-48\"/>\r\n      </g>\r\n     </g>\r\n    </g>\r\n    <g id=\"ytick_4\">\r\n     <g id=\"line2d_9\">\r\n      <g>\r\n       <use style=\"stroke:#000000;stroke-width:0.8;\" x=\"30.103125\" xlink:href=\"#m67a4c6aa17\" y=\"161.086429\"/>\r\n      </g>\r\n     </g>\r\n     <g id=\"text_9\">\r\n      <!-- 1.5 -->\r\n      <g transform=\"translate(7.2 164.885648)scale(0.1 -0.1)\">\r\n       <use xlink:href=\"#DejaVuSans-49\"/>\r\n       <use x=\"63.623047\" xlink:href=\"#DejaVuSans-46\"/>\r\n       <use x=\"95.410156\" xlink:href=\"#DejaVuSans-53\"/>\r\n      </g>\r\n     </g>\r\n    </g>\r\n    <g id=\"ytick_5\">\r\n     <g id=\"line2d_10\">\r\n      <g>\r\n       <use style=\"stroke:#000000;stroke-width:0.8;\" x=\"30.103125\" xlink:href=\"#m67a4c6aa17\" y=\"68.93549\"/>\r\n      </g>\r\n     </g>\r\n     <g id=\"text_10\">\r\n      <!-- 2.0 -->\r\n      <g transform=\"translate(7.2 72.734708)scale(0.1 -0.1)\">\r\n       <use xlink:href=\"#DejaVuSans-50\"/>\r\n       <use x=\"63.623047\" xlink:href=\"#DejaVuSans-46\"/>\r\n       <use x=\"95.410156\" xlink:href=\"#DejaVuSans-48\"/>\r\n      </g>\r\n     </g>\r\n    </g>\r\n    <g id=\"text_11\">\r\n     <!-- 1e7 -->\r\n     <g transform=\"translate(30.103125 19.318125)scale(0.1 -0.1)\">\r\n      <defs>\r\n       <path d=\"M 56.203125 29.59375 \r\nL 56.203125 25.203125 \r\nL 14.890625 25.203125 \r\nQ 15.484375 15.921875 20.484375 11.0625 \r\nQ 25.484375 6.203125 34.421875 6.203125 \r\nQ 39.59375 6.203125 44.453125 7.46875 \r\nQ 49.3125 8.734375 54.109375 11.28125 \r\nL 54.109375 2.78125 \r\nQ 49.265625 0.734375 44.1875 -0.34375 \r\nQ 39.109375 -1.421875 33.890625 -1.421875 \r\nQ 20.796875 -1.421875 13.15625 6.1875 \r\nQ 5.515625 13.8125 5.515625 26.8125 \r\nQ 5.515625 40.234375 12.765625 48.109375 \r\nQ 20.015625 56 32.328125 56 \r\nQ 43.359375 56 49.78125 48.890625 \r\nQ 56.203125 41.796875 56.203125 29.59375 \r\nz\r\nM 47.21875 32.234375 \r\nQ 47.125 39.59375 43.09375 43.984375 \r\nQ 39.0625 48.390625 32.421875 48.390625 \r\nQ 24.90625 48.390625 20.390625 44.140625 \r\nQ 15.875 39.890625 15.1875 32.171875 \r\nz\r\n\" id=\"DejaVuSans-101\"/>\r\n       <path d=\"M 8.203125 72.90625 \r\nL 55.078125 72.90625 \r\nL 55.078125 68.703125 \r\nL 28.609375 0 \r\nL 18.3125 0 \r\nL 43.21875 64.59375 \r\nL 8.203125 64.59375 \r\nz\r\n\" id=\"DejaVuSans-55\"/>\r\n      </defs>\r\n      <use xlink:href=\"#DejaVuSans-49\"/>\r\n      <use x=\"63.623047\" xlink:href=\"#DejaVuSans-101\"/>\r\n      <use x=\"125.146484\" xlink:href=\"#DejaVuSans-55\"/>\r\n     </g>\r\n    </g>\r\n   </g>\r\n   <g id=\"line2d_11\">\r\n    <path clip-path=\"url(#p37d7159b86)\" d=\"M 80.830398 382.666537 \r\nL 84.656293 382.446654 \r\nL 88.892106 381.919357 \r\nL 92.991279 384.499528 \r\nL 97.227092 384.913377 \r\nL 105.562078 384.960049 \r\nL 109.797891 383.560318 \r\nL 113.897064 383.525424 \r\nL 118.132877 383.700014 \r\nL 122.232051 382.407635 \r\nL 126.467863 382.561986 \r\nL 130.703676 382.835022 \r\nL 134.529571 381.629051 \r\nL 138.765384 381.603172 \r\nL 142.864558 382.382327 \r\nL 147.10037 381.416794 \r\nL 151.199544 381.284953 \r\nL 159.671169 379.56504 \r\nL 163.770343 379.728873 \r\nL 168.006155 436.98643 \r\nL 184.40285 436.98643 \r\nL 188.638662 376.130547 \r\nL 192.737836 376.4182 \r\nL 196.973648 375.725784 \r\nL 201.072822 436.98643 \r\nL 205.308635 436.715399 \r\nL 209.544447 436.715399 \r\nL 213.643621 437.26296 \r\nL 221.978607 437.158442 \r\nL 234.412767 437.238282 \r\nL 238.64858 436.98643 \r\nL 246.983566 436.98643 \r\nL 251.082739 437.420716 \r\nL 267.889351 437.430852 \r\nL 271.988524 436.98643 \r\nL 725.357119 436.98643 \r\nL 729.592932 219.596348 \r\nL 733.418827 216.166097 \r\nL 737.65464 213.879846 \r\nL 741.753814 216.072863 \r\nL 750.0888 214.824861 \r\nL 758.560425 211.856593 \r\nL 762.659599 210.954598 \r\nL 766.895412 209.694679 \r\nL 770.994585 208.610489 \r\nL 775.230398 206.822891 \r\nL 779.46621 207.469744 \r\nL 783.292106 205.8658 \r\nL 787.527918 204.511516 \r\nL 791.627092 204.480223 \r\nL 795.862905 203.696682 \r\nL 799.962078 203.271398 \r\nL 804.197891 201.385295 \r\nL 808.433704 200.774941 \r\nL 812.532877 200.642205 \r\nL 816.76869 201.577206 \r\nL 820.867863 195.686472 \r\nL 825.103676 194.13995 \r\nL 829.339489 194.464252 \r\nL 837.537836 189.724354 \r\nL 841.637009 191.400939 \r\nL 849.971996 190.007155 \r\nL 854.207808 188.838191 \r\nL 858.443621 186.905809 \r\nL 862.542794 185.771749 \r\nL 866.778607 183.754546 \r\nL 870.877781 180.963944 \r\nL 875.113593 180.967718 \r\nL 879.349406 182.027532 \r\nL 883.175301 181.379417 \r\nL 887.411114 180.130901 \r\nL 891.510288 180.431747 \r\nL 899.845274 179.343061 \r\nL 904.081086 178.407603 \r\nL 908.316899 177.792229 \r\nL 912.416073 175.834421 \r\nL 916.651885 174.472685 \r\nL 920.751059 171.452652 \r\nL 924.986872 170.665748 \r\nL 929.222684 170.033457 \r\nL 933.04858 167.022018 \r\nL 937.284392 162.104961 \r\nL 941.383566 163.852928 \r\nL 945.619378 162.203398 \r\nL 949.718552 161.410697 \r\nL 953.954365 159.514295 \r\nL 958.190177 155.523506 \r\nL 962.289351 155.962003 \r\nL 966.525164 154.490336 \r\nL 970.624337 150.763513 \r\nL 974.86015 149.690916 \r\nL 979.095962 149.662528 \r\nL 987.15767 143.782358 \r\nL 991.256844 144.851063 \r\nL 995.492657 143.738994 \r\nL 999.59183 143.929777 \r\nL 1003.827643 143.243419 \r\nL 1008.063456 139.959777 \r\nL 1012.162629 136.254694 \r\nL 1016.398442 133.180845 \r\nL 1020.497615 131.086778 \r\nL 1024.733428 130.084344 \r\nL 1028.969241 129.386467 \r\nL 1032.931775 125.727648 \r\nL 1037.167588 121.225494 \r\nL 1041.266761 95.924582 \r\nL 1049.601748 70.668573 \r\nL 1053.83756 68.790556 \r\nL 1062.172546 62.025267 \r\nL 1066.408359 60.785164 \r\nL 1070.507533 56.174249 \r\nL 1074.743345 50.866694 \r\nL 1078.979158 49.602859 \r\nL 1082.805053 47.583751 \r\nL 1087.040866 43.352546 \r\nL 1091.14004 42.085398 \r\nL 1095.375852 42.740164 \r\nL 1095.375852 42.740164 \r\n\" style=\"fill:none;stroke:#1f77b4;stroke-linecap:square;stroke-width:1.5;\"/>\r\n   </g>\r\n   <g id=\"patch_3\">\r\n    <path d=\"M 30.103125 457.198125 \r\nL 30.103125 22.318125 \r\n\" style=\"fill:none;stroke:#000000;stroke-linecap:square;stroke-linejoin:miter;stroke-width:0.8;\"/>\r\n   </g>\r\n   <g id=\"patch_4\">\r\n    <path d=\"M 1146.103125 457.198125 \r\nL 1146.103125 22.318125 \r\n\" style=\"fill:none;stroke:#000000;stroke-linecap:square;stroke-linejoin:miter;stroke-width:0.8;\"/>\r\n   </g>\r\n   <g id=\"patch_5\">\r\n    <path d=\"M 30.103125 457.198125 \r\nL 1146.103125 457.198125 \r\n\" style=\"fill:none;stroke:#000000;stroke-linecap:square;stroke-linejoin:miter;stroke-width:0.8;\"/>\r\n   </g>\r\n   <g id=\"patch_6\">\r\n    <path d=\"M 30.103125 22.318125 \r\nL 1146.103125 22.318125 \r\n\" style=\"fill:none;stroke:#000000;stroke-linecap:square;stroke-linejoin:miter;stroke-width:0.8;\"/>\r\n   </g>\r\n   <g id=\"text_12\">\r\n    <!-- Total Public Debt Outstanding in Millions per Quarter -->\r\n    <g transform=\"translate(430.53 16.318125)scale(0.12 -0.12)\">\r\n     <defs>\r\n      <path d=\"M -0.296875 72.90625 \r\nL 61.375 72.90625 \r\nL 61.375 64.59375 \r\nL 35.5 64.59375 \r\nL 35.5 0 \r\nL 25.59375 0 \r\nL 25.59375 64.59375 \r\nL -0.296875 64.59375 \r\nz\r\n\" id=\"DejaVuSans-84\"/>\r\n      <path d=\"M 30.609375 48.390625 \r\nQ 23.390625 48.390625 19.1875 42.75 \r\nQ 14.984375 37.109375 14.984375 27.296875 \r\nQ 14.984375 17.484375 19.15625 11.84375 \r\nQ 23.34375 6.203125 30.609375 6.203125 \r\nQ 37.796875 6.203125 41.984375 11.859375 \r\nQ 46.1875 17.53125 46.1875 27.296875 \r\nQ 46.1875 37.015625 41.984375 42.703125 \r\nQ 37.796875 48.390625 30.609375 48.390625 \r\nz\r\nM 30.609375 56 \r\nQ 42.328125 56 49.015625 48.375 \r\nQ 55.71875 40.765625 55.71875 27.296875 \r\nQ 55.71875 13.875 49.015625 6.21875 \r\nQ 42.328125 -1.421875 30.609375 -1.421875 \r\nQ 18.84375 -1.421875 12.171875 6.21875 \r\nQ 5.515625 13.875 5.515625 27.296875 \r\nQ 5.515625 40.765625 12.171875 48.375 \r\nQ 18.84375 56 30.609375 56 \r\nz\r\n\" id=\"DejaVuSans-111\"/>\r\n      <path d=\"M 18.3125 70.21875 \r\nL 18.3125 54.6875 \r\nL 36.8125 54.6875 \r\nL 36.8125 47.703125 \r\nL 18.3125 47.703125 \r\nL 18.3125 18.015625 \r\nQ 18.3125 11.328125 20.140625 9.421875 \r\nQ 21.96875 7.515625 27.59375 7.515625 \r\nL 36.8125 7.515625 \r\nL 36.8125 0 \r\nL 27.59375 0 \r\nQ 17.1875 0 13.234375 3.875 \r\nQ 9.28125 7.765625 9.28125 18.015625 \r\nL 9.28125 47.703125 \r\nL 2.6875 47.703125 \r\nL 2.6875 54.6875 \r\nL 9.28125 54.6875 \r\nL 9.28125 70.21875 \r\nz\r\n\" id=\"DejaVuSans-116\"/>\r\n      <path d=\"M 34.28125 27.484375 \r\nQ 23.390625 27.484375 19.1875 25 \r\nQ 14.984375 22.515625 14.984375 16.5 \r\nQ 14.984375 11.71875 18.140625 8.90625 \r\nQ 21.296875 6.109375 26.703125 6.109375 \r\nQ 34.1875 6.109375 38.703125 11.40625 \r\nQ 43.21875 16.703125 43.21875 25.484375 \r\nL 43.21875 27.484375 \r\nz\r\nM 52.203125 31.203125 \r\nL 52.203125 0 \r\nL 43.21875 0 \r\nL 43.21875 8.296875 \r\nQ 40.140625 3.328125 35.546875 0.953125 \r\nQ 30.953125 -1.421875 24.3125 -1.421875 \r\nQ 15.921875 -1.421875 10.953125 3.296875 \r\nQ 6 8.015625 6 15.921875 \r\nQ 6 25.140625 12.171875 29.828125 \r\nQ 18.359375 34.515625 30.609375 34.515625 \r\nL 43.21875 34.515625 \r\nL 43.21875 35.40625 \r\nQ 43.21875 41.609375 39.140625 45 \r\nQ 35.0625 48.390625 27.6875 48.390625 \r\nQ 23 48.390625 18.546875 47.265625 \r\nQ 14.109375 46.140625 10.015625 43.890625 \r\nL 10.015625 52.203125 \r\nQ 14.9375 54.109375 19.578125 55.046875 \r\nQ 24.21875 56 28.609375 56 \r\nQ 40.484375 56 46.34375 49.84375 \r\nQ 52.203125 43.703125 52.203125 31.203125 \r\nz\r\n\" id=\"DejaVuSans-97\"/>\r\n      <path d=\"M 9.421875 75.984375 \r\nL 18.40625 75.984375 \r\nL 18.40625 0 \r\nL 9.421875 0 \r\nz\r\n\" id=\"DejaVuSans-108\"/>\r\n      <path id=\"DejaVuSans-32\"/>\r\n      <path d=\"M 19.671875 64.796875 \r\nL 19.671875 37.40625 \r\nL 32.078125 37.40625 \r\nQ 38.96875 37.40625 42.71875 40.96875 \r\nQ 46.484375 44.53125 46.484375 51.125 \r\nQ 46.484375 57.671875 42.71875 61.234375 \r\nQ 38.96875 64.796875 32.078125 64.796875 \r\nz\r\nM 9.8125 72.90625 \r\nL 32.078125 72.90625 \r\nQ 44.34375 72.90625 50.609375 67.359375 \r\nQ 56.890625 61.8125 56.890625 51.125 \r\nQ 56.890625 40.328125 50.609375 34.8125 \r\nQ 44.34375 29.296875 32.078125 29.296875 \r\nL 19.671875 29.296875 \r\nL 19.671875 0 \r\nL 9.8125 0 \r\nz\r\n\" id=\"DejaVuSans-80\"/>\r\n      <path d=\"M 8.5 21.578125 \r\nL 8.5 54.6875 \r\nL 17.484375 54.6875 \r\nL 17.484375 21.921875 \r\nQ 17.484375 14.15625 20.5 10.265625 \r\nQ 23.53125 6.390625 29.59375 6.390625 \r\nQ 36.859375 6.390625 41.078125 11.03125 \r\nQ 45.3125 15.671875 45.3125 23.6875 \r\nL 45.3125 54.6875 \r\nL 54.296875 54.6875 \r\nL 54.296875 0 \r\nL 45.3125 0 \r\nL 45.3125 8.40625 \r\nQ 42.046875 3.421875 37.71875 1 \r\nQ 33.40625 -1.421875 27.6875 -1.421875 \r\nQ 18.265625 -1.421875 13.375 4.4375 \r\nQ 8.5 10.296875 8.5 21.578125 \r\nz\r\nM 31.109375 56 \r\nz\r\n\" id=\"DejaVuSans-117\"/>\r\n      <path d=\"M 48.6875 27.296875 \r\nQ 48.6875 37.203125 44.609375 42.84375 \r\nQ 40.53125 48.484375 33.40625 48.484375 \r\nQ 26.265625 48.484375 22.1875 42.84375 \r\nQ 18.109375 37.203125 18.109375 27.296875 \r\nQ 18.109375 17.390625 22.1875 11.75 \r\nQ 26.265625 6.109375 33.40625 6.109375 \r\nQ 40.53125 6.109375 44.609375 11.75 \r\nQ 48.6875 17.390625 48.6875 27.296875 \r\nz\r\nM 18.109375 46.390625 \r\nQ 20.953125 51.265625 25.265625 53.625 \r\nQ 29.59375 56 35.59375 56 \r\nQ 45.5625 56 51.78125 48.09375 \r\nQ 58.015625 40.1875 58.015625 27.296875 \r\nQ 58.015625 14.40625 51.78125 6.484375 \r\nQ 45.5625 -1.421875 35.59375 -1.421875 \r\nQ 29.59375 -1.421875 25.265625 0.953125 \r\nQ 20.953125 3.328125 18.109375 8.203125 \r\nL 18.109375 0 \r\nL 9.078125 0 \r\nL 9.078125 75.984375 \r\nL 18.109375 75.984375 \r\nz\r\n\" id=\"DejaVuSans-98\"/>\r\n      <path d=\"M 9.421875 54.6875 \r\nL 18.40625 54.6875 \r\nL 18.40625 0 \r\nL 9.421875 0 \r\nz\r\nM 9.421875 75.984375 \r\nL 18.40625 75.984375 \r\nL 18.40625 64.59375 \r\nL 9.421875 64.59375 \r\nz\r\n\" id=\"DejaVuSans-105\"/>\r\n      <path d=\"M 48.78125 52.59375 \r\nL 48.78125 44.1875 \r\nQ 44.96875 46.296875 41.140625 47.34375 \r\nQ 37.3125 48.390625 33.40625 48.390625 \r\nQ 24.65625 48.390625 19.8125 42.84375 \r\nQ 14.984375 37.3125 14.984375 27.296875 \r\nQ 14.984375 17.28125 19.8125 11.734375 \r\nQ 24.65625 6.203125 33.40625 6.203125 \r\nQ 37.3125 6.203125 41.140625 7.25 \r\nQ 44.96875 8.296875 48.78125 10.40625 \r\nL 48.78125 2.09375 \r\nQ 45.015625 0.34375 40.984375 -0.53125 \r\nQ 36.96875 -1.421875 32.421875 -1.421875 \r\nQ 20.0625 -1.421875 12.78125 6.34375 \r\nQ 5.515625 14.109375 5.515625 27.296875 \r\nQ 5.515625 40.671875 12.859375 48.328125 \r\nQ 20.21875 56 33.015625 56 \r\nQ 37.15625 56 41.109375 55.140625 \r\nQ 45.0625 54.296875 48.78125 52.59375 \r\nz\r\n\" id=\"DejaVuSans-99\"/>\r\n      <path d=\"M 19.671875 64.796875 \r\nL 19.671875 8.109375 \r\nL 31.59375 8.109375 \r\nQ 46.6875 8.109375 53.6875 14.9375 \r\nQ 60.6875 21.78125 60.6875 36.53125 \r\nQ 60.6875 51.171875 53.6875 57.984375 \r\nQ 46.6875 64.796875 31.59375 64.796875 \r\nz\r\nM 9.8125 72.90625 \r\nL 30.078125 72.90625 \r\nQ 51.265625 72.90625 61.171875 64.09375 \r\nQ 71.09375 55.28125 71.09375 36.53125 \r\nQ 71.09375 17.671875 61.125 8.828125 \r\nQ 51.171875 0 30.078125 0 \r\nL 9.8125 0 \r\nz\r\n\" id=\"DejaVuSans-68\"/>\r\n      <path d=\"M 39.40625 66.21875 \r\nQ 28.65625 66.21875 22.328125 58.203125 \r\nQ 16.015625 50.203125 16.015625 36.375 \r\nQ 16.015625 22.609375 22.328125 14.59375 \r\nQ 28.65625 6.59375 39.40625 6.59375 \r\nQ 50.140625 6.59375 56.421875 14.59375 \r\nQ 62.703125 22.609375 62.703125 36.375 \r\nQ 62.703125 50.203125 56.421875 58.203125 \r\nQ 50.140625 66.21875 39.40625 66.21875 \r\nz\r\nM 39.40625 74.21875 \r\nQ 54.734375 74.21875 63.90625 63.9375 \r\nQ 73.09375 53.65625 73.09375 36.375 \r\nQ 73.09375 19.140625 63.90625 8.859375 \r\nQ 54.734375 -1.421875 39.40625 -1.421875 \r\nQ 24.03125 -1.421875 14.8125 8.828125 \r\nQ 5.609375 19.09375 5.609375 36.375 \r\nQ 5.609375 53.65625 14.8125 63.9375 \r\nQ 24.03125 74.21875 39.40625 74.21875 \r\nz\r\n\" id=\"DejaVuSans-79\"/>\r\n      <path d=\"M 44.28125 53.078125 \r\nL 44.28125 44.578125 \r\nQ 40.484375 46.53125 36.375 47.5 \r\nQ 32.28125 48.484375 27.875 48.484375 \r\nQ 21.1875 48.484375 17.84375 46.4375 \r\nQ 14.5 44.390625 14.5 40.28125 \r\nQ 14.5 37.15625 16.890625 35.375 \r\nQ 19.28125 33.59375 26.515625 31.984375 \r\nL 29.59375 31.296875 \r\nQ 39.15625 29.25 43.1875 25.515625 \r\nQ 47.21875 21.78125 47.21875 15.09375 \r\nQ 47.21875 7.46875 41.1875 3.015625 \r\nQ 35.15625 -1.421875 24.609375 -1.421875 \r\nQ 20.21875 -1.421875 15.453125 -0.5625 \r\nQ 10.6875 0.296875 5.421875 2 \r\nL 5.421875 11.28125 \r\nQ 10.40625 8.6875 15.234375 7.390625 \r\nQ 20.0625 6.109375 24.8125 6.109375 \r\nQ 31.15625 6.109375 34.5625 8.28125 \r\nQ 37.984375 10.453125 37.984375 14.40625 \r\nQ 37.984375 18.0625 35.515625 20.015625 \r\nQ 33.0625 21.96875 24.703125 23.78125 \r\nL 21.578125 24.515625 \r\nQ 13.234375 26.265625 9.515625 29.90625 \r\nQ 5.8125 33.546875 5.8125 39.890625 \r\nQ 5.8125 47.609375 11.28125 51.796875 \r\nQ 16.75 56 26.8125 56 \r\nQ 31.78125 56 36.171875 55.265625 \r\nQ 40.578125 54.546875 44.28125 53.078125 \r\nz\r\n\" id=\"DejaVuSans-115\"/>\r\n      <path d=\"M 54.890625 33.015625 \r\nL 54.890625 0 \r\nL 45.90625 0 \r\nL 45.90625 32.71875 \r\nQ 45.90625 40.484375 42.875 44.328125 \r\nQ 39.84375 48.1875 33.796875 48.1875 \r\nQ 26.515625 48.1875 22.3125 43.546875 \r\nQ 18.109375 38.921875 18.109375 30.90625 \r\nL 18.109375 0 \r\nL 9.078125 0 \r\nL 9.078125 54.6875 \r\nL 18.109375 54.6875 \r\nL 18.109375 46.1875 \r\nQ 21.34375 51.125 25.703125 53.5625 \r\nQ 30.078125 56 35.796875 56 \r\nQ 45.21875 56 50.046875 50.171875 \r\nQ 54.890625 44.34375 54.890625 33.015625 \r\nz\r\n\" id=\"DejaVuSans-110\"/>\r\n      <path d=\"M 45.40625 46.390625 \r\nL 45.40625 75.984375 \r\nL 54.390625 75.984375 \r\nL 54.390625 0 \r\nL 45.40625 0 \r\nL 45.40625 8.203125 \r\nQ 42.578125 3.328125 38.25 0.953125 \r\nQ 33.9375 -1.421875 27.875 -1.421875 \r\nQ 17.96875 -1.421875 11.734375 6.484375 \r\nQ 5.515625 14.40625 5.515625 27.296875 \r\nQ 5.515625 40.1875 11.734375 48.09375 \r\nQ 17.96875 56 27.875 56 \r\nQ 33.9375 56 38.25 53.625 \r\nQ 42.578125 51.265625 45.40625 46.390625 \r\nz\r\nM 14.796875 27.296875 \r\nQ 14.796875 17.390625 18.875 11.75 \r\nQ 22.953125 6.109375 30.078125 6.109375 \r\nQ 37.203125 6.109375 41.296875 11.75 \r\nQ 45.40625 17.390625 45.40625 27.296875 \r\nQ 45.40625 37.203125 41.296875 42.84375 \r\nQ 37.203125 48.484375 30.078125 48.484375 \r\nQ 22.953125 48.484375 18.875 42.84375 \r\nQ 14.796875 37.203125 14.796875 27.296875 \r\nz\r\n\" id=\"DejaVuSans-100\"/>\r\n      <path d=\"M 45.40625 27.984375 \r\nQ 45.40625 37.75 41.375 43.109375 \r\nQ 37.359375 48.484375 30.078125 48.484375 \r\nQ 22.859375 48.484375 18.828125 43.109375 \r\nQ 14.796875 37.75 14.796875 27.984375 \r\nQ 14.796875 18.265625 18.828125 12.890625 \r\nQ 22.859375 7.515625 30.078125 7.515625 \r\nQ 37.359375 7.515625 41.375 12.890625 \r\nQ 45.40625 18.265625 45.40625 27.984375 \r\nz\r\nM 54.390625 6.78125 \r\nQ 54.390625 -7.171875 48.1875 -13.984375 \r\nQ 42 -20.796875 29.203125 -20.796875 \r\nQ 24.46875 -20.796875 20.265625 -20.09375 \r\nQ 16.0625 -19.390625 12.109375 -17.921875 \r\nL 12.109375 -9.1875 \r\nQ 16.0625 -11.328125 19.921875 -12.34375 \r\nQ 23.78125 -13.375 27.78125 -13.375 \r\nQ 36.625 -13.375 41.015625 -8.765625 \r\nQ 45.40625 -4.15625 45.40625 5.171875 \r\nL 45.40625 9.625 \r\nQ 42.625 4.78125 38.28125 2.390625 \r\nQ 33.9375 0 27.875 0 \r\nQ 17.828125 0 11.671875 7.65625 \r\nQ 5.515625 15.328125 5.515625 27.984375 \r\nQ 5.515625 40.671875 11.671875 48.328125 \r\nQ 17.828125 56 27.875 56 \r\nQ 33.9375 56 38.28125 53.609375 \r\nQ 42.625 51.21875 45.40625 46.390625 \r\nL 45.40625 54.6875 \r\nL 54.390625 54.6875 \r\nz\r\n\" id=\"DejaVuSans-103\"/>\r\n      <path d=\"M 9.8125 72.90625 \r\nL 24.515625 72.90625 \r\nL 43.109375 23.296875 \r\nL 61.8125 72.90625 \r\nL 76.515625 72.90625 \r\nL 76.515625 0 \r\nL 66.890625 0 \r\nL 66.890625 64.015625 \r\nL 48.09375 14.015625 \r\nL 38.1875 14.015625 \r\nL 19.390625 64.015625 \r\nL 19.390625 0 \r\nL 9.8125 0 \r\nz\r\n\" id=\"DejaVuSans-77\"/>\r\n      <path d=\"M 18.109375 8.203125 \r\nL 18.109375 -20.796875 \r\nL 9.078125 -20.796875 \r\nL 9.078125 54.6875 \r\nL 18.109375 54.6875 \r\nL 18.109375 46.390625 \r\nQ 20.953125 51.265625 25.265625 53.625 \r\nQ 29.59375 56 35.59375 56 \r\nQ 45.5625 56 51.78125 48.09375 \r\nQ 58.015625 40.1875 58.015625 27.296875 \r\nQ 58.015625 14.40625 51.78125 6.484375 \r\nQ 45.5625 -1.421875 35.59375 -1.421875 \r\nQ 29.59375 -1.421875 25.265625 0.953125 \r\nQ 20.953125 3.328125 18.109375 8.203125 \r\nz\r\nM 48.6875 27.296875 \r\nQ 48.6875 37.203125 44.609375 42.84375 \r\nQ 40.53125 48.484375 33.40625 48.484375 \r\nQ 26.265625 48.484375 22.1875 42.84375 \r\nQ 18.109375 37.203125 18.109375 27.296875 \r\nQ 18.109375 17.390625 22.1875 11.75 \r\nQ 26.265625 6.109375 33.40625 6.109375 \r\nQ 40.53125 6.109375 44.609375 11.75 \r\nQ 48.6875 17.390625 48.6875 27.296875 \r\nz\r\n\" id=\"DejaVuSans-112\"/>\r\n      <path d=\"M 41.109375 46.296875 \r\nQ 39.59375 47.171875 37.8125 47.578125 \r\nQ 36.03125 48 33.890625 48 \r\nQ 26.265625 48 22.1875 43.046875 \r\nQ 18.109375 38.09375 18.109375 28.8125 \r\nL 18.109375 0 \r\nL 9.078125 0 \r\nL 9.078125 54.6875 \r\nL 18.109375 54.6875 \r\nL 18.109375 46.1875 \r\nQ 20.953125 51.171875 25.484375 53.578125 \r\nQ 30.03125 56 36.53125 56 \r\nQ 37.453125 56 38.578125 55.875 \r\nQ 39.703125 55.765625 41.0625 55.515625 \r\nz\r\n\" id=\"DejaVuSans-114\"/>\r\n      <path d=\"M 39.40625 66.21875 \r\nQ 28.65625 66.21875 22.328125 58.203125 \r\nQ 16.015625 50.203125 16.015625 36.375 \r\nQ 16.015625 22.609375 22.328125 14.59375 \r\nQ 28.65625 6.59375 39.40625 6.59375 \r\nQ 50.140625 6.59375 56.421875 14.59375 \r\nQ 62.703125 22.609375 62.703125 36.375 \r\nQ 62.703125 50.203125 56.421875 58.203125 \r\nQ 50.140625 66.21875 39.40625 66.21875 \r\nz\r\nM 53.21875 1.3125 \r\nL 66.21875 -12.890625 \r\nL 54.296875 -12.890625 \r\nL 43.5 -1.21875 \r\nQ 41.890625 -1.3125 41.03125 -1.359375 \r\nQ 40.1875 -1.421875 39.40625 -1.421875 \r\nQ 24.03125 -1.421875 14.8125 8.859375 \r\nQ 5.609375 19.140625 5.609375 36.375 \r\nQ 5.609375 53.65625 14.8125 63.9375 \r\nQ 24.03125 74.21875 39.40625 74.21875 \r\nQ 54.734375 74.21875 63.90625 63.9375 \r\nQ 73.09375 53.65625 73.09375 36.375 \r\nQ 73.09375 23.6875 67.984375 14.640625 \r\nQ 62.890625 5.609375 53.21875 1.3125 \r\nz\r\n\" id=\"DejaVuSans-81\"/>\r\n     </defs>\r\n     <use xlink:href=\"#DejaVuSans-84\"/>\r\n     <use x=\"44.083984\" xlink:href=\"#DejaVuSans-111\"/>\r\n     <use x=\"105.265625\" xlink:href=\"#DejaVuSans-116\"/>\r\n     <use x=\"144.474609\" xlink:href=\"#DejaVuSans-97\"/>\r\n     <use x=\"205.753906\" xlink:href=\"#DejaVuSans-108\"/>\r\n     <use x=\"233.537109\" xlink:href=\"#DejaVuSans-32\"/>\r\n     <use x=\"265.324219\" xlink:href=\"#DejaVuSans-80\"/>\r\n     <use x=\"323.876953\" xlink:href=\"#DejaVuSans-117\"/>\r\n     <use x=\"387.255859\" xlink:href=\"#DejaVuSans-98\"/>\r\n     <use x=\"450.732422\" xlink:href=\"#DejaVuSans-108\"/>\r\n     <use x=\"478.515625\" xlink:href=\"#DejaVuSans-105\"/>\r\n     <use x=\"506.298828\" xlink:href=\"#DejaVuSans-99\"/>\r\n     <use x=\"561.279297\" xlink:href=\"#DejaVuSans-32\"/>\r\n     <use x=\"593.066406\" xlink:href=\"#DejaVuSans-68\"/>\r\n     <use x=\"670.068359\" xlink:href=\"#DejaVuSans-101\"/>\r\n     <use x=\"731.591797\" xlink:href=\"#DejaVuSans-98\"/>\r\n     <use x=\"795.068359\" xlink:href=\"#DejaVuSans-116\"/>\r\n     <use x=\"834.277344\" xlink:href=\"#DejaVuSans-32\"/>\r\n     <use x=\"866.064453\" xlink:href=\"#DejaVuSans-79\"/>\r\n     <use x=\"944.775391\" xlink:href=\"#DejaVuSans-117\"/>\r\n     <use x=\"1008.154297\" xlink:href=\"#DejaVuSans-116\"/>\r\n     <use x=\"1047.363281\" xlink:href=\"#DejaVuSans-115\"/>\r\n     <use x=\"1099.462891\" xlink:href=\"#DejaVuSans-116\"/>\r\n     <use x=\"1138.671875\" xlink:href=\"#DejaVuSans-97\"/>\r\n     <use x=\"1199.951172\" xlink:href=\"#DejaVuSans-110\"/>\r\n     <use x=\"1263.330078\" xlink:href=\"#DejaVuSans-100\"/>\r\n     <use x=\"1326.806641\" xlink:href=\"#DejaVuSans-105\"/>\r\n     <use x=\"1354.589844\" xlink:href=\"#DejaVuSans-110\"/>\r\n     <use x=\"1417.96875\" xlink:href=\"#DejaVuSans-103\"/>\r\n     <use x=\"1481.445312\" xlink:href=\"#DejaVuSans-32\"/>\r\n     <use x=\"1513.232422\" xlink:href=\"#DejaVuSans-105\"/>\r\n     <use x=\"1541.015625\" xlink:href=\"#DejaVuSans-110\"/>\r\n     <use x=\"1604.394531\" xlink:href=\"#DejaVuSans-32\"/>\r\n     <use x=\"1636.181641\" xlink:href=\"#DejaVuSans-77\"/>\r\n     <use x=\"1722.460938\" xlink:href=\"#DejaVuSans-105\"/>\r\n     <use x=\"1750.244141\" xlink:href=\"#DejaVuSans-108\"/>\r\n     <use x=\"1778.027344\" xlink:href=\"#DejaVuSans-108\"/>\r\n     <use x=\"1805.810547\" xlink:href=\"#DejaVuSans-105\"/>\r\n     <use x=\"1833.59375\" xlink:href=\"#DejaVuSans-111\"/>\r\n     <use x=\"1894.775391\" xlink:href=\"#DejaVuSans-110\"/>\r\n     <use x=\"1958.154297\" xlink:href=\"#DejaVuSans-115\"/>\r\n     <use x=\"2010.253906\" xlink:href=\"#DejaVuSans-32\"/>\r\n     <use x=\"2042.041016\" xlink:href=\"#DejaVuSans-112\"/>\r\n     <use x=\"2105.517578\" xlink:href=\"#DejaVuSans-101\"/>\r\n     <use x=\"2167.041016\" xlink:href=\"#DejaVuSans-114\"/>\r\n     <use x=\"2208.154297\" xlink:href=\"#DejaVuSans-32\"/>\r\n     <use x=\"2239.941406\" xlink:href=\"#DejaVuSans-81\"/>\r\n     <use x=\"2318.652344\" xlink:href=\"#DejaVuSans-117\"/>\r\n     <use x=\"2382.03125\" xlink:href=\"#DejaVuSans-97\"/>\r\n     <use x=\"2443.310547\" xlink:href=\"#DejaVuSans-114\"/>\r\n     <use x=\"2484.423828\" xlink:href=\"#DejaVuSans-116\"/>\r\n     <use x=\"2523.632812\" xlink:href=\"#DejaVuSans-101\"/>\r\n     <use x=\"2585.15625\" xlink:href=\"#DejaVuSans-114\"/>\r\n    </g>\r\n   </g>\r\n  </g>\r\n </g>\r\n <defs>\r\n  <clipPath id=\"p37d7159b86\">\r\n   <rect height=\"434.88\" width=\"1116\" x=\"30.103125\" y=\"22.318125\"/>\r\n  </clipPath>\r\n </defs>\r\n</svg>\r\n",
      "image/png": "[encoded data removed]"
     },
     "metadata": {
      "needs_background": "light"
     }
    }
   ],
   "source": [
    "x = rng #beggining of recorded data to current, taken from record date column\n",
    "y = TPDO[::-1] #reversed data information to match the rng index\n",
    "fig, ax = plt.subplots(figsize = (20, 8))\n",
    "ax.plot(x, y)\n",
    "ax.set_title('Total Public Debt Outstanding in Millions per Quarter')\n",
    "\n",
    "#final graph messed up due to data inconsistently having data at either 15 or 16 intervals\n"
   ]
  },
  {
   "cell_type": "code",
   "execution_count": null,
   "metadata": {},
   "outputs": [],
   "source": []
  }
 ]
}